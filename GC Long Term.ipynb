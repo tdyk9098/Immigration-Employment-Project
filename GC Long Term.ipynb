{
 "cells": [
  {
   "cell_type": "code",
   "execution_count": 1,
   "id": "f7d4dc6c",
   "metadata": {},
   "outputs": [
    {
     "data": {
      "text/html": [
       "        <script type=\"text/javascript\">\n",
       "        window.PlotlyConfig = {MathJaxConfig: 'local'};\n",
       "        if (window.MathJax && window.MathJax.Hub && window.MathJax.Hub.Config) {window.MathJax.Hub.Config({SVG: {font: \"STIX-Web\"}});}\n",
       "        if (typeof require !== 'undefined') {\n",
       "        require.undef(\"plotly\");\n",
       "        requirejs.config({\n",
       "            paths: {\n",
       "                'plotly': ['https://cdn.plot.ly/plotly-2.12.1.min']\n",
       "            }\n",
       "        });\n",
       "        require(['plotly'], function(Plotly) {\n",
       "            window._Plotly = Plotly;\n",
       "        });\n",
       "        }\n",
       "        </script>\n",
       "        "
      ]
     },
     "metadata": {},
     "output_type": "display_data"
    },
    {
     "data": {
      "text/html": [
       "        <script type=\"text/javascript\">\n",
       "        window.PlotlyConfig = {MathJaxConfig: 'local'};\n",
       "        if (window.MathJax && window.MathJax.Hub && window.MathJax.Hub.Config) {window.MathJax.Hub.Config({SVG: {font: \"STIX-Web\"}});}\n",
       "        if (typeof require !== 'undefined') {\n",
       "        require.undef(\"plotly\");\n",
       "        requirejs.config({\n",
       "            paths: {\n",
       "                'plotly': ['https://cdn.plot.ly/plotly-2.12.1.min']\n",
       "            }\n",
       "        });\n",
       "        require(['plotly'], function(Plotly) {\n",
       "            window._Plotly = Plotly;\n",
       "        });\n",
       "        }\n",
       "        </script>\n",
       "        "
      ]
     },
     "metadata": {},
     "output_type": "display_data"
    }
   ],
   "source": [
    "import numpy as np\n",
    "import pandas as pd\n",
    "import matplotlib.pyplot as plt\n",
    "import seaborn as sns\n",
    "import scipy.stats as st\n",
    "import cufflinks as cf\n",
    "from plotly.offline import download_plotlyjs, init_notebook_mode, plot, iplot\n",
    "init_notebook_mode(connected = True)\n",
    "cf.go_offline()\n",
    "import chart_studio.plotly as py\n",
    "import datetime as dt"
   ]
  },
  {
   "cell_type": "code",
   "execution_count": 2,
   "id": "34d5e470",
   "metadata": {},
   "outputs": [],
   "source": [
    "df1 = pd.read_csv(\"GCLT1.csv\", low_memory = False,index_col = \"DECISION_DATE\")\n",
    "df2 = pd.read_csv(\"GCLT2.csv\", low_memory = False,index_col = \"DECISION_DATE\")"
   ]
  },
  {
   "cell_type": "code",
   "execution_count": 3,
   "id": "4e46866b",
   "metadata": {},
   "outputs": [],
   "source": [
    "df = pd.concat([df1,df2],axis = 0)"
   ]
  },
  {
   "cell_type": "code",
   "execution_count": 4,
   "id": "16ce8aec",
   "metadata": {},
   "outputs": [],
   "source": [
    "df = df.reset_index()"
   ]
  },
  {
   "cell_type": "code",
   "execution_count": 5,
   "id": "53f381ca",
   "metadata": {},
   "outputs": [],
   "source": [
    "df[\"MONTH\"] = pd.to_datetime(df[\"DECISION_DATE\"]).apply(lambda x:x.month)"
   ]
  },
  {
   "cell_type": "code",
   "execution_count": 6,
   "id": "4ee57bee",
   "metadata": {},
   "outputs": [],
   "source": [
    "df[\"YEAR\"] = pd.to_datetime(df[\"DECISION_DATE\"]).apply(lambda x:x.year)"
   ]
  },
  {
   "cell_type": "code",
   "execution_count": 7,
   "id": "4b99da64",
   "metadata": {},
   "outputs": [],
   "source": [
    "df = df.set_index(\"DECISION_DATE\")"
   ]
  },
  {
   "cell_type": "code",
   "execution_count": 8,
   "id": "2cde1ff9",
   "metadata": {},
   "outputs": [],
   "source": [
    "# changing certified and certified expired to 1: 1 is good. and withdrawn and denied to 0: 0 is bad\n",
    "df[\"CASE_STATUS\"] = df[\"CASE_STATUS\"].replace([\"CERTIFIED-EXPIRED\",\"CERTIFIED\"],[1,1]).replace([\"WITHDRAWN\",\"DENIED\"],[0,0])"
   ]
  },
  {
   "cell_type": "code",
   "execution_count": 9,
   "id": "49ccaa5b",
   "metadata": {},
   "outputs": [],
   "source": [
    "# Cleaning up salary offered, and salary PW: if not number then null\n",
    "df[\"WAGE_OFFER_FROM_9089\"] = pd.to_numeric(df[\"WAGE_OFFER_FROM_9089\"], errors='coerce')\n",
    "df[\"WAGE_OFFER_TO_9089\"] = pd.to_numeric(df[\"WAGE_OFFER_TO_9089\"], errors='coerce')\n",
    "df[\"PW_AMOUNT_9089\"] = pd.to_numeric(df[\"PW_AMOUNT_9089\"], errors='coerce')"
   ]
  },
  {
   "cell_type": "code",
   "execution_count": 10,
   "id": "a68f27aa",
   "metadata": {},
   "outputs": [],
   "source": [
    "# FIXING THE PW and SALARY UNIT OF PAY\n",
    "df[\"PW_UNIT_OF_PAY_9089\"] = df[\"PW_UNIT_OF_PAY_9089\"].replace([\"HOUR\",\"YEAR\",\"WEEK\",\"MONTH\",\"BI-WEEKLY\"],[\"HR\",\"YR\",\"WK\",\"MTH\",\"BI\"])\n",
    "df[\"WAGE_OFFER_UNIT_OF_PAY_9089\"] = df[\"WAGE_OFFER_UNIT_OF_PAY_9089\"].replace([\"HOUR\",\"YEAR\",\"WEEK\",\"MONTH\",\"BI-WEEKLY\"],[\"HR\",\"YR\",\"WK\",\"MTH\",\"BI\"])"
   ]
  },
  {
   "cell_type": "code",
   "execution_count": 11,
   "id": "c05b91a2",
   "metadata": {},
   "outputs": [],
   "source": [
    "# Annualized Salaries: Actual Salary\n",
    "def annual(row):\n",
    "    if row[\"WAGE_OFFER_UNIT_OF_PAY_9089\"] == \"YR\":\n",
    "        return 1\n",
    "    elif row[\"WAGE_OFFER_UNIT_OF_PAY_9089\"] == \"MTH\": \n",
    "        return 12\n",
    "    elif row[\"WAGE_OFFER_UNIT_OF_PAY_9089\"] == \"WK\": \n",
    "        return 52\n",
    "    elif row[\"WAGE_OFFER_UNIT_OF_PAY_9089\"] == \"BI\": \n",
    "        return 26\n",
    "    elif row[\"WAGE_OFFER_UNIT_OF_PAY_9089\"] == \"HR\": \n",
    "        return 2080\n",
    "mult = pd.DataFrame(df.apply(lambda row:annual(row), axis = 1))"
   ]
  },
  {
   "cell_type": "code",
   "execution_count": 12,
   "id": "233c1902",
   "metadata": {},
   "outputs": [
    {
     "data": {
      "text/html": [
       "<div>\n",
       "<style scoped>\n",
       "    .dataframe tbody tr th:only-of-type {\n",
       "        vertical-align: middle;\n",
       "    }\n",
       "\n",
       "    .dataframe tbody tr th {\n",
       "        vertical-align: top;\n",
       "    }\n",
       "\n",
       "    .dataframe thead th {\n",
       "        text-align: right;\n",
       "    }\n",
       "</style>\n",
       "<table border=\"1\" class=\"dataframe\">\n",
       "  <thead>\n",
       "    <tr style=\"text-align: right;\">\n",
       "      <th></th>\n",
       "      <th>WAGE_OFFER_FROM_9089</th>\n",
       "    </tr>\n",
       "    <tr>\n",
       "      <th>DECISION_DATE</th>\n",
       "      <th></th>\n",
       "    </tr>\n",
       "  </thead>\n",
       "  <tbody>\n",
       "    <tr>\n",
       "      <th>9/29/08</th>\n",
       "      <td>2080.0</td>\n",
       "    </tr>\n",
       "    <tr>\n",
       "      <th>11/29/07</th>\n",
       "      <td>1.0</td>\n",
       "    </tr>\n",
       "    <tr>\n",
       "      <th>7/10/08</th>\n",
       "      <td>2080.0</td>\n",
       "    </tr>\n",
       "    <tr>\n",
       "      <th>10/15/07</th>\n",
       "      <td>2080.0</td>\n",
       "    </tr>\n",
       "    <tr>\n",
       "      <th>9/30/08</th>\n",
       "      <td>2080.0</td>\n",
       "    </tr>\n",
       "    <tr>\n",
       "      <th>...</th>\n",
       "      <td>...</td>\n",
       "    </tr>\n",
       "    <tr>\n",
       "      <th>9/30/21</th>\n",
       "      <td>1.0</td>\n",
       "    </tr>\n",
       "    <tr>\n",
       "      <th>9/30/21</th>\n",
       "      <td>1.0</td>\n",
       "    </tr>\n",
       "    <tr>\n",
       "      <th>9/30/21</th>\n",
       "      <td>1.0</td>\n",
       "    </tr>\n",
       "    <tr>\n",
       "      <th>9/30/21</th>\n",
       "      <td>1.0</td>\n",
       "    </tr>\n",
       "    <tr>\n",
       "      <th>9/30/21</th>\n",
       "      <td>1.0</td>\n",
       "    </tr>\n",
       "  </tbody>\n",
       "</table>\n",
       "<p>1174260 rows × 1 columns</p>\n",
       "</div>"
      ],
      "text/plain": [
       "               WAGE_OFFER_FROM_9089\n",
       "DECISION_DATE                      \n",
       "9/29/08                      2080.0\n",
       "11/29/07                        1.0\n",
       "7/10/08                      2080.0\n",
       "10/15/07                     2080.0\n",
       "9/30/08                      2080.0\n",
       "...                             ...\n",
       "9/30/21                         1.0\n",
       "9/30/21                         1.0\n",
       "9/30/21                         1.0\n",
       "9/30/21                         1.0\n",
       "9/30/21                         1.0\n",
       "\n",
       "[1174260 rows x 1 columns]"
      ]
     },
     "execution_count": 12,
     "metadata": {},
     "output_type": "execute_result"
    }
   ],
   "source": [
    "mult.columns=[\"WAGE_OFFER_FROM_9089\"]\n",
    "mult"
   ]
  },
  {
   "cell_type": "code",
   "execution_count": 13,
   "id": "c72bc264",
   "metadata": {},
   "outputs": [],
   "source": [
    "df[\"WO_A\"] = pd.DataFrame(df[\"WAGE_OFFER_FROM_9089\"])*mult"
   ]
  },
  {
   "cell_type": "code",
   "execution_count": 14,
   "id": "03095a82",
   "metadata": {},
   "outputs": [],
   "source": [
    "# Annualized Salaries: PW Salary\n",
    "def annuali(row):\n",
    "    if row[\"PW_UNIT_OF_PAY_9089\"] == \"YR\":\n",
    "        return 1\n",
    "    elif row[\"PW_UNIT_OF_PAY_9089\"] == \"MTH\": \n",
    "        return 12\n",
    "    elif row[\"PW_UNIT_OF_PAY_9089\"] == \"WK\": \n",
    "        return 52\n",
    "    elif row[\"PW_UNIT_OF_PAY_9089\"] == \"BI\": \n",
    "        return 26\n",
    "    elif row[\"PW_UNIT_OF_PAY_9089\"] == \"HR\": \n",
    "        return 2080\n",
    "multi = pd.DataFrame(df.apply(lambda row:annuali(row), axis = 1))"
   ]
  },
  {
   "cell_type": "code",
   "execution_count": 15,
   "id": "09bffcfd",
   "metadata": {},
   "outputs": [
    {
     "data": {
      "text/html": [
       "<div>\n",
       "<style scoped>\n",
       "    .dataframe tbody tr th:only-of-type {\n",
       "        vertical-align: middle;\n",
       "    }\n",
       "\n",
       "    .dataframe tbody tr th {\n",
       "        vertical-align: top;\n",
       "    }\n",
       "\n",
       "    .dataframe thead th {\n",
       "        text-align: right;\n",
       "    }\n",
       "</style>\n",
       "<table border=\"1\" class=\"dataframe\">\n",
       "  <thead>\n",
       "    <tr style=\"text-align: right;\">\n",
       "      <th></th>\n",
       "      <th>PW_AMOUNT_9089</th>\n",
       "    </tr>\n",
       "    <tr>\n",
       "      <th>DECISION_DATE</th>\n",
       "      <th></th>\n",
       "    </tr>\n",
       "  </thead>\n",
       "  <tbody>\n",
       "    <tr>\n",
       "      <th>9/29/08</th>\n",
       "      <td>NaN</td>\n",
       "    </tr>\n",
       "    <tr>\n",
       "      <th>11/29/07</th>\n",
       "      <td>NaN</td>\n",
       "    </tr>\n",
       "    <tr>\n",
       "      <th>7/10/08</th>\n",
       "      <td>NaN</td>\n",
       "    </tr>\n",
       "    <tr>\n",
       "      <th>10/15/07</th>\n",
       "      <td>NaN</td>\n",
       "    </tr>\n",
       "    <tr>\n",
       "      <th>9/30/08</th>\n",
       "      <td>NaN</td>\n",
       "    </tr>\n",
       "    <tr>\n",
       "      <th>...</th>\n",
       "      <td>...</td>\n",
       "    </tr>\n",
       "    <tr>\n",
       "      <th>9/30/21</th>\n",
       "      <td>1.0</td>\n",
       "    </tr>\n",
       "    <tr>\n",
       "      <th>9/30/21</th>\n",
       "      <td>1.0</td>\n",
       "    </tr>\n",
       "    <tr>\n",
       "      <th>9/30/21</th>\n",
       "      <td>1.0</td>\n",
       "    </tr>\n",
       "    <tr>\n",
       "      <th>9/30/21</th>\n",
       "      <td>1.0</td>\n",
       "    </tr>\n",
       "    <tr>\n",
       "      <th>9/30/21</th>\n",
       "      <td>1.0</td>\n",
       "    </tr>\n",
       "  </tbody>\n",
       "</table>\n",
       "<p>1174260 rows × 1 columns</p>\n",
       "</div>"
      ],
      "text/plain": [
       "               PW_AMOUNT_9089\n",
       "DECISION_DATE                \n",
       "9/29/08                   NaN\n",
       "11/29/07                  NaN\n",
       "7/10/08                   NaN\n",
       "10/15/07                  NaN\n",
       "9/30/08                   NaN\n",
       "...                       ...\n",
       "9/30/21                   1.0\n",
       "9/30/21                   1.0\n",
       "9/30/21                   1.0\n",
       "9/30/21                   1.0\n",
       "9/30/21                   1.0\n",
       "\n",
       "[1174260 rows x 1 columns]"
      ]
     },
     "execution_count": 15,
     "metadata": {},
     "output_type": "execute_result"
    }
   ],
   "source": [
    "multi.columns=[\"PW_AMOUNT_9089\"]\n",
    "multi"
   ]
  },
  {
   "cell_type": "code",
   "execution_count": 16,
   "id": "7874e103",
   "metadata": {},
   "outputs": [],
   "source": [
    "df[\"PW_A\"] = pd.DataFrame(df[\"PW_AMOUNT_9089\"])*multi"
   ]
  },
  {
   "cell_type": "code",
   "execution_count": 17,
   "id": "685bb4d5",
   "metadata": {},
   "outputs": [],
   "source": [
    "df[\"OW-PW\"] = df[\"WO_A\"] - df[\"PW_A\"]"
   ]
  },
  {
   "cell_type": "code",
   "execution_count": 18,
   "id": "9d949fc9",
   "metadata": {},
   "outputs": [],
   "source": [
    "dforiginal = df"
   ]
  },
  {
   "cell_type": "code",
   "execution_count": 19,
   "id": "474ff467",
   "metadata": {},
   "outputs": [],
   "source": [
    "# each year needs a cut off\n",
    "m07 = df[df[\"YEAR\"] == 2007][\"WO_A\"].quantile(.985)\n",
    "m08 = df[df[\"YEAR\"] == 2008][\"WO_A\"].quantile(.985)\n",
    "m09 = df[df[\"YEAR\"] == 2009][\"WO_A\"].quantile(.985)\n",
    "m10 = df[df[\"YEAR\"] == 2010][\"WO_A\"].quantile(.985)\n",
    "m11 = df[df[\"YEAR\"] == 2011][\"WO_A\"].quantile(.985)\n",
    "m12 = df[df[\"YEAR\"] == 2012][\"WO_A\"].quantile(.985)\n",
    "m13 = df[df[\"YEAR\"] == 2013][\"WO_A\"].quantile(.985)\n",
    "m14 = df[df[\"YEAR\"] == 2014][\"WO_A\"].quantile(.985)\n",
    "m15 = df[df[\"YEAR\"] == 2015][\"WO_A\"].quantile(.985)\n",
    "m16 = df[df[\"YEAR\"] == 2016][\"WO_A\"].quantile(.985)\n",
    "m17 = df[df[\"YEAR\"] == 2017][\"WO_A\"].quantile(.985)\n",
    "m18 = df[df[\"YEAR\"] == 2018][\"WO_A\"].quantile(.985)\n",
    "m19 = df[df[\"YEAR\"] == 2019][\"WO_A\"].quantile(.985)\n",
    "m20 = df[df[\"YEAR\"] == 2020][\"WO_A\"].quantile(.985)\n",
    "m21 = df[df[\"YEAR\"] == 2021][\"WO_A\"].quantile(.985)"
   ]
  },
  {
   "cell_type": "code",
   "execution_count": 20,
   "id": "26599707",
   "metadata": {},
   "outputs": [],
   "source": [
    "m107 = df[df[\"YEAR\"] == 2007][\"PW_A\"].quantile(.985)\n",
    "m108 = df[df[\"YEAR\"] == 2008][\"PW_A\"].quantile(.985)\n",
    "m109 = df[df[\"YEAR\"] == 2009][\"PW_A\"].quantile(.985)\n",
    "m110 = df[df[\"YEAR\"] == 2010][\"PW_A\"].quantile(.985)\n",
    "m111 = df[df[\"YEAR\"] == 2011][\"PW_A\"].quantile(.985)\n",
    "m112 = df[df[\"YEAR\"] == 2012][\"PW_A\"].quantile(.985)\n",
    "m113 = df[df[\"YEAR\"] == 2013][\"PW_A\"].quantile(.985)\n",
    "m114 = df[df[\"YEAR\"] == 2014][\"PW_A\"].quantile(.985)\n",
    "m115 = df[df[\"YEAR\"] == 2015][\"PW_A\"].quantile(.985)\n",
    "m116 = df[df[\"YEAR\"] == 2016][\"PW_A\"].quantile(.985)\n",
    "m117 = df[df[\"YEAR\"] == 2017][\"PW_A\"].quantile(.985)\n",
    "m118 = df[df[\"YEAR\"] == 2018][\"PW_A\"].quantile(.985)\n",
    "m119 = df[df[\"YEAR\"] == 2019][\"PW_A\"].quantile(.985)\n",
    "m120 = df[df[\"YEAR\"] == 2020][\"PW_A\"].quantile(.985)\n",
    "m121 = df[df[\"YEAR\"] == 2021][\"PW_A\"].quantile(.985)"
   ]
  },
  {
   "cell_type": "code",
   "execution_count": 21,
   "id": "b40af1f3",
   "metadata": {},
   "outputs": [],
   "source": [
    "df[\"WO_A\"] = np.where((df[\"YEAR\"] == 2007) & (df[\"WO_A\"] > m07),96260265,df[\"WO_A\"])\n",
    "df[\"WO_A\"] = np.where((df[\"YEAR\"] == 2008) & (df[\"WO_A\"] > m08),96260265,df[\"WO_A\"])\n",
    "df[\"WO_A\"] = np.where((df[\"YEAR\"] == 2009) & (df[\"WO_A\"] > m09),96260265,df[\"WO_A\"])\n",
    "df[\"WO_A\"] = np.where((df[\"YEAR\"] == 2010) & (df[\"WO_A\"] > m10),96260265,df[\"WO_A\"])\n",
    "df[\"WO_A\"] = np.where((df[\"YEAR\"] == 2011) & (df[\"WO_A\"] > m11),96260265,df[\"WO_A\"])\n",
    "df[\"WO_A\"] = np.where((df[\"YEAR\"] == 2012) & (df[\"WO_A\"] > m12),96260265,df[\"WO_A\"])\n",
    "df[\"WO_A\"] = np.where((df[\"YEAR\"] == 2013) & (df[\"WO_A\"] > m13),96260265,df[\"WO_A\"])\n",
    "df[\"WO_A\"] = np.where((df[\"YEAR\"] == 2014) & (df[\"WO_A\"] > m14),96260265,df[\"WO_A\"])\n",
    "df[\"WO_A\"] = np.where((df[\"YEAR\"] == 2015) & (df[\"WO_A\"] > m15),96260265,df[\"WO_A\"])\n",
    "df[\"WO_A\"] = np.where((df[\"YEAR\"] == 2016) & (df[\"WO_A\"] > m16),96260265,df[\"WO_A\"])\n",
    "df[\"WO_A\"] = np.where((df[\"YEAR\"] == 2017) & (df[\"WO_A\"] > m17),96260265,df[\"WO_A\"])\n",
    "df[\"WO_A\"] = np.where((df[\"YEAR\"] == 2018) & (df[\"WO_A\"] > m18),96260265,df[\"WO_A\"])\n",
    "df[\"WO_A\"] = np.where((df[\"YEAR\"] == 2019) & (df[\"WO_A\"] > m19),96260265,df[\"WO_A\"])\n",
    "df[\"WO_A\"] = np.where((df[\"YEAR\"] == 2020) & (df[\"WO_A\"] > m20),96260265,df[\"WO_A\"])\n",
    "df[\"WO_A\"] = np.where((df[\"YEAR\"] == 2021) & (df[\"WO_A\"] > m21),96260265,df[\"WO_A\"])\n",
    "df[\"PW_A\"] = np.where((df[\"YEAR\"] == 2007) & (df[\"PW_A\"] > m107),96260265,df[\"PW_A\"])\n",
    "df[\"PW_A\"] = np.where((df[\"YEAR\"] == 2008) & (df[\"PW_A\"] > m108),96260265,df[\"PW_A\"])\n",
    "df[\"PW_A\"] = np.where((df[\"YEAR\"] == 2009) & (df[\"PW_A\"] > m109),96260265,df[\"PW_A\"])\n",
    "df[\"PW_A\"] = np.where((df[\"YEAR\"] == 2010) & (df[\"PW_A\"] > m110),96260265,df[\"PW_A\"])\n",
    "df[\"PW_A\"] = np.where((df[\"YEAR\"] == 2011) & (df[\"PW_A\"] > m111),96260265,df[\"PW_A\"])\n",
    "df[\"PW_A\"] = np.where((df[\"YEAR\"] == 2012) & (df[\"PW_A\"] > m112),96260265,df[\"PW_A\"])\n",
    "df[\"PW_A\"] = np.where((df[\"YEAR\"] == 2013) & (df[\"PW_A\"] > m113),96260265,df[\"PW_A\"])\n",
    "df[\"PW_A\"] = np.where((df[\"YEAR\"] == 2014) & (df[\"PW_A\"] > m114),96260265,df[\"PW_A\"])\n",
    "df[\"PW_A\"] = np.where((df[\"YEAR\"] == 2015) & (df[\"PW_A\"] > m115),96260265,df[\"PW_A\"])\n",
    "df[\"PW_A\"] = np.where((df[\"YEAR\"] == 2016) & (df[\"PW_A\"] > m116),96260265,df[\"PW_A\"])\n",
    "df[\"PW_A\"] = np.where((df[\"YEAR\"] == 2017) & (df[\"PW_A\"] > m117),96260265,df[\"PW_A\"])\n",
    "df[\"PW_A\"] = np.where((df[\"YEAR\"] == 2018) & (df[\"PW_A\"] > m118),96260265,df[\"PW_A\"])\n",
    "df[\"PW_A\"] = np.where((df[\"YEAR\"] == 2019) & (df[\"PW_A\"] > m119),96260265,df[\"PW_A\"])\n",
    "df[\"PW_A\"] = np.where((df[\"YEAR\"] == 2020) & (df[\"PW_A\"] > m120),96260265,df[\"PW_A\"])\n",
    "df[\"PW_A\"] = np.where((df[\"YEAR\"] == 2021) & (df[\"PW_A\"] > m121),96260265,df[\"PW_A\"])"
   ]
  },
  {
   "cell_type": "code",
   "execution_count": 22,
   "id": "6ecbec3f",
   "metadata": {},
   "outputs": [],
   "source": [
    "df = df[df[\"PW_A\"]!= 96260265]\n",
    "df = df[df[\"WO_A\"]!= 96260265]"
   ]
  },
  {
   "cell_type": "code",
   "execution_count": 23,
   "id": "6c5089f6",
   "metadata": {},
   "outputs": [],
   "source": [
    "df.loc[df[\"EMPLOYER_STATE\"].str.contains(\"alabama\", case=False, na = False), \"EMPLOYER_STATE\"] = \"AL\"\n",
    "df.loc[df[\"EMPLOYER_STATE\"].str.contains(\"alaska\", case=False, na = False), \"EMPLOYER_STATE\"] = \"AK\"\n",
    "df.loc[df[\"EMPLOYER_STATE\"].str.contains(\"arizona\", case=False, na = False), \"EMPLOYER_STATE\"] = \"AZ\"\n",
    "df.loc[df[\"EMPLOYER_STATE\"].str.contains(\"arkansas\", case=False, na = False), \"EMPLOYER_STATE\"] = \"AR\"\n",
    "df.loc[df[\"EMPLOYER_STATE\"].str.contains(\"california\", case=False, na = False), \"EMPLOYER_STATE\"] = \"CA\"\n",
    "df.loc[df[\"EMPLOYER_STATE\"].str.contains(\"colorado\", case=False, na = False), \"EMPLOYER_STATE\"] = \"CO\"\n",
    "df.loc[df[\"EMPLOYER_STATE\"].str.contains(\"connecticut\", case=False, na = False), \"EMPLOYER_STATE\"] = \"CT\"\n",
    "df.loc[df[\"EMPLOYER_STATE\"].str.contains(\"delaware\", case=False, na = False), \"EMPLOYER_STATE\"] = \"DE\"\n",
    "df.loc[df[\"EMPLOYER_STATE\"].str.contains(\"Florida\", case=False, na = False), \"EMPLOYER_STATE\"] = \"FL\"\n",
    "df.loc[df[\"EMPLOYER_STATE\"].str.contains(\"georgia\", case=False, na = False), \"EMPLOYER_STATE\"] = \"GA\"\n",
    "df.loc[df[\"EMPLOYER_STATE\"].str.contains(\"hawaii\", case=False, na = False), \"EMPLOYER_STATE\"] = \"HI\"\n",
    "df.loc[df[\"EMPLOYER_STATE\"].str.contains(\"idaho\", case=False, na = False), \"EMPLOYER_STATE\"] = \"ID\"\n",
    "df.loc[df[\"EMPLOYER_STATE\"].str.contains(\"illinois\", case=False, na = False), \"EMPLOYER_STATE\"] = \"IL\"\n",
    "df.loc[df[\"EMPLOYER_STATE\"].str.contains(\"indiana\", case=False, na = False), \"EMPLOYER_STATE\"] = \"IN\"\n",
    "df.loc[df[\"EMPLOYER_STATE\"].str.contains(\"iowa\", case=False, na = False), \"EMPLOYER_STATE\"] = \"IA\"\n",
    "df.loc[df[\"EMPLOYER_STATE\"].str.contains(\"kansas\", case=False, na = False), \"EMPLOYER_STATE\"] = \"KS\"\n",
    "df.loc[df[\"EMPLOYER_STATE\"].str.contains(\"kentucky\", case=False, na = False), \"EMPLOYER_STATE\"] = \"KY\"\n",
    "df.loc[df[\"EMPLOYER_STATE\"].str.contains(\"louisiana\", case=False, na = False), \"EMPLOYER_STATE\"] = \"LA\"\n",
    "df.loc[df[\"EMPLOYER_STATE\"].str.contains(\"maine\", case=False, na = False), \"EMPLOYER_STATE\"] = \"ME\"\n",
    "df.loc[df[\"EMPLOYER_STATE\"].str.contains(\"maryland\", case=False, na = False), \"EMPLOYER_STATE\"] = \"MD\"\n",
    "df.loc[df[\"EMPLOYER_STATE\"].str.contains(\"massachusetts\", case=False, na = False), \"EMPLOYER_STATE\"] = \"MA\"\n",
    "df.loc[df[\"EMPLOYER_STATE\"].str.contains(\"michigan\", case=False, na = False), \"EMPLOYER_STATE\"] = \"MI\"\n",
    "df.loc[df[\"EMPLOYER_STATE\"].str.contains(\"minnesota\", case=False, na = False), \"EMPLOYER_STATE\"] = \"MN\"\n",
    "df.loc[df[\"EMPLOYER_STATE\"].str.contains(\"mississippi\", case=False, na = False), \"EMPLOYER_STATE\"] = \"MS\"\n",
    "df.loc[df[\"EMPLOYER_STATE\"].str.contains(\"missouri\", case=False, na = False), \"EMPLOYER_STATE\"] = \"MO\"\n",
    "df.loc[df[\"EMPLOYER_STATE\"].str.contains(\"montana\", case=False, na = False), \"EMPLOYER_STATE\"] = \"MT\"\n",
    "df.loc[df[\"EMPLOYER_STATE\"].str.contains(\"nebraska\", case=False, na = False), \"EMPLOYER_STATE\"] = \"NE\"\n",
    "df.loc[df[\"EMPLOYER_STATE\"].str.contains(\"nevada\", case=False, na = False), \"EMPLOYER_STATE\"] = \"NV\"\n",
    "df.loc[df[\"EMPLOYER_STATE\"].str.contains(\"new hampshire\", case=False, na = False), \"EMPLOYER_STATE\"] = \"NH\"\n",
    "df.loc[df[\"EMPLOYER_STATE\"].str.contains(\"new jersey\", case=False, na = False), \"EMPLOYER_STATE\"] = \"NJ\"\n",
    "df.loc[df[\"EMPLOYER_STATE\"].str.contains(\"new york\", case=False, na = False), \"EMPLOYER_STATE\"] = \"NY\"\n",
    "df.loc[df[\"EMPLOYER_STATE\"].str.contains(\"new mexico\", case=False, na = False), \"EMPLOYER_STATE\"] = \"NM\"\n",
    "df.loc[df[\"EMPLOYER_STATE\"].str.contains(\"north carolina\", case=False, na = False), \"EMPLOYER_STATE\"] = \"NC\"\n",
    "df.loc[df[\"EMPLOYER_STATE\"].str.contains(\"north dakota\", case=False, na = False), \"EMPLOYER_STATE\"] = \"ND\"\n",
    "df.loc[df[\"EMPLOYER_STATE\"].str.contains(\"ohio\", case=False, na = False), \"EMPLOYER_STATE\"] = \"OH\"\n",
    "df.loc[df[\"EMPLOYER_STATE\"].str.contains(\"oklahoma\", case=False, na = False), \"EMPLOYER_STATE\"] = \"OK\"\n",
    "df.loc[df[\"EMPLOYER_STATE\"].str.contains(\"oregon\", case=False, na = False), \"EMPLOYER_STATE\"] = \"OR\"\n",
    "df.loc[df[\"EMPLOYER_STATE\"].str.contains(\"pennsylvania\", case=False, na = False), \"EMPLOYER_STATE\"] = \"PA\"\n",
    "df.loc[df[\"EMPLOYER_STATE\"].str.contains(\"rhode island\", case=False, na = False), \"EMPLOYER_STATE\"] = \"RI\"\n",
    "df.loc[df[\"EMPLOYER_STATE\"].str.contains(\"south carolina\", case=False, na = False), \"EMPLOYER_STATE\"] = \"SC\"\n",
    "df.loc[df[\"EMPLOYER_STATE\"].str.contains(\"south dakota\", case=False, na = False), \"EMPLOYER_STATE\"] = \"SD\"\n",
    "df.loc[df[\"EMPLOYER_STATE\"].str.contains(\"tennessee\", case=False, na = False), \"EMPLOYER_STATE\"] = \"TN\"\n",
    "df.loc[df[\"EMPLOYER_STATE\"].str.contains(\"texas\", case=False, na = False), \"EMPLOYER_STATE\"] = \"TX\"\n",
    "df.loc[df[\"EMPLOYER_STATE\"].str.contains(\"utah\", case=False, na = False), \"EMPLOYER_STATE\"] = \"UT\"\n",
    "df.loc[df[\"EMPLOYER_STATE\"].str.contains(\"vermont\", case=False, na = False), \"EMPLOYER_STATE\"] = \"VT\"\n",
    "df.loc[df[\"EMPLOYER_STATE\"].str.contains(\"virginia\", case=False, na = False), \"EMPLOYER_STATE\"] = \"VA\"\n",
    "df.loc[df[\"EMPLOYER_STATE\"].str.contains(\"washington\", case=False, na = False), \"EMPLOYER_STATE\"] = \"WA\"\n",
    "df.loc[df[\"EMPLOYER_STATE\"].str.contains(\"west virginia\", case=False, na = False), \"EMPLOYER_STATE\"] = \"WV\"\n",
    "df.loc[df[\"EMPLOYER_STATE\"].str.contains(\"wisconsin\", case=False, na = False), \"EMPLOYER_STATE\"] = \"WI\"\n",
    "df.loc[df[\"EMPLOYER_STATE\"].str.contains(\"wyoming\", case=False, na = False), \"EMPLOYER_STATE\"] = \"WY\"\n",
    "df.loc[df[\"EMPLOYER_STATE\"].str.contains(\"district of columbia\", case=False, na = False), \"EMPLOYER_STATE\"] = \"DC\"\n",
    "df.loc[df[\"EMPLOYER_STATE\"].str.contains(\"puerto rico\", case=False, na = False), \"EMPLOYER_STATE\"] = \"PR\""
   ]
  },
  {
   "cell_type": "code",
   "execution_count": 24,
   "id": "8b6aa77f",
   "metadata": {},
   "outputs": [],
   "source": [
    "df.loc[df[\"JOB_INFO_WORK_STATE\"].str.contains(\"alabama\", case=False, na = False), \"JOB_INFO_WORK_STATE\"] = \"AL\"\n",
    "df.loc[df[\"JOB_INFO_WORK_STATE\"].str.contains(\"alaska\", case=False, na = False), \"JOB_INFO_WORK_STATE\"] = \"AK\"\n",
    "df.loc[df[\"JOB_INFO_WORK_STATE\"].str.contains(\"arizona\", case=False, na = False), \"JOB_INFO_WORK_STATE\"] = \"AZ\"\n",
    "df.loc[df[\"JOB_INFO_WORK_STATE\"].str.contains(\"arkansas\", case=False, na = False), \"JOB_INFO_WORK_STATE\"] = \"AR\"\n",
    "df.loc[df[\"JOB_INFO_WORK_STATE\"].str.contains(\"california\", case=False, na = False), \"JOB_INFO_WORK_STATE\"] = \"CA\"\n",
    "df.loc[df[\"JOB_INFO_WORK_STATE\"].str.contains(\"colorado\", case=False, na = False), \"JOB_INFO_WORK_STATE\"] = \"CO\"\n",
    "df.loc[df[\"JOB_INFO_WORK_STATE\"].str.contains(\"connecticut\", case=False, na = False), \"JOB_INFO_WORK_STATE\"] = \"CT\"\n",
    "df.loc[df[\"JOB_INFO_WORK_STATE\"].str.contains(\"delaware\", case=False, na = False), \"JOB_INFO_WORK_STATE\"] = \"DE\"\n",
    "df.loc[df[\"JOB_INFO_WORK_STATE\"].str.contains(\"Florida\", case=False, na = False), \"JOB_INFO_WORK_STATE\"] = \"FL\"\n",
    "df.loc[df[\"JOB_INFO_WORK_STATE\"].str.contains(\"georgia\", case=False, na = False), \"JOB_INFO_WORK_STATE\"] = \"GA\"\n",
    "df.loc[df[\"JOB_INFO_WORK_STATE\"].str.contains(\"hawaii\", case=False, na = False), \"JOB_INFO_WORK_STATE\"] = \"HI\"\n",
    "df.loc[df[\"JOB_INFO_WORK_STATE\"].str.contains(\"idaho\", case=False, na = False), \"JOB_INFO_WORK_STATE\"] = \"ID\"\n",
    "df.loc[df[\"JOB_INFO_WORK_STATE\"].str.contains(\"illinois\", case=False, na = False), \"JOB_INFO_WORK_STATE\"] = \"IL\"\n",
    "df.loc[df[\"JOB_INFO_WORK_STATE\"].str.contains(\"indiana\", case=False, na = False), \"JOB_INFO_WORK_STATE\"] = \"IN\"\n",
    "df.loc[df[\"JOB_INFO_WORK_STATE\"].str.contains(\"iowa\", case=False, na = False), \"JOB_INFO_WORK_STATE\"] = \"IA\"\n",
    "df.loc[df[\"JOB_INFO_WORK_STATE\"].str.contains(\"kansas\", case=False, na = False), \"JOB_INFO_WORK_STATE\"] = \"KS\"\n",
    "df.loc[df[\"JOB_INFO_WORK_STATE\"].str.contains(\"kentucky\", case=False, na = False), \"JOB_INFO_WORK_STATE\"] = \"KY\"\n",
    "df.loc[df[\"JOB_INFO_WORK_STATE\"].str.contains(\"louisiana\", case=False, na = False), \"JOB_INFO_WORK_STATE\"] = \"LA\"\n",
    "df.loc[df[\"JOB_INFO_WORK_STATE\"].str.contains(\"maine\", case=False, na = False), \"JOB_INFO_WORK_STATE\"] = \"ME\"\n",
    "df.loc[df[\"JOB_INFO_WORK_STATE\"].str.contains(\"maryland\", case=False, na = False), \"JOB_INFO_WORK_STATE\"] = \"MD\"\n",
    "df.loc[df[\"JOB_INFO_WORK_STATE\"].str.contains(\"massachusetts\", case=False, na = False), \"JOB_INFO_WORK_STATE\"] = \"MA\"\n",
    "df.loc[df[\"JOB_INFO_WORK_STATE\"].str.contains(\"michigan\", case=False, na = False), \"JOB_INFO_WORK_STATE\"] = \"MI\"\n",
    "df.loc[df[\"JOB_INFO_WORK_STATE\"].str.contains(\"minnesota\", case=False, na = False), \"JOB_INFO_WORK_STATE\"] = \"MN\"\n",
    "df.loc[df[\"JOB_INFO_WORK_STATE\"].str.contains(\"mississippi\", case=False, na = False), \"JOB_INFO_WORK_STATE\"] = \"MS\"\n",
    "df.loc[df[\"JOB_INFO_WORK_STATE\"].str.contains(\"missouri\", case=False, na = False), \"JOB_INFO_WORK_STATE\"] = \"MO\"\n",
    "df.loc[df[\"JOB_INFO_WORK_STATE\"].str.contains(\"montana\", case=False, na = False), \"JOB_INFO_WORK_STATE\"] = \"MT\"\n",
    "df.loc[df[\"JOB_INFO_WORK_STATE\"].str.contains(\"nebraska\", case=False, na = False), \"JOB_INFO_WORK_STATE\"] = \"NE\"\n",
    "df.loc[df[\"JOB_INFO_WORK_STATE\"].str.contains(\"nevada\", case=False, na = False), \"JOB_INFO_WORK_STATE\"] = \"NV\"\n",
    "df.loc[df[\"JOB_INFO_WORK_STATE\"].str.contains(\"new hampshire\", case=False, na = False), \"JOB_INFO_WORK_STATE\"] = \"NH\"\n",
    "df.loc[df[\"JOB_INFO_WORK_STATE\"].str.contains(\"new jersey\", case=False, na = False), \"JOB_INFO_WORK_STATE\"] = \"NJ\"\n",
    "df.loc[df[\"JOB_INFO_WORK_STATE\"].str.contains(\"new york\", case=False, na = False), \"JOB_INFO_WORK_STATE\"] = \"NY\"\n",
    "df.loc[df[\"JOB_INFO_WORK_STATE\"].str.contains(\"new mexico\", case=False, na = False), \"JOB_INFO_WORK_STATE\"] = \"NM\"\n",
    "df.loc[df[\"JOB_INFO_WORK_STATE\"].str.contains(\"north carolina\", case=False, na = False), \"JOB_INFO_WORK_STATE\"] = \"NC\"\n",
    "df.loc[df[\"JOB_INFO_WORK_STATE\"].str.contains(\"north dakota\", case=False, na = False), \"JOB_INFO_WORK_STATE\"] = \"ND\"\n",
    "df.loc[df[\"JOB_INFO_WORK_STATE\"].str.contains(\"ohio\", case=False, na = False), \"JOB_INFO_WORK_STATE\"] = \"OH\"\n",
    "df.loc[df[\"JOB_INFO_WORK_STATE\"].str.contains(\"oklahoma\", case=False, na = False), \"JOB_INFO_WORK_STATE\"] = \"OK\"\n",
    "df.loc[df[\"JOB_INFO_WORK_STATE\"].str.contains(\"oregon\", case=False, na = False), \"JOB_INFO_WORK_STATE\"] = \"OR\"\n",
    "df.loc[df[\"JOB_INFO_WORK_STATE\"].str.contains(\"pennsylvania\", case=False, na = False), \"JOB_INFO_WORK_STATE\"] = \"PA\"\n",
    "df.loc[df[\"JOB_INFO_WORK_STATE\"].str.contains(\"rhode island\", case=False, na = False), \"JOB_INFO_WORK_STATE\"] = \"RI\"\n",
    "df.loc[df[\"JOB_INFO_WORK_STATE\"].str.contains(\"south carolina\", case=False, na = False), \"JOB_INFO_WORK_STATE\"] = \"SC\"\n",
    "df.loc[df[\"JOB_INFO_WORK_STATE\"].str.contains(\"south dakota\", case=False, na = False), \"JOB_INFO_WORK_STATE\"] = \"SD\"\n",
    "df.loc[df[\"JOB_INFO_WORK_STATE\"].str.contains(\"tennessee\", case=False, na = False), \"JOB_INFO_WORK_STATE\"] = \"TN\"\n",
    "df.loc[df[\"JOB_INFO_WORK_STATE\"].str.contains(\"texas\", case=False, na = False), \"JOB_INFO_WORK_STATE\"] = \"TX\"\n",
    "df.loc[df[\"JOB_INFO_WORK_STATE\"].str.contains(\"utah\", case=False, na = False), \"JOB_INFO_WORK_STATE\"] = \"UT\"\n",
    "df.loc[df[\"JOB_INFO_WORK_STATE\"].str.contains(\"vermont\", case=False, na = False), \"JOB_INFO_WORK_STATE\"] = \"VT\"\n",
    "df.loc[df[\"JOB_INFO_WORK_STATE\"].str.contains(\"virginia\", case=False, na = False), \"JOB_INFO_WORK_STATE\"] = \"VA\"\n",
    "df.loc[df[\"JOB_INFO_WORK_STATE\"].str.contains(\"washington\", case=False, na = False), \"JOB_INFO_WORK_STATE\"] = \"WA\"\n",
    "df.loc[df[\"JOB_INFO_WORK_STATE\"].str.contains(\"west virginia\", case=False, na = False), \"JOB_INFO_WORK_STATE\"] = \"WV\"\n",
    "df.loc[df[\"JOB_INFO_WORK_STATE\"].str.contains(\"wisconsin\", case=False, na = False), \"JOB_INFO_WORK_STATE\"] = \"WI\"\n",
    "df.loc[df[\"JOB_INFO_WORK_STATE\"].str.contains(\"wyoming\", case=False, na = False), \"JOB_INFO_WORK_STATE\"] = \"WY\"\n",
    "df.loc[df[\"JOB_INFO_WORK_STATE\"].str.contains(\"district of columbia\", case=False, na = False), \"JOB_INFO_WORK_STATE\"] = \"DC\"\n",
    "df.loc[df[\"JOB_INFO_WORK_STATE\"].str.contains(\"puerto rico\", case=False, na = False), \"JOB_INFO_WORK_STATE\"] = \"PR\""
   ]
  },
  {
   "cell_type": "code",
   "execution_count": 25,
   "id": "1bd33b4e",
   "metadata": {},
   "outputs": [],
   "source": [
    "df.loc[df[\"EMPLOYER_STATE\"].str.contains(\"mariana\", case=False, na = False), \"EMPLOYER_STATE\"] = \"MP\"\n",
    "df.loc[df[\"EMPLOYER_STATE\"].str.contains(\"guam\", case=False, na = False), \"EMPLOYER_STATE\"] = \"GU\"\n",
    "df.loc[df[\"EMPLOYER_STATE\"].str.contains(\"virgin\", case=False, na = False), \"EMPLOYER_STATE\"] = \"VI\"\n",
    "df.loc[df[\"EMPLOYER_STATE\"].str.contains(\"marshall\", case=False, na = False), \"EMPLOYER_STATE\"] = \"MH\"\n",
    "df.loc[df[\"EMPLOYER_STATE\"].str.contains(\"lower\", case=False, na = False), \"EMPLOYER_STATE\"] = \"GER\"\n",
    "df.loc[df[\"EMPLOYER_STATE\"].str.contains(\"micronesia\", case=False, na = False), \"EMPLOYER_STATE\"] = \"FM\"\n",
    "df.loc[df[\"EMPLOYER_STATE\"].str.contains(\"british\", case=False, na = False), \"EMPLOYER_STATE\"] = \"BC\"\n",
    "df.loc[df[\"EMPLOYER_STATE\"].str.contains(\"or or\", case=False, na = False), \"EMPLOYER_STATE\"] = \"OR\"\n",
    "df.loc[df[\"EMPLOYER_STATE\"].str.contains(\"FL\", case=False, na = False), \"EMPLOYER_STATE\"] = \"FL\""
   ]
  },
  {
   "cell_type": "code",
   "execution_count": 26,
   "id": "7fe83aaf",
   "metadata": {},
   "outputs": [],
   "source": [
    "df.loc[df[\"JOB_INFO_WORK_STATE\"].str.contains(\"mariana\", case=False, na = False), \"JOB_INFO_WORK_STATE\"] = \"MP\"\n",
    "df.loc[df[\"JOB_INFO_WORK_STATE\"].str.contains(\"guam\", case=False, na = False), \"JOB_INFO_WORK_STATE\"] = \"GU\"\n",
    "df.loc[df[\"JOB_INFO_WORK_STATE\"].str.contains(\"virgin\", case=False, na = False), \"JOB_INFO_WORK_STATE\"] = \"VI\"\n",
    "df.loc[df[\"JOB_INFO_WORK_STATE\"].str.contains(\"marshall\", case=False, na = False), \"JOB_INFO_WORK_STATE\"] = \"MH\"\n",
    "df.loc[df[\"JOB_INFO_WORK_STATE\"].str.contains(\"micronesia\", case=False, na = False), \"JOB_INFO_WORK_STATE\"] = \"FM\""
   ]
  },
  {
   "cell_type": "code",
   "execution_count": 27,
   "id": "afa772c9",
   "metadata": {},
   "outputs": [],
   "source": [
    "df[\"DISC_ST\"] = np.where(df[\"EMPLOYER_STATE\"]==df[\"JOB_INFO_WORK_STATE\"], 0, 1)\n",
    "df[\"DISC_CTY\"] = np.where(df[\"EMPLOYER_CITY\"]==df[\"JOB_INFO_WORK_CITY\"], 0, 1)\n",
    "df[\"DISC_UNIT\"] = np.where(df[\"WAGE_OFFER_UNIT_OF_PAY_9089\"]==df[\"PW_UNIT_OF_PAY_9089\"], 0, 1)"
   ]
  },
  {
   "cell_type": "code",
   "execution_count": 28,
   "id": "73bb0008",
   "metadata": {},
   "outputs": [],
   "source": [
    "df.drop(\"WAGE_OFFER_TO_9089\", axis =1 , inplace = True)"
   ]
  },
  {
   "cell_type": "code",
   "execution_count": 29,
   "id": "799f974c",
   "metadata": {},
   "outputs": [
    {
     "name": "stdout",
     "output_type": "stream",
     "text": [
      "<class 'pandas.core.frame.DataFrame'>\n",
      "Index: 1147475 entries, 9/29/08 to 9/30/21\n",
      "Data columns (total 22 columns):\n",
      " #   Column                       Non-Null Count    Dtype  \n",
      "---  ------                       --------------    -----  \n",
      " 0   CASE_STATUS                  1147475 non-null  int64  \n",
      " 1   EMPLOYER_NAME                1147439 non-null  object \n",
      " 2   EMPLOYER_CITY                1147436 non-null  object \n",
      " 3   EMPLOYER_STATE               1147390 non-null  object \n",
      " 4   PW_LEVEL_9089                1076618 non-null  object \n",
      " 5   PW_AMOUNT_9089               1139066 non-null  float64\n",
      " 6   PW_UNIT_OF_PAY_9089          1139702 non-null  object \n",
      " 7   WAGE_OFFER_FROM_9089         1144045 non-null  float64\n",
      " 8   WAGE_OFFER_UNIT_OF_PAY_9089  1129241 non-null  object \n",
      " 9   JOB_INFO_WORK_CITY           1147120 non-null  object \n",
      " 10  JOB_INFO_WORK_STATE          1147137 non-null  object \n",
      " 11  COUNTRY_OF_CITZENSHIP        1147280 non-null  object \n",
      " 12  CLASS_OF_ADMISSION           1057117 non-null  object \n",
      " 13  PW_SOC_CODE                  1145654 non-null  object \n",
      " 14  MONTH                        1147475 non-null  int64  \n",
      " 15  YEAR                         1147475 non-null  int64  \n",
      " 16  WO_A                         1129159 non-null  float64\n",
      " 17  PW_A                         1137880 non-null  float64\n",
      " 18  OW-PW                        1125794 non-null  float64\n",
      " 19  DISC_ST                      1147475 non-null  int64  \n",
      " 20  DISC_CTY                     1147475 non-null  int64  \n",
      " 21  DISC_UNIT                    1147475 non-null  int64  \n",
      "dtypes: float64(5), int64(6), object(11)\n",
      "memory usage: 201.4+ MB\n"
     ]
    }
   ],
   "source": [
    "df.info()"
   ]
  },
  {
   "cell_type": "code",
   "execution_count": null,
   "id": "19fcdb83",
   "metadata": {},
   "outputs": [],
   "source": []
  },
  {
   "cell_type": "code",
   "execution_count": 30,
   "id": "32be5b96",
   "metadata": {},
   "outputs": [],
   "source": [
    "# EDA"
   ]
  },
  {
   "cell_type": "code",
   "execution_count": 31,
   "id": "8e086fa9",
   "metadata": {},
   "outputs": [
    {
     "data": {
      "text/plain": [
       "MICROSOFT CORPORATION                            28827\n",
       "COGNIZANT TECHNOLOGY SOLUTIONS US CORPORATION    24408\n",
       "INTEL CORPORATION                                14666\n",
       "GOOGLE LLC                                        9706\n",
       "GOOGLE INC.                                       8380\n",
       "APPLE INC.                                        7865\n",
       "AMAZON CORPORATE LLC                              7645\n",
       "INFOSYS LTD.                                      7313\n",
       "CISCO SYSTEMS, INC.                               7107\n",
       "FACEBOOK, INC.                                    6968\n",
       "TATA CONSULTANCY SERVICES LIMITED                 6461\n",
       "AMAZON.COM SERVICES, INC.                         5991\n",
       "AMAZON.COM SERVICES LLC                           5449\n",
       "ORACLE AMERICA, INC.                              5239\n",
       "HCL AMERICA INC.                                  4578\n",
       "DELOITTE CONSULTING LLP                           4432\n",
       "QUALCOMM TECHNOLOGIES INC.                        3479\n",
       "IBM CORPORATION                                   2892\n",
       "SALESFORCE.COM                                    2827\n",
       "CAPGEMINI AMERICA, INC.                           2729\n",
       "Name: EMPLOYER_NAME, dtype: int64"
      ]
     },
     "execution_count": 31,
     "metadata": {},
     "output_type": "execute_result"
    }
   ],
   "source": [
    "df[\"EMPLOYER_NAME\"].value_counts().nlargest(20)"
   ]
  },
  {
   "cell_type": "code",
   "execution_count": 32,
   "id": "835785b5",
   "metadata": {},
   "outputs": [
    {
     "data": {
      "application/vnd.plotly.v1+json": {
       "config": {
        "linkText": "Export to plot.ly",
        "plotlyServerURL": "https://plot.ly",
        "showLink": true
       },
       "data": [
        {
         "marker": {
          "color": "rgba(255, 153, 51, 0.6)",
          "line": {
           "color": "rgba(255, 153, 51, 1.0)",
           "width": 1
          }
         },
         "name": "EMPLOYER_NAME",
         "orientation": "v",
         "text": "",
         "type": "bar",
         "x": [
          "MICROSOFT CORPORATION",
          "COGNIZANT TECHNOLOGY SOLUTIONS US CORPORATION",
          "INTEL CORPORATION",
          "GOOGLE LLC",
          "GOOGLE INC.",
          "APPLE INC.",
          "AMAZON CORPORATE LLC",
          "INFOSYS LTD.",
          "CISCO SYSTEMS, INC.",
          "FACEBOOK, INC.",
          "TATA CONSULTANCY SERVICES LIMITED",
          "AMAZON.COM SERVICES, INC.",
          "AMAZON.COM SERVICES LLC",
          "ORACLE AMERICA, INC.",
          "HCL AMERICA INC.",
          "DELOITTE CONSULTING LLP",
          "QUALCOMM TECHNOLOGIES INC.",
          "IBM CORPORATION",
          "SALESFORCE.COM",
          "CAPGEMINI AMERICA, INC."
         ],
         "y": [
          28827,
          24408,
          14666,
          9706,
          8380,
          7865,
          7645,
          7313,
          7107,
          6968,
          6461,
          5991,
          5449,
          5239,
          4578,
          4432,
          3479,
          2892,
          2827,
          2729
         ]
        }
       ],
       "layout": {
        "legend": {
         "bgcolor": "#F5F6F9",
         "font": {
          "color": "#4D5663"
         }
        },
        "paper_bgcolor": "#F5F6F9",
        "plot_bgcolor": "#F5F6F9",
        "template": {
         "data": {
          "bar": [
           {
            "error_x": {
             "color": "#2a3f5f"
            },
            "error_y": {
             "color": "#2a3f5f"
            },
            "marker": {
             "line": {
              "color": "#E5ECF6",
              "width": 0.5
             },
             "pattern": {
              "fillmode": "overlay",
              "size": 10,
              "solidity": 0.2
             }
            },
            "type": "bar"
           }
          ],
          "barpolar": [
           {
            "marker": {
             "line": {
              "color": "#E5ECF6",
              "width": 0.5
             },
             "pattern": {
              "fillmode": "overlay",
              "size": 10,
              "solidity": 0.2
             }
            },
            "type": "barpolar"
           }
          ],
          "carpet": [
           {
            "aaxis": {
             "endlinecolor": "#2a3f5f",
             "gridcolor": "white",
             "linecolor": "white",
             "minorgridcolor": "white",
             "startlinecolor": "#2a3f5f"
            },
            "baxis": {
             "endlinecolor": "#2a3f5f",
             "gridcolor": "white",
             "linecolor": "white",
             "minorgridcolor": "white",
             "startlinecolor": "#2a3f5f"
            },
            "type": "carpet"
           }
          ],
          "choropleth": [
           {
            "colorbar": {
             "outlinewidth": 0,
             "ticks": ""
            },
            "type": "choropleth"
           }
          ],
          "contour": [
           {
            "colorbar": {
             "outlinewidth": 0,
             "ticks": ""
            },
            "colorscale": [
             [
              0,
              "#0d0887"
             ],
             [
              0.1111111111111111,
              "#46039f"
             ],
             [
              0.2222222222222222,
              "#7201a8"
             ],
             [
              0.3333333333333333,
              "#9c179e"
             ],
             [
              0.4444444444444444,
              "#bd3786"
             ],
             [
              0.5555555555555556,
              "#d8576b"
             ],
             [
              0.6666666666666666,
              "#ed7953"
             ],
             [
              0.7777777777777778,
              "#fb9f3a"
             ],
             [
              0.8888888888888888,
              "#fdca26"
             ],
             [
              1,
              "#f0f921"
             ]
            ],
            "type": "contour"
           }
          ],
          "contourcarpet": [
           {
            "colorbar": {
             "outlinewidth": 0,
             "ticks": ""
            },
            "type": "contourcarpet"
           }
          ],
          "heatmap": [
           {
            "colorbar": {
             "outlinewidth": 0,
             "ticks": ""
            },
            "colorscale": [
             [
              0,
              "#0d0887"
             ],
             [
              0.1111111111111111,
              "#46039f"
             ],
             [
              0.2222222222222222,
              "#7201a8"
             ],
             [
              0.3333333333333333,
              "#9c179e"
             ],
             [
              0.4444444444444444,
              "#bd3786"
             ],
             [
              0.5555555555555556,
              "#d8576b"
             ],
             [
              0.6666666666666666,
              "#ed7953"
             ],
             [
              0.7777777777777778,
              "#fb9f3a"
             ],
             [
              0.8888888888888888,
              "#fdca26"
             ],
             [
              1,
              "#f0f921"
             ]
            ],
            "type": "heatmap"
           }
          ],
          "heatmapgl": [
           {
            "colorbar": {
             "outlinewidth": 0,
             "ticks": ""
            },
            "colorscale": [
             [
              0,
              "#0d0887"
             ],
             [
              0.1111111111111111,
              "#46039f"
             ],
             [
              0.2222222222222222,
              "#7201a8"
             ],
             [
              0.3333333333333333,
              "#9c179e"
             ],
             [
              0.4444444444444444,
              "#bd3786"
             ],
             [
              0.5555555555555556,
              "#d8576b"
             ],
             [
              0.6666666666666666,
              "#ed7953"
             ],
             [
              0.7777777777777778,
              "#fb9f3a"
             ],
             [
              0.8888888888888888,
              "#fdca26"
             ],
             [
              1,
              "#f0f921"
             ]
            ],
            "type": "heatmapgl"
           }
          ],
          "histogram": [
           {
            "marker": {
             "pattern": {
              "fillmode": "overlay",
              "size": 10,
              "solidity": 0.2
             }
            },
            "type": "histogram"
           }
          ],
          "histogram2d": [
           {
            "colorbar": {
             "outlinewidth": 0,
             "ticks": ""
            },
            "colorscale": [
             [
              0,
              "#0d0887"
             ],
             [
              0.1111111111111111,
              "#46039f"
             ],
             [
              0.2222222222222222,
              "#7201a8"
             ],
             [
              0.3333333333333333,
              "#9c179e"
             ],
             [
              0.4444444444444444,
              "#bd3786"
             ],
             [
              0.5555555555555556,
              "#d8576b"
             ],
             [
              0.6666666666666666,
              "#ed7953"
             ],
             [
              0.7777777777777778,
              "#fb9f3a"
             ],
             [
              0.8888888888888888,
              "#fdca26"
             ],
             [
              1,
              "#f0f921"
             ]
            ],
            "type": "histogram2d"
           }
          ],
          "histogram2dcontour": [
           {
            "colorbar": {
             "outlinewidth": 0,
             "ticks": ""
            },
            "colorscale": [
             [
              0,
              "#0d0887"
             ],
             [
              0.1111111111111111,
              "#46039f"
             ],
             [
              0.2222222222222222,
              "#7201a8"
             ],
             [
              0.3333333333333333,
              "#9c179e"
             ],
             [
              0.4444444444444444,
              "#bd3786"
             ],
             [
              0.5555555555555556,
              "#d8576b"
             ],
             [
              0.6666666666666666,
              "#ed7953"
             ],
             [
              0.7777777777777778,
              "#fb9f3a"
             ],
             [
              0.8888888888888888,
              "#fdca26"
             ],
             [
              1,
              "#f0f921"
             ]
            ],
            "type": "histogram2dcontour"
           }
          ],
          "mesh3d": [
           {
            "colorbar": {
             "outlinewidth": 0,
             "ticks": ""
            },
            "type": "mesh3d"
           }
          ],
          "parcoords": [
           {
            "line": {
             "colorbar": {
              "outlinewidth": 0,
              "ticks": ""
             }
            },
            "type": "parcoords"
           }
          ],
          "pie": [
           {
            "automargin": true,
            "type": "pie"
           }
          ],
          "scatter": [
           {
            "fillpattern": {
             "fillmode": "overlay",
             "size": 10,
             "solidity": 0.2
            },
            "type": "scatter"
           }
          ],
          "scatter3d": [
           {
            "line": {
             "colorbar": {
              "outlinewidth": 0,
              "ticks": ""
             }
            },
            "marker": {
             "colorbar": {
              "outlinewidth": 0,
              "ticks": ""
             }
            },
            "type": "scatter3d"
           }
          ],
          "scattercarpet": [
           {
            "marker": {
             "colorbar": {
              "outlinewidth": 0,
              "ticks": ""
             }
            },
            "type": "scattercarpet"
           }
          ],
          "scattergeo": [
           {
            "marker": {
             "colorbar": {
              "outlinewidth": 0,
              "ticks": ""
             }
            },
            "type": "scattergeo"
           }
          ],
          "scattergl": [
           {
            "marker": {
             "colorbar": {
              "outlinewidth": 0,
              "ticks": ""
             }
            },
            "type": "scattergl"
           }
          ],
          "scattermapbox": [
           {
            "marker": {
             "colorbar": {
              "outlinewidth": 0,
              "ticks": ""
             }
            },
            "type": "scattermapbox"
           }
          ],
          "scatterpolar": [
           {
            "marker": {
             "colorbar": {
              "outlinewidth": 0,
              "ticks": ""
             }
            },
            "type": "scatterpolar"
           }
          ],
          "scatterpolargl": [
           {
            "marker": {
             "colorbar": {
              "outlinewidth": 0,
              "ticks": ""
             }
            },
            "type": "scatterpolargl"
           }
          ],
          "scatterternary": [
           {
            "marker": {
             "colorbar": {
              "outlinewidth": 0,
              "ticks": ""
             }
            },
            "type": "scatterternary"
           }
          ],
          "surface": [
           {
            "colorbar": {
             "outlinewidth": 0,
             "ticks": ""
            },
            "colorscale": [
             [
              0,
              "#0d0887"
             ],
             [
              0.1111111111111111,
              "#46039f"
             ],
             [
              0.2222222222222222,
              "#7201a8"
             ],
             [
              0.3333333333333333,
              "#9c179e"
             ],
             [
              0.4444444444444444,
              "#bd3786"
             ],
             [
              0.5555555555555556,
              "#d8576b"
             ],
             [
              0.6666666666666666,
              "#ed7953"
             ],
             [
              0.7777777777777778,
              "#fb9f3a"
             ],
             [
              0.8888888888888888,
              "#fdca26"
             ],
             [
              1,
              "#f0f921"
             ]
            ],
            "type": "surface"
           }
          ],
          "table": [
           {
            "cells": {
             "fill": {
              "color": "#EBF0F8"
             },
             "line": {
              "color": "white"
             }
            },
            "header": {
             "fill": {
              "color": "#C8D4E3"
             },
             "line": {
              "color": "white"
             }
            },
            "type": "table"
           }
          ]
         },
         "layout": {
          "annotationdefaults": {
           "arrowcolor": "#2a3f5f",
           "arrowhead": 0,
           "arrowwidth": 1
          },
          "autotypenumbers": "strict",
          "coloraxis": {
           "colorbar": {
            "outlinewidth": 0,
            "ticks": ""
           }
          },
          "colorscale": {
           "diverging": [
            [
             0,
             "#8e0152"
            ],
            [
             0.1,
             "#c51b7d"
            ],
            [
             0.2,
             "#de77ae"
            ],
            [
             0.3,
             "#f1b6da"
            ],
            [
             0.4,
             "#fde0ef"
            ],
            [
             0.5,
             "#f7f7f7"
            ],
            [
             0.6,
             "#e6f5d0"
            ],
            [
             0.7,
             "#b8e186"
            ],
            [
             0.8,
             "#7fbc41"
            ],
            [
             0.9,
             "#4d9221"
            ],
            [
             1,
             "#276419"
            ]
           ],
           "sequential": [
            [
             0,
             "#0d0887"
            ],
            [
             0.1111111111111111,
             "#46039f"
            ],
            [
             0.2222222222222222,
             "#7201a8"
            ],
            [
             0.3333333333333333,
             "#9c179e"
            ],
            [
             0.4444444444444444,
             "#bd3786"
            ],
            [
             0.5555555555555556,
             "#d8576b"
            ],
            [
             0.6666666666666666,
             "#ed7953"
            ],
            [
             0.7777777777777778,
             "#fb9f3a"
            ],
            [
             0.8888888888888888,
             "#fdca26"
            ],
            [
             1,
             "#f0f921"
            ]
           ],
           "sequentialminus": [
            [
             0,
             "#0d0887"
            ],
            [
             0.1111111111111111,
             "#46039f"
            ],
            [
             0.2222222222222222,
             "#7201a8"
            ],
            [
             0.3333333333333333,
             "#9c179e"
            ],
            [
             0.4444444444444444,
             "#bd3786"
            ],
            [
             0.5555555555555556,
             "#d8576b"
            ],
            [
             0.6666666666666666,
             "#ed7953"
            ],
            [
             0.7777777777777778,
             "#fb9f3a"
            ],
            [
             0.8888888888888888,
             "#fdca26"
            ],
            [
             1,
             "#f0f921"
            ]
           ]
          },
          "colorway": [
           "#636efa",
           "#EF553B",
           "#00cc96",
           "#ab63fa",
           "#FFA15A",
           "#19d3f3",
           "#FF6692",
           "#B6E880",
           "#FF97FF",
           "#FECB52"
          ],
          "font": {
           "color": "#2a3f5f"
          },
          "geo": {
           "bgcolor": "white",
           "lakecolor": "white",
           "landcolor": "#E5ECF6",
           "showlakes": true,
           "showland": true,
           "subunitcolor": "white"
          },
          "hoverlabel": {
           "align": "left"
          },
          "hovermode": "closest",
          "mapbox": {
           "style": "light"
          },
          "paper_bgcolor": "white",
          "plot_bgcolor": "#E5ECF6",
          "polar": {
           "angularaxis": {
            "gridcolor": "white",
            "linecolor": "white",
            "ticks": ""
           },
           "bgcolor": "#E5ECF6",
           "radialaxis": {
            "gridcolor": "white",
            "linecolor": "white",
            "ticks": ""
           }
          },
          "scene": {
           "xaxis": {
            "backgroundcolor": "#E5ECF6",
            "gridcolor": "white",
            "gridwidth": 2,
            "linecolor": "white",
            "showbackground": true,
            "ticks": "",
            "zerolinecolor": "white"
           },
           "yaxis": {
            "backgroundcolor": "#E5ECF6",
            "gridcolor": "white",
            "gridwidth": 2,
            "linecolor": "white",
            "showbackground": true,
            "ticks": "",
            "zerolinecolor": "white"
           },
           "zaxis": {
            "backgroundcolor": "#E5ECF6",
            "gridcolor": "white",
            "gridwidth": 2,
            "linecolor": "white",
            "showbackground": true,
            "ticks": "",
            "zerolinecolor": "white"
           }
          },
          "shapedefaults": {
           "line": {
            "color": "#2a3f5f"
           }
          },
          "ternary": {
           "aaxis": {
            "gridcolor": "white",
            "linecolor": "white",
            "ticks": ""
           },
           "baxis": {
            "gridcolor": "white",
            "linecolor": "white",
            "ticks": ""
           },
           "bgcolor": "#E5ECF6",
           "caxis": {
            "gridcolor": "white",
            "linecolor": "white",
            "ticks": ""
           }
          },
          "title": {
           "x": 0.05
          },
          "xaxis": {
           "automargin": true,
           "gridcolor": "white",
           "linecolor": "white",
           "ticks": "",
           "title": {
            "standoff": 15
           },
           "zerolinecolor": "white",
           "zerolinewidth": 2
          },
          "yaxis": {
           "automargin": true,
           "gridcolor": "white",
           "linecolor": "white",
           "ticks": "",
           "title": {
            "standoff": 15
           },
           "zerolinecolor": "white",
           "zerolinewidth": 2
          }
         }
        },
        "title": {
         "font": {
          "color": "#4D5663"
         }
        },
        "xaxis": {
         "gridcolor": "#E1E5ED",
         "showgrid": true,
         "tickfont": {
          "color": "#4D5663"
         },
         "title": {
          "font": {
           "color": "#4D5663"
          },
          "text": ""
         },
         "zerolinecolor": "#E1E5ED"
        },
        "yaxis": {
         "gridcolor": "#E1E5ED",
         "showgrid": true,
         "tickfont": {
          "color": "#4D5663"
         },
         "title": {
          "font": {
           "color": "#4D5663"
          },
          "text": ""
         },
         "zerolinecolor": "#E1E5ED"
        }
       }
      },
      "text/html": [
       "<div>                            <div id=\"eb5652c8-0f0e-40f1-a41c-d39581364cfe\" class=\"plotly-graph-div\" style=\"height:525px; width:100%;\"></div>            <script type=\"text/javascript\">                require([\"plotly\"], function(Plotly) {                    window.PLOTLYENV=window.PLOTLYENV || {};\n",
       "                    window.PLOTLYENV.BASE_URL='https://plot.ly';                                    if (document.getElementById(\"eb5652c8-0f0e-40f1-a41c-d39581364cfe\")) {                    Plotly.newPlot(                        \"eb5652c8-0f0e-40f1-a41c-d39581364cfe\",                        [{\"marker\":{\"color\":\"rgba(255, 153, 51, 0.6)\",\"line\":{\"color\":\"rgba(255, 153, 51, 1.0)\",\"width\":1}},\"name\":\"EMPLOYER_NAME\",\"orientation\":\"v\",\"text\":\"\",\"x\":[\"MICROSOFT CORPORATION\",\"COGNIZANT TECHNOLOGY SOLUTIONS US CORPORATION\",\"INTEL CORPORATION\",\"GOOGLE LLC\",\"GOOGLE INC.\",\"APPLE INC.\",\"AMAZON CORPORATE LLC\",\"INFOSYS LTD.\",\"CISCO SYSTEMS, INC.\",\"FACEBOOK, INC.\",\"TATA CONSULTANCY SERVICES LIMITED\",\"AMAZON.COM SERVICES, INC.\",\"AMAZON.COM SERVICES LLC\",\"ORACLE AMERICA, INC.\",\"HCL AMERICA INC.\",\"DELOITTE CONSULTING LLP\",\"QUALCOMM TECHNOLOGIES INC.\",\"IBM CORPORATION\",\"SALESFORCE.COM\",\"CAPGEMINI AMERICA, INC.\"],\"y\":[28827,24408,14666,9706,8380,7865,7645,7313,7107,6968,6461,5991,5449,5239,4578,4432,3479,2892,2827,2729],\"type\":\"bar\"}],                        {\"legend\":{\"bgcolor\":\"#F5F6F9\",\"font\":{\"color\":\"#4D5663\"}},\"paper_bgcolor\":\"#F5F6F9\",\"plot_bgcolor\":\"#F5F6F9\",\"template\":{\"data\":{\"barpolar\":[{\"marker\":{\"line\":{\"color\":\"#E5ECF6\",\"width\":0.5},\"pattern\":{\"fillmode\":\"overlay\",\"size\":10,\"solidity\":0.2}},\"type\":\"barpolar\"}],\"bar\":[{\"error_x\":{\"color\":\"#2a3f5f\"},\"error_y\":{\"color\":\"#2a3f5f\"},\"marker\":{\"line\":{\"color\":\"#E5ECF6\",\"width\":0.5},\"pattern\":{\"fillmode\":\"overlay\",\"size\":10,\"solidity\":0.2}},\"type\":\"bar\"}],\"carpet\":[{\"aaxis\":{\"endlinecolor\":\"#2a3f5f\",\"gridcolor\":\"white\",\"linecolor\":\"white\",\"minorgridcolor\":\"white\",\"startlinecolor\":\"#2a3f5f\"},\"baxis\":{\"endlinecolor\":\"#2a3f5f\",\"gridcolor\":\"white\",\"linecolor\":\"white\",\"minorgridcolor\":\"white\",\"startlinecolor\":\"#2a3f5f\"},\"type\":\"carpet\"}],\"choropleth\":[{\"colorbar\":{\"outlinewidth\":0,\"ticks\":\"\"},\"type\":\"choropleth\"}],\"contourcarpet\":[{\"colorbar\":{\"outlinewidth\":0,\"ticks\":\"\"},\"type\":\"contourcarpet\"}],\"contour\":[{\"colorbar\":{\"outlinewidth\":0,\"ticks\":\"\"},\"colorscale\":[[0.0,\"#0d0887\"],[0.1111111111111111,\"#46039f\"],[0.2222222222222222,\"#7201a8\"],[0.3333333333333333,\"#9c179e\"],[0.4444444444444444,\"#bd3786\"],[0.5555555555555556,\"#d8576b\"],[0.6666666666666666,\"#ed7953\"],[0.7777777777777778,\"#fb9f3a\"],[0.8888888888888888,\"#fdca26\"],[1.0,\"#f0f921\"]],\"type\":\"contour\"}],\"heatmapgl\":[{\"colorbar\":{\"outlinewidth\":0,\"ticks\":\"\"},\"colorscale\":[[0.0,\"#0d0887\"],[0.1111111111111111,\"#46039f\"],[0.2222222222222222,\"#7201a8\"],[0.3333333333333333,\"#9c179e\"],[0.4444444444444444,\"#bd3786\"],[0.5555555555555556,\"#d8576b\"],[0.6666666666666666,\"#ed7953\"],[0.7777777777777778,\"#fb9f3a\"],[0.8888888888888888,\"#fdca26\"],[1.0,\"#f0f921\"]],\"type\":\"heatmapgl\"}],\"heatmap\":[{\"colorbar\":{\"outlinewidth\":0,\"ticks\":\"\"},\"colorscale\":[[0.0,\"#0d0887\"],[0.1111111111111111,\"#46039f\"],[0.2222222222222222,\"#7201a8\"],[0.3333333333333333,\"#9c179e\"],[0.4444444444444444,\"#bd3786\"],[0.5555555555555556,\"#d8576b\"],[0.6666666666666666,\"#ed7953\"],[0.7777777777777778,\"#fb9f3a\"],[0.8888888888888888,\"#fdca26\"],[1.0,\"#f0f921\"]],\"type\":\"heatmap\"}],\"histogram2dcontour\":[{\"colorbar\":{\"outlinewidth\":0,\"ticks\":\"\"},\"colorscale\":[[0.0,\"#0d0887\"],[0.1111111111111111,\"#46039f\"],[0.2222222222222222,\"#7201a8\"],[0.3333333333333333,\"#9c179e\"],[0.4444444444444444,\"#bd3786\"],[0.5555555555555556,\"#d8576b\"],[0.6666666666666666,\"#ed7953\"],[0.7777777777777778,\"#fb9f3a\"],[0.8888888888888888,\"#fdca26\"],[1.0,\"#f0f921\"]],\"type\":\"histogram2dcontour\"}],\"histogram2d\":[{\"colorbar\":{\"outlinewidth\":0,\"ticks\":\"\"},\"colorscale\":[[0.0,\"#0d0887\"],[0.1111111111111111,\"#46039f\"],[0.2222222222222222,\"#7201a8\"],[0.3333333333333333,\"#9c179e\"],[0.4444444444444444,\"#bd3786\"],[0.5555555555555556,\"#d8576b\"],[0.6666666666666666,\"#ed7953\"],[0.7777777777777778,\"#fb9f3a\"],[0.8888888888888888,\"#fdca26\"],[1.0,\"#f0f921\"]],\"type\":\"histogram2d\"}],\"histogram\":[{\"marker\":{\"pattern\":{\"fillmode\":\"overlay\",\"size\":10,\"solidity\":0.2}},\"type\":\"histogram\"}],\"mesh3d\":[{\"colorbar\":{\"outlinewidth\":0,\"ticks\":\"\"},\"type\":\"mesh3d\"}],\"parcoords\":[{\"line\":{\"colorbar\":{\"outlinewidth\":0,\"ticks\":\"\"}},\"type\":\"parcoords\"}],\"pie\":[{\"automargin\":true,\"type\":\"pie\"}],\"scatter3d\":[{\"line\":{\"colorbar\":{\"outlinewidth\":0,\"ticks\":\"\"}},\"marker\":{\"colorbar\":{\"outlinewidth\":0,\"ticks\":\"\"}},\"type\":\"scatter3d\"}],\"scattercarpet\":[{\"marker\":{\"colorbar\":{\"outlinewidth\":0,\"ticks\":\"\"}},\"type\":\"scattercarpet\"}],\"scattergeo\":[{\"marker\":{\"colorbar\":{\"outlinewidth\":0,\"ticks\":\"\"}},\"type\":\"scattergeo\"}],\"scattergl\":[{\"marker\":{\"colorbar\":{\"outlinewidth\":0,\"ticks\":\"\"}},\"type\":\"scattergl\"}],\"scattermapbox\":[{\"marker\":{\"colorbar\":{\"outlinewidth\":0,\"ticks\":\"\"}},\"type\":\"scattermapbox\"}],\"scatterpolargl\":[{\"marker\":{\"colorbar\":{\"outlinewidth\":0,\"ticks\":\"\"}},\"type\":\"scatterpolargl\"}],\"scatterpolar\":[{\"marker\":{\"colorbar\":{\"outlinewidth\":0,\"ticks\":\"\"}},\"type\":\"scatterpolar\"}],\"scatter\":[{\"fillpattern\":{\"fillmode\":\"overlay\",\"size\":10,\"solidity\":0.2},\"type\":\"scatter\"}],\"scatterternary\":[{\"marker\":{\"colorbar\":{\"outlinewidth\":0,\"ticks\":\"\"}},\"type\":\"scatterternary\"}],\"surface\":[{\"colorbar\":{\"outlinewidth\":0,\"ticks\":\"\"},\"colorscale\":[[0.0,\"#0d0887\"],[0.1111111111111111,\"#46039f\"],[0.2222222222222222,\"#7201a8\"],[0.3333333333333333,\"#9c179e\"],[0.4444444444444444,\"#bd3786\"],[0.5555555555555556,\"#d8576b\"],[0.6666666666666666,\"#ed7953\"],[0.7777777777777778,\"#fb9f3a\"],[0.8888888888888888,\"#fdca26\"],[1.0,\"#f0f921\"]],\"type\":\"surface\"}],\"table\":[{\"cells\":{\"fill\":{\"color\":\"#EBF0F8\"},\"line\":{\"color\":\"white\"}},\"header\":{\"fill\":{\"color\":\"#C8D4E3\"},\"line\":{\"color\":\"white\"}},\"type\":\"table\"}]},\"layout\":{\"annotationdefaults\":{\"arrowcolor\":\"#2a3f5f\",\"arrowhead\":0,\"arrowwidth\":1},\"autotypenumbers\":\"strict\",\"coloraxis\":{\"colorbar\":{\"outlinewidth\":0,\"ticks\":\"\"}},\"colorscale\":{\"diverging\":[[0,\"#8e0152\"],[0.1,\"#c51b7d\"],[0.2,\"#de77ae\"],[0.3,\"#f1b6da\"],[0.4,\"#fde0ef\"],[0.5,\"#f7f7f7\"],[0.6,\"#e6f5d0\"],[0.7,\"#b8e186\"],[0.8,\"#7fbc41\"],[0.9,\"#4d9221\"],[1,\"#276419\"]],\"sequential\":[[0.0,\"#0d0887\"],[0.1111111111111111,\"#46039f\"],[0.2222222222222222,\"#7201a8\"],[0.3333333333333333,\"#9c179e\"],[0.4444444444444444,\"#bd3786\"],[0.5555555555555556,\"#d8576b\"],[0.6666666666666666,\"#ed7953\"],[0.7777777777777778,\"#fb9f3a\"],[0.8888888888888888,\"#fdca26\"],[1.0,\"#f0f921\"]],\"sequentialminus\":[[0.0,\"#0d0887\"],[0.1111111111111111,\"#46039f\"],[0.2222222222222222,\"#7201a8\"],[0.3333333333333333,\"#9c179e\"],[0.4444444444444444,\"#bd3786\"],[0.5555555555555556,\"#d8576b\"],[0.6666666666666666,\"#ed7953\"],[0.7777777777777778,\"#fb9f3a\"],[0.8888888888888888,\"#fdca26\"],[1.0,\"#f0f921\"]]},\"colorway\":[\"#636efa\",\"#EF553B\",\"#00cc96\",\"#ab63fa\",\"#FFA15A\",\"#19d3f3\",\"#FF6692\",\"#B6E880\",\"#FF97FF\",\"#FECB52\"],\"font\":{\"color\":\"#2a3f5f\"},\"geo\":{\"bgcolor\":\"white\",\"lakecolor\":\"white\",\"landcolor\":\"#E5ECF6\",\"showlakes\":true,\"showland\":true,\"subunitcolor\":\"white\"},\"hoverlabel\":{\"align\":\"left\"},\"hovermode\":\"closest\",\"mapbox\":{\"style\":\"light\"},\"paper_bgcolor\":\"white\",\"plot_bgcolor\":\"#E5ECF6\",\"polar\":{\"angularaxis\":{\"gridcolor\":\"white\",\"linecolor\":\"white\",\"ticks\":\"\"},\"bgcolor\":\"#E5ECF6\",\"radialaxis\":{\"gridcolor\":\"white\",\"linecolor\":\"white\",\"ticks\":\"\"}},\"scene\":{\"xaxis\":{\"backgroundcolor\":\"#E5ECF6\",\"gridcolor\":\"white\",\"gridwidth\":2,\"linecolor\":\"white\",\"showbackground\":true,\"ticks\":\"\",\"zerolinecolor\":\"white\"},\"yaxis\":{\"backgroundcolor\":\"#E5ECF6\",\"gridcolor\":\"white\",\"gridwidth\":2,\"linecolor\":\"white\",\"showbackground\":true,\"ticks\":\"\",\"zerolinecolor\":\"white\"},\"zaxis\":{\"backgroundcolor\":\"#E5ECF6\",\"gridcolor\":\"white\",\"gridwidth\":2,\"linecolor\":\"white\",\"showbackground\":true,\"ticks\":\"\",\"zerolinecolor\":\"white\"}},\"shapedefaults\":{\"line\":{\"color\":\"#2a3f5f\"}},\"ternary\":{\"aaxis\":{\"gridcolor\":\"white\",\"linecolor\":\"white\",\"ticks\":\"\"},\"baxis\":{\"gridcolor\":\"white\",\"linecolor\":\"white\",\"ticks\":\"\"},\"bgcolor\":\"#E5ECF6\",\"caxis\":{\"gridcolor\":\"white\",\"linecolor\":\"white\",\"ticks\":\"\"}},\"title\":{\"x\":0.05},\"xaxis\":{\"automargin\":true,\"gridcolor\":\"white\",\"linecolor\":\"white\",\"ticks\":\"\",\"title\":{\"standoff\":15},\"zerolinecolor\":\"white\",\"zerolinewidth\":2},\"yaxis\":{\"automargin\":true,\"gridcolor\":\"white\",\"linecolor\":\"white\",\"ticks\":\"\",\"title\":{\"standoff\":15},\"zerolinecolor\":\"white\",\"zerolinewidth\":2}}},\"title\":{\"font\":{\"color\":\"#4D5663\"}},\"xaxis\":{\"gridcolor\":\"#E1E5ED\",\"showgrid\":true,\"tickfont\":{\"color\":\"#4D5663\"},\"title\":{\"font\":{\"color\":\"#4D5663\"},\"text\":\"\"},\"zerolinecolor\":\"#E1E5ED\"},\"yaxis\":{\"gridcolor\":\"#E1E5ED\",\"showgrid\":true,\"tickfont\":{\"color\":\"#4D5663\"},\"title\":{\"font\":{\"color\":\"#4D5663\"},\"text\":\"\"},\"zerolinecolor\":\"#E1E5ED\"}},                        {\"showLink\": true, \"linkText\": \"Export to plot.ly\", \"plotlyServerURL\": \"https://plot.ly\", \"responsive\": true}                    ).then(function(){\n",
       "                            \n",
       "var gd = document.getElementById('eb5652c8-0f0e-40f1-a41c-d39581364cfe');\n",
       "var x = new MutationObserver(function (mutations, observer) {{\n",
       "        var display = window.getComputedStyle(gd).display;\n",
       "        if (!display || display === 'none') {{\n",
       "            console.log([gd, 'removed!']);\n",
       "            Plotly.purge(gd);\n",
       "            observer.disconnect();\n",
       "        }}\n",
       "}});\n",
       "\n",
       "// Listen for the removal of the full notebook cells\n",
       "var notebookContainer = gd.closest('#notebook-container');\n",
       "if (notebookContainer) {{\n",
       "    x.observe(notebookContainer, {childList: true});\n",
       "}}\n",
       "\n",
       "// Listen for the clearing of the current output cell\n",
       "var outputEl = gd.closest('.output');\n",
       "if (outputEl) {{\n",
       "    x.observe(outputEl, {childList: true});\n",
       "}}\n",
       "\n",
       "                        })                };                });            </script>        </div>"
      ]
     },
     "metadata": {},
     "output_type": "display_data"
    }
   ],
   "source": [
    "df[\"EMPLOYER_NAME\"].value_counts().nlargest(20).iplot(kind = \"bar\")"
   ]
  },
  {
   "cell_type": "code",
   "execution_count": 33,
   "id": "db1919e1",
   "metadata": {},
   "outputs": [
    {
     "data": {
      "text/plain": [
       "<AxesSubplot:title={'center':'0: rejection, 1: acceptance frequency over the years'}, xlabel='YEAR', ylabel='count'>"
      ]
     },
     "execution_count": 33,
     "metadata": {},
     "output_type": "execute_result"
    },
    {
     "data": {
      "image/png": "[encoded data removed]",
      "text/plain": [
       "<Figure size 864x288 with 1 Axes>"
      ]
     },
     "metadata": {
      "needs_background": "light"
     },
     "output_type": "display_data"
    }
   ],
   "source": [
    "plt.figure(figsize = (12,4))\n",
    "plt.title(\"0: rejection, 1: acceptance frequency over the years\")\n",
    "sns.countplot(x = \"YEAR\",hue = \"CASE_STATUS\",data = df)"
   ]
  },
  {
   "cell_type": "code",
   "execution_count": 34,
   "id": "3fccb601",
   "metadata": {},
   "outputs": [
    {
     "data": {
      "application/vnd.plotly.v1+json": {
       "config": {
        "linkText": "Export to plot.ly",
        "plotlyServerURL": "https://plot.ly",
        "showLink": true
       },
       "data": [
        {
         "marker": {
          "color": "rgba(255, 153, 51, 0.6)",
          "line": {
           "color": "rgba(255, 153, 51, 1.0)",
           "width": 1
          }
         },
         "name": "WO_A",
         "orientation": "v",
         "text": "",
         "type": "bar",
         "x": [
          2007,
          2008,
          2009,
          2010,
          2011,
          2012,
          2013,
          2014,
          2015,
          2016,
          2017,
          2018,
          2019,
          2020,
          2021
         ],
         "y": [
          60443.88517223716,
          59926.03757047411,
          66249.51641872436,
          72759.75104718444,
          81253.20664778596,
          89217.27179987005,
          94469.81396328715,
          94505.87592736808,
          88364.4690886765,
          92007.78738088395,
          92191.68534800225,
          95060.35772131386,
          96913.19967790358,
          99312.65209363928,
          102619.098919908
         ]
        },
        {
         "marker": {
          "color": "rgba(55, 128, 191, 0.6)",
          "line": {
           "color": "rgba(55, 128, 191, 1.0)",
           "width": 1
          }
         },
         "name": "PW_A",
         "orientation": "v",
         "text": "",
         "type": "bar",
         "x": [
          2007,
          2008,
          2009,
          2010,
          2011,
          2012,
          2013,
          2014,
          2015,
          2016,
          2017,
          2018,
          2019,
          2020,
          2021
         ],
         "y": [
          54721.372529792745,
          54848.0702669774,
          60075.85976336567,
          65491.348542487984,
          75011.87392366053,
          81554.10593347406,
          85300.86026258602,
          86254.94477683735,
          82426.98676642569,
          84932.05768518138,
          84261.29198255388,
          86024.94813489988,
          86478.23278127247,
          87858.9680551831,
          90931.47475095742
         ]
        }
       ],
       "layout": {
        "legend": {
         "bgcolor": "#F5F6F9",
         "font": {
          "color": "#4D5663"
         }
        },
        "paper_bgcolor": "#F5F6F9",
        "plot_bgcolor": "#F5F6F9",
        "template": {
         "data": {
          "bar": [
           {
            "error_x": {
             "color": "#2a3f5f"
            },
            "error_y": {
             "color": "#2a3f5f"
            },
            "marker": {
             "line": {
              "color": "#E5ECF6",
              "width": 0.5
             },
             "pattern": {
              "fillmode": "overlay",
              "size": 10,
              "solidity": 0.2
             }
            },
            "type": "bar"
           }
          ],
          "barpolar": [
           {
            "marker": {
             "line": {
              "color": "#E5ECF6",
              "width": 0.5
             },
             "pattern": {
              "fillmode": "overlay",
              "size": 10,
              "solidity": 0.2
             }
            },
            "type": "barpolar"
           }
          ],
          "carpet": [
           {
            "aaxis": {
             "endlinecolor": "#2a3f5f",
             "gridcolor": "white",
             "linecolor": "white",
             "minorgridcolor": "white",
             "startlinecolor": "#2a3f5f"
            },
            "baxis": {
             "endlinecolor": "#2a3f5f",
             "gridcolor": "white",
             "linecolor": "white",
             "minorgridcolor": "white",
             "startlinecolor": "#2a3f5f"
            },
            "type": "carpet"
           }
          ],
          "choropleth": [
           {
            "colorbar": {
             "outlinewidth": 0,
             "ticks": ""
            },
            "type": "choropleth"
           }
          ],
          "contour": [
           {
            "colorbar": {
             "outlinewidth": 0,
             "ticks": ""
            },
            "colorscale": [
             [
              0,
              "#0d0887"
             ],
             [
              0.1111111111111111,
              "#46039f"
             ],
             [
              0.2222222222222222,
              "#7201a8"
             ],
             [
              0.3333333333333333,
              "#9c179e"
             ],
             [
              0.4444444444444444,
              "#bd3786"
             ],
             [
              0.5555555555555556,
              "#d8576b"
             ],
             [
              0.6666666666666666,
              "#ed7953"
             ],
             [
              0.7777777777777778,
              "#fb9f3a"
             ],
             [
              0.8888888888888888,
              "#fdca26"
             ],
             [
              1,
              "#f0f921"
             ]
            ],
            "type": "contour"
           }
          ],
          "contourcarpet": [
           {
            "colorbar": {
             "outlinewidth": 0,
             "ticks": ""
            },
            "type": "contourcarpet"
           }
          ],
          "heatmap": [
           {
            "colorbar": {
             "outlinewidth": 0,
             "ticks": ""
            },
            "colorscale": [
             [
              0,
              "#0d0887"
             ],
             [
              0.1111111111111111,
              "#46039f"
             ],
             [
              0.2222222222222222,
              "#7201a8"
             ],
             [
              0.3333333333333333,
              "#9c179e"
             ],
             [
              0.4444444444444444,
              "#bd3786"
             ],
             [
              0.5555555555555556,
              "#d8576b"
             ],
             [
              0.6666666666666666,
              "#ed7953"
             ],
             [
              0.7777777777777778,
              "#fb9f3a"
             ],
             [
              0.8888888888888888,
              "#fdca26"
             ],
             [
              1,
              "#f0f921"
             ]
            ],
            "type": "heatmap"
           }
          ],
          "heatmapgl": [
           {
            "colorbar": {
             "outlinewidth": 0,
             "ticks": ""
            },
            "colorscale": [
             [
              0,
              "#0d0887"
             ],
             [
              0.1111111111111111,
              "#46039f"
             ],
             [
              0.2222222222222222,
              "#7201a8"
             ],
             [
              0.3333333333333333,
              "#9c179e"
             ],
             [
              0.4444444444444444,
              "#bd3786"
             ],
             [
              0.5555555555555556,
              "#d8576b"
             ],
             [
              0.6666666666666666,
              "#ed7953"
             ],
             [
              0.7777777777777778,
              "#fb9f3a"
             ],
             [
              0.8888888888888888,
              "#fdca26"
             ],
             [
              1,
              "#f0f921"
             ]
            ],
            "type": "heatmapgl"
           }
          ],
          "histogram": [
           {
            "marker": {
             "pattern": {
              "fillmode": "overlay",
              "size": 10,
              "solidity": 0.2
             }
            },
            "type": "histogram"
           }
          ],
          "histogram2d": [
           {
            "colorbar": {
             "outlinewidth": 0,
             "ticks": ""
            },
            "colorscale": [
             [
              0,
              "#0d0887"
             ],
             [
              0.1111111111111111,
              "#46039f"
             ],
             [
              0.2222222222222222,
              "#7201a8"
             ],
             [
              0.3333333333333333,
              "#9c179e"
             ],
             [
              0.4444444444444444,
              "#bd3786"
             ],
             [
              0.5555555555555556,
              "#d8576b"
             ],
             [
              0.6666666666666666,
              "#ed7953"
             ],
             [
              0.7777777777777778,
              "#fb9f3a"
             ],
             [
              0.8888888888888888,
              "#fdca26"
             ],
             [
              1,
              "#f0f921"
             ]
            ],
            "type": "histogram2d"
           }
          ],
          "histogram2dcontour": [
           {
            "colorbar": {
             "outlinewidth": 0,
             "ticks": ""
            },
            "colorscale": [
             [
              0,
              "#0d0887"
             ],
             [
              0.1111111111111111,
              "#46039f"
             ],
             [
              0.2222222222222222,
              "#7201a8"
             ],
             [
              0.3333333333333333,
              "#9c179e"
             ],
             [
              0.4444444444444444,
              "#bd3786"
             ],
             [
              0.5555555555555556,
              "#d8576b"
             ],
             [
              0.6666666666666666,
              "#ed7953"
             ],
             [
              0.7777777777777778,
              "#fb9f3a"
             ],
             [
              0.8888888888888888,
              "#fdca26"
             ],
             [
              1,
              "#f0f921"
             ]
            ],
            "type": "histogram2dcontour"
           }
          ],
          "mesh3d": [
           {
            "colorbar": {
             "outlinewidth": 0,
             "ticks": ""
            },
            "type": "mesh3d"
           }
          ],
          "parcoords": [
           {
            "line": {
             "colorbar": {
              "outlinewidth": 0,
              "ticks": ""
             }
            },
            "type": "parcoords"
           }
          ],
          "pie": [
           {
            "automargin": true,
            "type": "pie"
           }
          ],
          "scatter": [
           {
            "fillpattern": {
             "fillmode": "overlay",
             "size": 10,
             "solidity": 0.2
            },
            "type": "scatter"
           }
          ],
          "scatter3d": [
           {
            "line": {
             "colorbar": {
              "outlinewidth": 0,
              "ticks": ""
             }
            },
            "marker": {
             "colorbar": {
              "outlinewidth": 0,
              "ticks": ""
             }
            },
            "type": "scatter3d"
           }
          ],
          "scattercarpet": [
           {
            "marker": {
             "colorbar": {
              "outlinewidth": 0,
              "ticks": ""
             }
            },
            "type": "scattercarpet"
           }
          ],
          "scattergeo": [
           {
            "marker": {
             "colorbar": {
              "outlinewidth": 0,
              "ticks": ""
             }
            },
            "type": "scattergeo"
           }
          ],
          "scattergl": [
           {
            "marker": {
             "colorbar": {
              "outlinewidth": 0,
              "ticks": ""
             }
            },
            "type": "scattergl"
           }
          ],
          "scattermapbox": [
           {
            "marker": {
             "colorbar": {
              "outlinewidth": 0,
              "ticks": ""
             }
            },
            "type": "scattermapbox"
           }
          ],
          "scatterpolar": [
           {
            "marker": {
             "colorbar": {
              "outlinewidth": 0,
              "ticks": ""
             }
            },
            "type": "scatterpolar"
           }
          ],
          "scatterpolargl": [
           {
            "marker": {
             "colorbar": {
              "outlinewidth": 0,
              "ticks": ""
             }
            },
            "type": "scatterpolargl"
           }
          ],
          "scatterternary": [
           {
            "marker": {
             "colorbar": {
              "outlinewidth": 0,
              "ticks": ""
             }
            },
            "type": "scatterternary"
           }
          ],
          "surface": [
           {
            "colorbar": {
             "outlinewidth": 0,
             "ticks": ""
            },
            "colorscale": [
             [
              0,
              "#0d0887"
             ],
             [
              0.1111111111111111,
              "#46039f"
             ],
             [
              0.2222222222222222,
              "#7201a8"
             ],
             [
              0.3333333333333333,
              "#9c179e"
             ],
             [
              0.4444444444444444,
              "#bd3786"
             ],
             [
              0.5555555555555556,
              "#d8576b"
             ],
             [
              0.6666666666666666,
              "#ed7953"
             ],
             [
              0.7777777777777778,
              "#fb9f3a"
             ],
             [
              0.8888888888888888,
              "#fdca26"
             ],
             [
              1,
              "#f0f921"
             ]
            ],
            "type": "surface"
           }
          ],
          "table": [
           {
            "cells": {
             "fill": {
              "color": "#EBF0F8"
             },
             "line": {
              "color": "white"
             }
            },
            "header": {
             "fill": {
              "color": "#C8D4E3"
             },
             "line": {
              "color": "white"
             }
            },
            "type": "table"
           }
          ]
         },
         "layout": {
          "annotationdefaults": {
           "arrowcolor": "#2a3f5f",
           "arrowhead": 0,
           "arrowwidth": 1
          },
          "autotypenumbers": "strict",
          "coloraxis": {
           "colorbar": {
            "outlinewidth": 0,
            "ticks": ""
           }
          },
          "colorscale": {
           "diverging": [
            [
             0,
             "#8e0152"
            ],
            [
             0.1,
             "#c51b7d"
            ],
            [
             0.2,
             "#de77ae"
            ],
            [
             0.3,
             "#f1b6da"
            ],
            [
             0.4,
             "#fde0ef"
            ],
            [
             0.5,
             "#f7f7f7"
            ],
            [
             0.6,
             "#e6f5d0"
            ],
            [
             0.7,
             "#b8e186"
            ],
            [
             0.8,
             "#7fbc41"
            ],
            [
             0.9,
             "#4d9221"
            ],
            [
             1,
             "#276419"
            ]
           ],
           "sequential": [
            [
             0,
             "#0d0887"
            ],
            [
             0.1111111111111111,
             "#46039f"
            ],
            [
             0.2222222222222222,
             "#7201a8"
            ],
            [
             0.3333333333333333,
             "#9c179e"
            ],
            [
             0.4444444444444444,
             "#bd3786"
            ],
            [
             0.5555555555555556,
             "#d8576b"
            ],
            [
             0.6666666666666666,
             "#ed7953"
            ],
            [
             0.7777777777777778,
             "#fb9f3a"
            ],
            [
             0.8888888888888888,
             "#fdca26"
            ],
            [
             1,
             "#f0f921"
            ]
           ],
           "sequentialminus": [
            [
             0,
             "#0d0887"
            ],
            [
             0.1111111111111111,
             "#46039f"
            ],
            [
             0.2222222222222222,
             "#7201a8"
            ],
            [
             0.3333333333333333,
             "#9c179e"
            ],
            [
             0.4444444444444444,
             "#bd3786"
            ],
            [
             0.5555555555555556,
             "#d8576b"
            ],
            [
             0.6666666666666666,
             "#ed7953"
            ],
            [
             0.7777777777777778,
             "#fb9f3a"
            ],
            [
             0.8888888888888888,
             "#fdca26"
            ],
            [
             1,
             "#f0f921"
            ]
           ]
          },
          "colorway": [
           "#636efa",
           "#EF553B",
           "#00cc96",
           "#ab63fa",
           "#FFA15A",
           "#19d3f3",
           "#FF6692",
           "#B6E880",
           "#FF97FF",
           "#FECB52"
          ],
          "font": {
           "color": "#2a3f5f"
          },
          "geo": {
           "bgcolor": "white",
           "lakecolor": "white",
           "landcolor": "#E5ECF6",
           "showlakes": true,
           "showland": true,
           "subunitcolor": "white"
          },
          "hoverlabel": {
           "align": "left"
          },
          "hovermode": "closest",
          "mapbox": {
           "style": "light"
          },
          "paper_bgcolor": "white",
          "plot_bgcolor": "#E5ECF6",
          "polar": {
           "angularaxis": {
            "gridcolor": "white",
            "linecolor": "white",
            "ticks": ""
           },
           "bgcolor": "#E5ECF6",
           "radialaxis": {
            "gridcolor": "white",
            "linecolor": "white",
            "ticks": ""
           }
          },
          "scene": {
           "xaxis": {
            "backgroundcolor": "#E5ECF6",
            "gridcolor": "white",
            "gridwidth": 2,
            "linecolor": "white",
            "showbackground": true,
            "ticks": "",
            "zerolinecolor": "white"
           },
           "yaxis": {
            "backgroundcolor": "#E5ECF6",
            "gridcolor": "white",
            "gridwidth": 2,
            "linecolor": "white",
            "showbackground": true,
            "ticks": "",
            "zerolinecolor": "white"
           },
           "zaxis": {
            "backgroundcolor": "#E5ECF6",
            "gridcolor": "white",
            "gridwidth": 2,
            "linecolor": "white",
            "showbackground": true,
            "ticks": "",
            "zerolinecolor": "white"
           }
          },
          "shapedefaults": {
           "line": {
            "color": "#2a3f5f"
           }
          },
          "ternary": {
           "aaxis": {
            "gridcolor": "white",
            "linecolor": "white",
            "ticks": ""
           },
           "baxis": {
            "gridcolor": "white",
            "linecolor": "white",
            "ticks": ""
           },
           "bgcolor": "#E5ECF6",
           "caxis": {
            "gridcolor": "white",
            "linecolor": "white",
            "ticks": ""
           }
          },
          "title": {
           "x": 0.05
          },
          "xaxis": {
           "automargin": true,
           "gridcolor": "white",
           "linecolor": "white",
           "ticks": "",
           "title": {
            "standoff": 15
           },
           "zerolinecolor": "white",
           "zerolinewidth": 2
          },
          "yaxis": {
           "automargin": true,
           "gridcolor": "white",
           "linecolor": "white",
           "ticks": "",
           "title": {
            "standoff": 15
           },
           "zerolinecolor": "white",
           "zerolinewidth": 2
          }
         }
        },
        "title": {
         "font": {
          "color": "#4D5663"
         }
        },
        "xaxis": {
         "gridcolor": "#E1E5ED",
         "showgrid": true,
         "tickfont": {
          "color": "#4D5663"
         },
         "title": {
          "font": {
           "color": "#4D5663"
          },
          "text": ""
         },
         "zerolinecolor": "#E1E5ED"
        },
        "yaxis": {
         "gridcolor": "#E1E5ED",
         "showgrid": true,
         "tickfont": {
          "color": "#4D5663"
         },
         "title": {
          "font": {
           "color": "#4D5663"
          },
          "text": ""
         },
         "zerolinecolor": "#E1E5ED"
        }
       }
      },
      "text/html": [
       "<div>                            <div id=\"1c409c61-d145-4183-8b3b-9df9439b9a26\" class=\"plotly-graph-div\" style=\"height:525px; width:100%;\"></div>            <script type=\"text/javascript\">                require([\"plotly\"], function(Plotly) {                    window.PLOTLYENV=window.PLOTLYENV || {};\n",
       "                    window.PLOTLYENV.BASE_URL='https://plot.ly';                                    if (document.getElementById(\"1c409c61-d145-4183-8b3b-9df9439b9a26\")) {                    Plotly.newPlot(                        \"1c409c61-d145-4183-8b3b-9df9439b9a26\",                        [{\"marker\":{\"color\":\"rgba(255, 153, 51, 0.6)\",\"line\":{\"color\":\"rgba(255, 153, 51, 1.0)\",\"width\":1}},\"name\":\"WO_A\",\"orientation\":\"v\",\"text\":\"\",\"x\":[2007,2008,2009,2010,2011,2012,2013,2014,2015,2016,2017,2018,2019,2020,2021],\"y\":[60443.88517223716,59926.03757047411,66249.51641872436,72759.75104718444,81253.20664778596,89217.27179987005,94469.81396328715,94505.87592736808,88364.4690886765,92007.78738088395,92191.68534800225,95060.35772131386,96913.19967790358,99312.65209363928,102619.098919908],\"type\":\"bar\"},{\"marker\":{\"color\":\"rgba(55, 128, 191, 0.6)\",\"line\":{\"color\":\"rgba(55, 128, 191, 1.0)\",\"width\":1}},\"name\":\"PW_A\",\"orientation\":\"v\",\"text\":\"\",\"x\":[2007,2008,2009,2010,2011,2012,2013,2014,2015,2016,2017,2018,2019,2020,2021],\"y\":[54721.372529792745,54848.0702669774,60075.85976336567,65491.348542487984,75011.87392366053,81554.10593347406,85300.86026258602,86254.94477683735,82426.98676642569,84932.05768518138,84261.29198255388,86024.94813489988,86478.23278127247,87858.9680551831,90931.47475095742],\"type\":\"bar\"}],                        {\"legend\":{\"bgcolor\":\"#F5F6F9\",\"font\":{\"color\":\"#4D5663\"}},\"paper_bgcolor\":\"#F5F6F9\",\"plot_bgcolor\":\"#F5F6F9\",\"template\":{\"data\":{\"barpolar\":[{\"marker\":{\"line\":{\"color\":\"#E5ECF6\",\"width\":0.5},\"pattern\":{\"fillmode\":\"overlay\",\"size\":10,\"solidity\":0.2}},\"type\":\"barpolar\"}],\"bar\":[{\"error_x\":{\"color\":\"#2a3f5f\"},\"error_y\":{\"color\":\"#2a3f5f\"},\"marker\":{\"line\":{\"color\":\"#E5ECF6\",\"width\":0.5},\"pattern\":{\"fillmode\":\"overlay\",\"size\":10,\"solidity\":0.2}},\"type\":\"bar\"}],\"carpet\":[{\"aaxis\":{\"endlinecolor\":\"#2a3f5f\",\"gridcolor\":\"white\",\"linecolor\":\"white\",\"minorgridcolor\":\"white\",\"startlinecolor\":\"#2a3f5f\"},\"baxis\":{\"endlinecolor\":\"#2a3f5f\",\"gridcolor\":\"white\",\"linecolor\":\"white\",\"minorgridcolor\":\"white\",\"startlinecolor\":\"#2a3f5f\"},\"type\":\"carpet\"}],\"choropleth\":[{\"colorbar\":{\"outlinewidth\":0,\"ticks\":\"\"},\"type\":\"choropleth\"}],\"contourcarpet\":[{\"colorbar\":{\"outlinewidth\":0,\"ticks\":\"\"},\"type\":\"contourcarpet\"}],\"contour\":[{\"colorbar\":{\"outlinewidth\":0,\"ticks\":\"\"},\"colorscale\":[[0.0,\"#0d0887\"],[0.1111111111111111,\"#46039f\"],[0.2222222222222222,\"#7201a8\"],[0.3333333333333333,\"#9c179e\"],[0.4444444444444444,\"#bd3786\"],[0.5555555555555556,\"#d8576b\"],[0.6666666666666666,\"#ed7953\"],[0.7777777777777778,\"#fb9f3a\"],[0.8888888888888888,\"#fdca26\"],[1.0,\"#f0f921\"]],\"type\":\"contour\"}],\"heatmapgl\":[{\"colorbar\":{\"outlinewidth\":0,\"ticks\":\"\"},\"colorscale\":[[0.0,\"#0d0887\"],[0.1111111111111111,\"#46039f\"],[0.2222222222222222,\"#7201a8\"],[0.3333333333333333,\"#9c179e\"],[0.4444444444444444,\"#bd3786\"],[0.5555555555555556,\"#d8576b\"],[0.6666666666666666,\"#ed7953\"],[0.7777777777777778,\"#fb9f3a\"],[0.8888888888888888,\"#fdca26\"],[1.0,\"#f0f921\"]],\"type\":\"heatmapgl\"}],\"heatmap\":[{\"colorbar\":{\"outlinewidth\":0,\"ticks\":\"\"},\"colorscale\":[[0.0,\"#0d0887\"],[0.1111111111111111,\"#46039f\"],[0.2222222222222222,\"#7201a8\"],[0.3333333333333333,\"#9c179e\"],[0.4444444444444444,\"#bd3786\"],[0.5555555555555556,\"#d8576b\"],[0.6666666666666666,\"#ed7953\"],[0.7777777777777778,\"#fb9f3a\"],[0.8888888888888888,\"#fdca26\"],[1.0,\"#f0f921\"]],\"type\":\"heatmap\"}],\"histogram2dcontour\":[{\"colorbar\":{\"outlinewidth\":0,\"ticks\":\"\"},\"colorscale\":[[0.0,\"#0d0887\"],[0.1111111111111111,\"#46039f\"],[0.2222222222222222,\"#7201a8\"],[0.3333333333333333,\"#9c179e\"],[0.4444444444444444,\"#bd3786\"],[0.5555555555555556,\"#d8576b\"],[0.6666666666666666,\"#ed7953\"],[0.7777777777777778,\"#fb9f3a\"],[0.8888888888888888,\"#fdca26\"],[1.0,\"#f0f921\"]],\"type\":\"histogram2dcontour\"}],\"histogram2d\":[{\"colorbar\":{\"outlinewidth\":0,\"ticks\":\"\"},\"colorscale\":[[0.0,\"#0d0887\"],[0.1111111111111111,\"#46039f\"],[0.2222222222222222,\"#7201a8\"],[0.3333333333333333,\"#9c179e\"],[0.4444444444444444,\"#bd3786\"],[0.5555555555555556,\"#d8576b\"],[0.6666666666666666,\"#ed7953\"],[0.7777777777777778,\"#fb9f3a\"],[0.8888888888888888,\"#fdca26\"],[1.0,\"#f0f921\"]],\"type\":\"histogram2d\"}],\"histogram\":[{\"marker\":{\"pattern\":{\"fillmode\":\"overlay\",\"size\":10,\"solidity\":0.2}},\"type\":\"histogram\"}],\"mesh3d\":[{\"colorbar\":{\"outlinewidth\":0,\"ticks\":\"\"},\"type\":\"mesh3d\"}],\"parcoords\":[{\"line\":{\"colorbar\":{\"outlinewidth\":0,\"ticks\":\"\"}},\"type\":\"parcoords\"}],\"pie\":[{\"automargin\":true,\"type\":\"pie\"}],\"scatter3d\":[{\"line\":{\"colorbar\":{\"outlinewidth\":0,\"ticks\":\"\"}},\"marker\":{\"colorbar\":{\"outlinewidth\":0,\"ticks\":\"\"}},\"type\":\"scatter3d\"}],\"scattercarpet\":[{\"marker\":{\"colorbar\":{\"outlinewidth\":0,\"ticks\":\"\"}},\"type\":\"scattercarpet\"}],\"scattergeo\":[{\"marker\":{\"colorbar\":{\"outlinewidth\":0,\"ticks\":\"\"}},\"type\":\"scattergeo\"}],\"scattergl\":[{\"marker\":{\"colorbar\":{\"outlinewidth\":0,\"ticks\":\"\"}},\"type\":\"scattergl\"}],\"scattermapbox\":[{\"marker\":{\"colorbar\":{\"outlinewidth\":0,\"ticks\":\"\"}},\"type\":\"scattermapbox\"}],\"scatterpolargl\":[{\"marker\":{\"colorbar\":{\"outlinewidth\":0,\"ticks\":\"\"}},\"type\":\"scatterpolargl\"}],\"scatterpolar\":[{\"marker\":{\"colorbar\":{\"outlinewidth\":0,\"ticks\":\"\"}},\"type\":\"scatterpolar\"}],\"scatter\":[{\"fillpattern\":{\"fillmode\":\"overlay\",\"size\":10,\"solidity\":0.2},\"type\":\"scatter\"}],\"scatterternary\":[{\"marker\":{\"colorbar\":{\"outlinewidth\":0,\"ticks\":\"\"}},\"type\":\"scatterternary\"}],\"surface\":[{\"colorbar\":{\"outlinewidth\":0,\"ticks\":\"\"},\"colorscale\":[[0.0,\"#0d0887\"],[0.1111111111111111,\"#46039f\"],[0.2222222222222222,\"#7201a8\"],[0.3333333333333333,\"#9c179e\"],[0.4444444444444444,\"#bd3786\"],[0.5555555555555556,\"#d8576b\"],[0.6666666666666666,\"#ed7953\"],[0.7777777777777778,\"#fb9f3a\"],[0.8888888888888888,\"#fdca26\"],[1.0,\"#f0f921\"]],\"type\":\"surface\"}],\"table\":[{\"cells\":{\"fill\":{\"color\":\"#EBF0F8\"},\"line\":{\"color\":\"white\"}},\"header\":{\"fill\":{\"color\":\"#C8D4E3\"},\"line\":{\"color\":\"white\"}},\"type\":\"table\"}]},\"layout\":{\"annotationdefaults\":{\"arrowcolor\":\"#2a3f5f\",\"arrowhead\":0,\"arrowwidth\":1},\"autotypenumbers\":\"strict\",\"coloraxis\":{\"colorbar\":{\"outlinewidth\":0,\"ticks\":\"\"}},\"colorscale\":{\"diverging\":[[0,\"#8e0152\"],[0.1,\"#c51b7d\"],[0.2,\"#de77ae\"],[0.3,\"#f1b6da\"],[0.4,\"#fde0ef\"],[0.5,\"#f7f7f7\"],[0.6,\"#e6f5d0\"],[0.7,\"#b8e186\"],[0.8,\"#7fbc41\"],[0.9,\"#4d9221\"],[1,\"#276419\"]],\"sequential\":[[0.0,\"#0d0887\"],[0.1111111111111111,\"#46039f\"],[0.2222222222222222,\"#7201a8\"],[0.3333333333333333,\"#9c179e\"],[0.4444444444444444,\"#bd3786\"],[0.5555555555555556,\"#d8576b\"],[0.6666666666666666,\"#ed7953\"],[0.7777777777777778,\"#fb9f3a\"],[0.8888888888888888,\"#fdca26\"],[1.0,\"#f0f921\"]],\"sequentialminus\":[[0.0,\"#0d0887\"],[0.1111111111111111,\"#46039f\"],[0.2222222222222222,\"#7201a8\"],[0.3333333333333333,\"#9c179e\"],[0.4444444444444444,\"#bd3786\"],[0.5555555555555556,\"#d8576b\"],[0.6666666666666666,\"#ed7953\"],[0.7777777777777778,\"#fb9f3a\"],[0.8888888888888888,\"#fdca26\"],[1.0,\"#f0f921\"]]},\"colorway\":[\"#636efa\",\"#EF553B\",\"#00cc96\",\"#ab63fa\",\"#FFA15A\",\"#19d3f3\",\"#FF6692\",\"#B6E880\",\"#FF97FF\",\"#FECB52\"],\"font\":{\"color\":\"#2a3f5f\"},\"geo\":{\"bgcolor\":\"white\",\"lakecolor\":\"white\",\"landcolor\":\"#E5ECF6\",\"showlakes\":true,\"showland\":true,\"subunitcolor\":\"white\"},\"hoverlabel\":{\"align\":\"left\"},\"hovermode\":\"closest\",\"mapbox\":{\"style\":\"light\"},\"paper_bgcolor\":\"white\",\"plot_bgcolor\":\"#E5ECF6\",\"polar\":{\"angularaxis\":{\"gridcolor\":\"white\",\"linecolor\":\"white\",\"ticks\":\"\"},\"bgcolor\":\"#E5ECF6\",\"radialaxis\":{\"gridcolor\":\"white\",\"linecolor\":\"white\",\"ticks\":\"\"}},\"scene\":{\"xaxis\":{\"backgroundcolor\":\"#E5ECF6\",\"gridcolor\":\"white\",\"gridwidth\":2,\"linecolor\":\"white\",\"showbackground\":true,\"ticks\":\"\",\"zerolinecolor\":\"white\"},\"yaxis\":{\"backgroundcolor\":\"#E5ECF6\",\"gridcolor\":\"white\",\"gridwidth\":2,\"linecolor\":\"white\",\"showbackground\":true,\"ticks\":\"\",\"zerolinecolor\":\"white\"},\"zaxis\":{\"backgroundcolor\":\"#E5ECF6\",\"gridcolor\":\"white\",\"gridwidth\":2,\"linecolor\":\"white\",\"showbackground\":true,\"ticks\":\"\",\"zerolinecolor\":\"white\"}},\"shapedefaults\":{\"line\":{\"color\":\"#2a3f5f\"}},\"ternary\":{\"aaxis\":{\"gridcolor\":\"white\",\"linecolor\":\"white\",\"ticks\":\"\"},\"baxis\":{\"gridcolor\":\"white\",\"linecolor\":\"white\",\"ticks\":\"\"},\"bgcolor\":\"#E5ECF6\",\"caxis\":{\"gridcolor\":\"white\",\"linecolor\":\"white\",\"ticks\":\"\"}},\"title\":{\"x\":0.05},\"xaxis\":{\"automargin\":true,\"gridcolor\":\"white\",\"linecolor\":\"white\",\"ticks\":\"\",\"title\":{\"standoff\":15},\"zerolinecolor\":\"white\",\"zerolinewidth\":2},\"yaxis\":{\"automargin\":true,\"gridcolor\":\"white\",\"linecolor\":\"white\",\"ticks\":\"\",\"title\":{\"standoff\":15},\"zerolinecolor\":\"white\",\"zerolinewidth\":2}}},\"title\":{\"font\":{\"color\":\"#4D5663\"}},\"xaxis\":{\"gridcolor\":\"#E1E5ED\",\"showgrid\":true,\"tickfont\":{\"color\":\"#4D5663\"},\"title\":{\"font\":{\"color\":\"#4D5663\"},\"text\":\"\"},\"zerolinecolor\":\"#E1E5ED\"},\"yaxis\":{\"gridcolor\":\"#E1E5ED\",\"showgrid\":true,\"tickfont\":{\"color\":\"#4D5663\"},\"title\":{\"font\":{\"color\":\"#4D5663\"},\"text\":\"\"},\"zerolinecolor\":\"#E1E5ED\"}},                        {\"showLink\": true, \"linkText\": \"Export to plot.ly\", \"plotlyServerURL\": \"https://plot.ly\", \"responsive\": true}                    ).then(function(){\n",
       "                            \n",
       "var gd = document.getElementById('1c409c61-d145-4183-8b3b-9df9439b9a26');\n",
       "var x = new MutationObserver(function (mutations, observer) {{\n",
       "        var display = window.getComputedStyle(gd).display;\n",
       "        if (!display || display === 'none') {{\n",
       "            console.log([gd, 'removed!']);\n",
       "            Plotly.purge(gd);\n",
       "            observer.disconnect();\n",
       "        }}\n",
       "}});\n",
       "\n",
       "// Listen for the removal of the full notebook cells\n",
       "var notebookContainer = gd.closest('#notebook-container');\n",
       "if (notebookContainer) {{\n",
       "    x.observe(notebookContainer, {childList: true});\n",
       "}}\n",
       "\n",
       "// Listen for the clearing of the current output cell\n",
       "var outputEl = gd.closest('.output');\n",
       "if (outputEl) {{\n",
       "    x.observe(outputEl, {childList: true});\n",
       "}}\n",
       "\n",
       "                        })                };                });            </script>        </div>"
      ]
     },
     "metadata": {},
     "output_type": "display_data"
    }
   ],
   "source": [
    "df.groupby(\"YEAR\")[[\"WO_A\",\"PW_A\"]].mean().iplot(kind = \"bar\")"
   ]
  },
  {
   "cell_type": "code",
   "execution_count": 35,
   "id": "53b1eedb",
   "metadata": {},
   "outputs": [
    {
     "data": {
      "application/vnd.plotly.v1+json": {
       "config": {
        "linkText": "Export to plot.ly",
        "plotlyServerURL": "https://plot.ly",
        "showLink": true
       },
       "data": [
        {
         "marker": {
          "color": "rgba(255, 153, 51, 0.6)",
          "line": {
           "color": "rgba(255, 153, 51, 1.0)",
           "width": 1
          }
         },
         "name": "WO_A",
         "orientation": "v",
         "text": "",
         "type": "bar",
         "x": [
          2007,
          2008,
          2009,
          2010,
          2011,
          2012,
          2013,
          2014,
          2015,
          2016,
          2017,
          2018,
          2019,
          2020,
          2021
         ],
         "y": [
          38168,
          36316.8,
          45000,
          50294.4,
          62400,
          71500,
          76003,
          75691,
          71032,
          73070,
          72000,
          72100,
          73944,
          75000,
          78000
         ]
        },
        {
         "marker": {
          "color": "rgba(55, 128, 191, 0.6)",
          "line": {
           "color": "rgba(55, 128, 191, 1.0)",
           "width": 1
          }
         },
         "name": "PW_A",
         "orientation": "v",
         "text": "",
         "type": "bar",
         "x": [
          2007,
          2008,
          2009,
          2010,
          2011,
          2012,
          2013,
          2014,
          2015,
          2016,
          2017,
          2018,
          2019,
          2020,
          2021
         ],
         "y": [
          36061.85,
          34902,
          41267.2,
          45510.4,
          57387,
          64542.4,
          69888,
          70242,
          64584,
          66248,
          64197,
          63502,
          63003,
          64085,
          68203
         ]
        }
       ],
       "layout": {
        "legend": {
         "bgcolor": "#F5F6F9",
         "font": {
          "color": "#4D5663"
         }
        },
        "paper_bgcolor": "#F5F6F9",
        "plot_bgcolor": "#F5F6F9",
        "template": {
         "data": {
          "bar": [
           {
            "error_x": {
             "color": "#2a3f5f"
            },
            "error_y": {
             "color": "#2a3f5f"
            },
            "marker": {
             "line": {
              "color": "#E5ECF6",
              "width": 0.5
             },
             "pattern": {
              "fillmode": "overlay",
              "size": 10,
              "solidity": 0.2
             }
            },
            "type": "bar"
           }
          ],
          "barpolar": [
           {
            "marker": {
             "line": {
              "color": "#E5ECF6",
              "width": 0.5
             },
             "pattern": {
              "fillmode": "overlay",
              "size": 10,
              "solidity": 0.2
             }
            },
            "type": "barpolar"
           }
          ],
          "carpet": [
           {
            "aaxis": {
             "endlinecolor": "#2a3f5f",
             "gridcolor": "white",
             "linecolor": "white",
             "minorgridcolor": "white",
             "startlinecolor": "#2a3f5f"
            },
            "baxis": {
             "endlinecolor": "#2a3f5f",
             "gridcolor": "white",
             "linecolor": "white",
             "minorgridcolor": "white",
             "startlinecolor": "#2a3f5f"
            },
            "type": "carpet"
           }
          ],
          "choropleth": [
           {
            "colorbar": {
             "outlinewidth": 0,
             "ticks": ""
            },
            "type": "choropleth"
           }
          ],
          "contour": [
           {
            "colorbar": {
             "outlinewidth": 0,
             "ticks": ""
            },
            "colorscale": [
             [
              0,
              "#0d0887"
             ],
             [
              0.1111111111111111,
              "#46039f"
             ],
             [
              0.2222222222222222,
              "#7201a8"
             ],
             [
              0.3333333333333333,
              "#9c179e"
             ],
             [
              0.4444444444444444,
              "#bd3786"
             ],
             [
              0.5555555555555556,
              "#d8576b"
             ],
             [
              0.6666666666666666,
              "#ed7953"
             ],
             [
              0.7777777777777778,
              "#fb9f3a"
             ],
             [
              0.8888888888888888,
              "#fdca26"
             ],
             [
              1,
              "#f0f921"
             ]
            ],
            "type": "contour"
           }
          ],
          "contourcarpet": [
           {
            "colorbar": {
             "outlinewidth": 0,
             "ticks": ""
            },
            "type": "contourcarpet"
           }
          ],
          "heatmap": [
           {
            "colorbar": {
             "outlinewidth": 0,
             "ticks": ""
            },
            "colorscale": [
             [
              0,
              "#0d0887"
             ],
             [
              0.1111111111111111,
              "#46039f"
             ],
             [
              0.2222222222222222,
              "#7201a8"
             ],
             [
              0.3333333333333333,
              "#9c179e"
             ],
             [
              0.4444444444444444,
              "#bd3786"
             ],
             [
              0.5555555555555556,
              "#d8576b"
             ],
             [
              0.6666666666666666,
              "#ed7953"
             ],
             [
              0.7777777777777778,
              "#fb9f3a"
             ],
             [
              0.8888888888888888,
              "#fdca26"
             ],
             [
              1,
              "#f0f921"
             ]
            ],
            "type": "heatmap"
           }
          ],
          "heatmapgl": [
           {
            "colorbar": {
             "outlinewidth": 0,
             "ticks": ""
            },
            "colorscale": [
             [
              0,
              "#0d0887"
             ],
             [
              0.1111111111111111,
              "#46039f"
             ],
             [
              0.2222222222222222,
              "#7201a8"
             ],
             [
              0.3333333333333333,
              "#9c179e"
             ],
             [
              0.4444444444444444,
              "#bd3786"
             ],
             [
              0.5555555555555556,
              "#d8576b"
             ],
             [
              0.6666666666666666,
              "#ed7953"
             ],
             [
              0.7777777777777778,
              "#fb9f3a"
             ],
             [
              0.8888888888888888,
              "#fdca26"
             ],
             [
              1,
              "#f0f921"
             ]
            ],
            "type": "heatmapgl"
           }
          ],
          "histogram": [
           {
            "marker": {
             "pattern": {
              "fillmode": "overlay",
              "size": 10,
              "solidity": 0.2
             }
            },
            "type": "histogram"
           }
          ],
          "histogram2d": [
           {
            "colorbar": {
             "outlinewidth": 0,
             "ticks": ""
            },
            "colorscale": [
             [
              0,
              "#0d0887"
             ],
             [
              0.1111111111111111,
              "#46039f"
             ],
             [
              0.2222222222222222,
              "#7201a8"
             ],
             [
              0.3333333333333333,
              "#9c179e"
             ],
             [
              0.4444444444444444,
              "#bd3786"
             ],
             [
              0.5555555555555556,
              "#d8576b"
             ],
             [
              0.6666666666666666,
              "#ed7953"
             ],
             [
              0.7777777777777778,
              "#fb9f3a"
             ],
             [
              0.8888888888888888,
              "#fdca26"
             ],
             [
              1,
              "#f0f921"
             ]
            ],
            "type": "histogram2d"
           }
          ],
          "histogram2dcontour": [
           {
            "colorbar": {
             "outlinewidth": 0,
             "ticks": ""
            },
            "colorscale": [
             [
              0,
              "#0d0887"
             ],
             [
              0.1111111111111111,
              "#46039f"
             ],
             [
              0.2222222222222222,
              "#7201a8"
             ],
             [
              0.3333333333333333,
              "#9c179e"
             ],
             [
              0.4444444444444444,
              "#bd3786"
             ],
             [
              0.5555555555555556,
              "#d8576b"
             ],
             [
              0.6666666666666666,
              "#ed7953"
             ],
             [
              0.7777777777777778,
              "#fb9f3a"
             ],
             [
              0.8888888888888888,
              "#fdca26"
             ],
             [
              1,
              "#f0f921"
             ]
            ],
            "type": "histogram2dcontour"
           }
          ],
          "mesh3d": [
           {
            "colorbar": {
             "outlinewidth": 0,
             "ticks": ""
            },
            "type": "mesh3d"
           }
          ],
          "parcoords": [
           {
            "line": {
             "colorbar": {
              "outlinewidth": 0,
              "ticks": ""
             }
            },
            "type": "parcoords"
           }
          ],
          "pie": [
           {
            "automargin": true,
            "type": "pie"
           }
          ],
          "scatter": [
           {
            "fillpattern": {
             "fillmode": "overlay",
             "size": 10,
             "solidity": 0.2
            },
            "type": "scatter"
           }
          ],
          "scatter3d": [
           {
            "line": {
             "colorbar": {
              "outlinewidth": 0,
              "ticks": ""
             }
            },
            "marker": {
             "colorbar": {
              "outlinewidth": 0,
              "ticks": ""
             }
            },
            "type": "scatter3d"
           }
          ],
          "scattercarpet": [
           {
            "marker": {
             "colorbar": {
              "outlinewidth": 0,
              "ticks": ""
             }
            },
            "type": "scattercarpet"
           }
          ],
          "scattergeo": [
           {
            "marker": {
             "colorbar": {
              "outlinewidth": 0,
              "ticks": ""
             }
            },
            "type": "scattergeo"
           }
          ],
          "scattergl": [
           {
            "marker": {
             "colorbar": {
              "outlinewidth": 0,
              "ticks": ""
             }
            },
            "type": "scattergl"
           }
          ],
          "scattermapbox": [
           {
            "marker": {
             "colorbar": {
              "outlinewidth": 0,
              "ticks": ""
             }
            },
            "type": "scattermapbox"
           }
          ],
          "scatterpolar": [
           {
            "marker": {
             "colorbar": {
              "outlinewidth": 0,
              "ticks": ""
             }
            },
            "type": "scatterpolar"
           }
          ],
          "scatterpolargl": [
           {
            "marker": {
             "colorbar": {
              "outlinewidth": 0,
              "ticks": ""
             }
            },
            "type": "scatterpolargl"
           }
          ],
          "scatterternary": [
           {
            "marker": {
             "colorbar": {
              "outlinewidth": 0,
              "ticks": ""
             }
            },
            "type": "scatterternary"
           }
          ],
          "surface": [
           {
            "colorbar": {
             "outlinewidth": 0,
             "ticks": ""
            },
            "colorscale": [
             [
              0,
              "#0d0887"
             ],
             [
              0.1111111111111111,
              "#46039f"
             ],
             [
              0.2222222222222222,
              "#7201a8"
             ],
             [
              0.3333333333333333,
              "#9c179e"
             ],
             [
              0.4444444444444444,
              "#bd3786"
             ],
             [
              0.5555555555555556,
              "#d8576b"
             ],
             [
              0.6666666666666666,
              "#ed7953"
             ],
             [
              0.7777777777777778,
              "#fb9f3a"
             ],
             [
              0.8888888888888888,
              "#fdca26"
             ],
             [
              1,
              "#f0f921"
             ]
            ],
            "type": "surface"
           }
          ],
          "table": [
           {
            "cells": {
             "fill": {
              "color": "#EBF0F8"
             },
             "line": {
              "color": "white"
             }
            },
            "header": {
             "fill": {
              "color": "#C8D4E3"
             },
             "line": {
              "color": "white"
             }
            },
            "type": "table"
           }
          ]
         },
         "layout": {
          "annotationdefaults": {
           "arrowcolor": "#2a3f5f",
           "arrowhead": 0,
           "arrowwidth": 1
          },
          "autotypenumbers": "strict",
          "coloraxis": {
           "colorbar": {
            "outlinewidth": 0,
            "ticks": ""
           }
          },
          "colorscale": {
           "diverging": [
            [
             0,
             "#8e0152"
            ],
            [
             0.1,
             "#c51b7d"
            ],
            [
             0.2,
             "#de77ae"
            ],
            [
             0.3,
             "#f1b6da"
            ],
            [
             0.4,
             "#fde0ef"
            ],
            [
             0.5,
             "#f7f7f7"
            ],
            [
             0.6,
             "#e6f5d0"
            ],
            [
             0.7,
             "#b8e186"
            ],
            [
             0.8,
             "#7fbc41"
            ],
            [
             0.9,
             "#4d9221"
            ],
            [
             1,
             "#276419"
            ]
           ],
           "sequential": [
            [
             0,
             "#0d0887"
            ],
            [
             0.1111111111111111,
             "#46039f"
            ],
            [
             0.2222222222222222,
             "#7201a8"
            ],
            [
             0.3333333333333333,
             "#9c179e"
            ],
            [
             0.4444444444444444,
             "#bd3786"
            ],
            [
             0.5555555555555556,
             "#d8576b"
            ],
            [
             0.6666666666666666,
             "#ed7953"
            ],
            [
             0.7777777777777778,
             "#fb9f3a"
            ],
            [
             0.8888888888888888,
             "#fdca26"
            ],
            [
             1,
             "#f0f921"
            ]
           ],
           "sequentialminus": [
            [
             0,
             "#0d0887"
            ],
            [
             0.1111111111111111,
             "#46039f"
            ],
            [
             0.2222222222222222,
             "#7201a8"
            ],
            [
             0.3333333333333333,
             "#9c179e"
            ],
            [
             0.4444444444444444,
             "#bd3786"
            ],
            [
             0.5555555555555556,
             "#d8576b"
            ],
            [
             0.6666666666666666,
             "#ed7953"
            ],
            [
             0.7777777777777778,
             "#fb9f3a"
            ],
            [
             0.8888888888888888,
             "#fdca26"
            ],
            [
             1,
             "#f0f921"
            ]
           ]
          },
          "colorway": [
           "#636efa",
           "#EF553B",
           "#00cc96",
           "#ab63fa",
           "#FFA15A",
           "#19d3f3",
           "#FF6692",
           "#B6E880",
           "#FF97FF",
           "#FECB52"
          ],
          "font": {
           "color": "#2a3f5f"
          },
          "geo": {
           "bgcolor": "white",
           "lakecolor": "white",
           "landcolor": "#E5ECF6",
           "showlakes": true,
           "showland": true,
           "subunitcolor": "white"
          },
          "hoverlabel": {
           "align": "left"
          },
          "hovermode": "closest",
          "mapbox": {
           "style": "light"
          },
          "paper_bgcolor": "white",
          "plot_bgcolor": "#E5ECF6",
          "polar": {
           "angularaxis": {
            "gridcolor": "white",
            "linecolor": "white",
            "ticks": ""
           },
           "bgcolor": "#E5ECF6",
           "radialaxis": {
            "gridcolor": "white",
            "linecolor": "white",
            "ticks": ""
           }
          },
          "scene": {
           "xaxis": {
            "backgroundcolor": "#E5ECF6",
            "gridcolor": "white",
            "gridwidth": 2,
            "linecolor": "white",
            "showbackground": true,
            "ticks": "",
            "zerolinecolor": "white"
           },
           "yaxis": {
            "backgroundcolor": "#E5ECF6",
            "gridcolor": "white",
            "gridwidth": 2,
            "linecolor": "white",
            "showbackground": true,
            "ticks": "",
            "zerolinecolor": "white"
           },
           "zaxis": {
            "backgroundcolor": "#E5ECF6",
            "gridcolor": "white",
            "gridwidth": 2,
            "linecolor": "white",
            "showbackground": true,
            "ticks": "",
            "zerolinecolor": "white"
           }
          },
          "shapedefaults": {
           "line": {
            "color": "#2a3f5f"
           }
          },
          "ternary": {
           "aaxis": {
            "gridcolor": "white",
            "linecolor": "white",
            "ticks": ""
           },
           "baxis": {
            "gridcolor": "white",
            "linecolor": "white",
            "ticks": ""
           },
           "bgcolor": "#E5ECF6",
           "caxis": {
            "gridcolor": "white",
            "linecolor": "white",
            "ticks": ""
           }
          },
          "title": {
           "x": 0.05
          },
          "xaxis": {
           "automargin": true,
           "gridcolor": "white",
           "linecolor": "white",
           "ticks": "",
           "title": {
            "standoff": 15
           },
           "zerolinecolor": "white",
           "zerolinewidth": 2
          },
          "yaxis": {
           "automargin": true,
           "gridcolor": "white",
           "linecolor": "white",
           "ticks": "",
           "title": {
            "standoff": 15
           },
           "zerolinecolor": "white",
           "zerolinewidth": 2
          }
         }
        },
        "title": {
         "font": {
          "color": "#4D5663"
         }
        },
        "xaxis": {
         "gridcolor": "#E1E5ED",
         "showgrid": true,
         "tickfont": {
          "color": "#4D5663"
         },
         "title": {
          "font": {
           "color": "#4D5663"
          },
          "text": ""
         },
         "zerolinecolor": "#E1E5ED"
        },
        "yaxis": {
         "gridcolor": "#E1E5ED",
         "showgrid": true,
         "tickfont": {
          "color": "#4D5663"
         },
         "title": {
          "font": {
           "color": "#4D5663"
          },
          "text": ""
         },
         "zerolinecolor": "#E1E5ED"
        }
       }
      },
      "text/html": [
       "<div>                            <div id=\"e214c162-ae6b-4d1b-ba5b-af34cea97256\" class=\"plotly-graph-div\" style=\"height:525px; width:100%;\"></div>            <script type=\"text/javascript\">                require([\"plotly\"], function(Plotly) {                    window.PLOTLYENV=window.PLOTLYENV || {};\n",
       "                    window.PLOTLYENV.BASE_URL='https://plot.ly';                                    if (document.getElementById(\"e214c162-ae6b-4d1b-ba5b-af34cea97256\")) {                    Plotly.newPlot(                        \"e214c162-ae6b-4d1b-ba5b-af34cea97256\",                        [{\"marker\":{\"color\":\"rgba(255, 153, 51, 0.6)\",\"line\":{\"color\":\"rgba(255, 153, 51, 1.0)\",\"width\":1}},\"name\":\"WO_A\",\"orientation\":\"v\",\"text\":\"\",\"x\":[2007,2008,2009,2010,2011,2012,2013,2014,2015,2016,2017,2018,2019,2020,2021],\"y\":[38168.0,36316.8,45000.0,50294.4,62400.0,71500.0,76003.0,75691.0,71032.0,73070.0,72000.0,72100.0,73944.0,75000.0,78000.0],\"type\":\"bar\"},{\"marker\":{\"color\":\"rgba(55, 128, 191, 0.6)\",\"line\":{\"color\":\"rgba(55, 128, 191, 1.0)\",\"width\":1}},\"name\":\"PW_A\",\"orientation\":\"v\",\"text\":\"\",\"x\":[2007,2008,2009,2010,2011,2012,2013,2014,2015,2016,2017,2018,2019,2020,2021],\"y\":[36061.85,34902.0,41267.2,45510.4,57387.0,64542.4,69888.0,70242.0,64584.0,66248.0,64197.0,63502.0,63003.0,64085.0,68203.0],\"type\":\"bar\"}],                        {\"legend\":{\"bgcolor\":\"#F5F6F9\",\"font\":{\"color\":\"#4D5663\"}},\"paper_bgcolor\":\"#F5F6F9\",\"plot_bgcolor\":\"#F5F6F9\",\"template\":{\"data\":{\"barpolar\":[{\"marker\":{\"line\":{\"color\":\"#E5ECF6\",\"width\":0.5},\"pattern\":{\"fillmode\":\"overlay\",\"size\":10,\"solidity\":0.2}},\"type\":\"barpolar\"}],\"bar\":[{\"error_x\":{\"color\":\"#2a3f5f\"},\"error_y\":{\"color\":\"#2a3f5f\"},\"marker\":{\"line\":{\"color\":\"#E5ECF6\",\"width\":0.5},\"pattern\":{\"fillmode\":\"overlay\",\"size\":10,\"solidity\":0.2}},\"type\":\"bar\"}],\"carpet\":[{\"aaxis\":{\"endlinecolor\":\"#2a3f5f\",\"gridcolor\":\"white\",\"linecolor\":\"white\",\"minorgridcolor\":\"white\",\"startlinecolor\":\"#2a3f5f\"},\"baxis\":{\"endlinecolor\":\"#2a3f5f\",\"gridcolor\":\"white\",\"linecolor\":\"white\",\"minorgridcolor\":\"white\",\"startlinecolor\":\"#2a3f5f\"},\"type\":\"carpet\"}],\"choropleth\":[{\"colorbar\":{\"outlinewidth\":0,\"ticks\":\"\"},\"type\":\"choropleth\"}],\"contourcarpet\":[{\"colorbar\":{\"outlinewidth\":0,\"ticks\":\"\"},\"type\":\"contourcarpet\"}],\"contour\":[{\"colorbar\":{\"outlinewidth\":0,\"ticks\":\"\"},\"colorscale\":[[0.0,\"#0d0887\"],[0.1111111111111111,\"#46039f\"],[0.2222222222222222,\"#7201a8\"],[0.3333333333333333,\"#9c179e\"],[0.4444444444444444,\"#bd3786\"],[0.5555555555555556,\"#d8576b\"],[0.6666666666666666,\"#ed7953\"],[0.7777777777777778,\"#fb9f3a\"],[0.8888888888888888,\"#fdca26\"],[1.0,\"#f0f921\"]],\"type\":\"contour\"}],\"heatmapgl\":[{\"colorbar\":{\"outlinewidth\":0,\"ticks\":\"\"},\"colorscale\":[[0.0,\"#0d0887\"],[0.1111111111111111,\"#46039f\"],[0.2222222222222222,\"#7201a8\"],[0.3333333333333333,\"#9c179e\"],[0.4444444444444444,\"#bd3786\"],[0.5555555555555556,\"#d8576b\"],[0.6666666666666666,\"#ed7953\"],[0.7777777777777778,\"#fb9f3a\"],[0.8888888888888888,\"#fdca26\"],[1.0,\"#f0f921\"]],\"type\":\"heatmapgl\"}],\"heatmap\":[{\"colorbar\":{\"outlinewidth\":0,\"ticks\":\"\"},\"colorscale\":[[0.0,\"#0d0887\"],[0.1111111111111111,\"#46039f\"],[0.2222222222222222,\"#7201a8\"],[0.3333333333333333,\"#9c179e\"],[0.4444444444444444,\"#bd3786\"],[0.5555555555555556,\"#d8576b\"],[0.6666666666666666,\"#ed7953\"],[0.7777777777777778,\"#fb9f3a\"],[0.8888888888888888,\"#fdca26\"],[1.0,\"#f0f921\"]],\"type\":\"heatmap\"}],\"histogram2dcontour\":[{\"colorbar\":{\"outlinewidth\":0,\"ticks\":\"\"},\"colorscale\":[[0.0,\"#0d0887\"],[0.1111111111111111,\"#46039f\"],[0.2222222222222222,\"#7201a8\"],[0.3333333333333333,\"#9c179e\"],[0.4444444444444444,\"#bd3786\"],[0.5555555555555556,\"#d8576b\"],[0.6666666666666666,\"#ed7953\"],[0.7777777777777778,\"#fb9f3a\"],[0.8888888888888888,\"#fdca26\"],[1.0,\"#f0f921\"]],\"type\":\"histogram2dcontour\"}],\"histogram2d\":[{\"colorbar\":{\"outlinewidth\":0,\"ticks\":\"\"},\"colorscale\":[[0.0,\"#0d0887\"],[0.1111111111111111,\"#46039f\"],[0.2222222222222222,\"#7201a8\"],[0.3333333333333333,\"#9c179e\"],[0.4444444444444444,\"#bd3786\"],[0.5555555555555556,\"#d8576b\"],[0.6666666666666666,\"#ed7953\"],[0.7777777777777778,\"#fb9f3a\"],[0.8888888888888888,\"#fdca26\"],[1.0,\"#f0f921\"]],\"type\":\"histogram2d\"}],\"histogram\":[{\"marker\":{\"pattern\":{\"fillmode\":\"overlay\",\"size\":10,\"solidity\":0.2}},\"type\":\"histogram\"}],\"mesh3d\":[{\"colorbar\":{\"outlinewidth\":0,\"ticks\":\"\"},\"type\":\"mesh3d\"}],\"parcoords\":[{\"line\":{\"colorbar\":{\"outlinewidth\":0,\"ticks\":\"\"}},\"type\":\"parcoords\"}],\"pie\":[{\"automargin\":true,\"type\":\"pie\"}],\"scatter3d\":[{\"line\":{\"colorbar\":{\"outlinewidth\":0,\"ticks\":\"\"}},\"marker\":{\"colorbar\":{\"outlinewidth\":0,\"ticks\":\"\"}},\"type\":\"scatter3d\"}],\"scattercarpet\":[{\"marker\":{\"colorbar\":{\"outlinewidth\":0,\"ticks\":\"\"}},\"type\":\"scattercarpet\"}],\"scattergeo\":[{\"marker\":{\"colorbar\":{\"outlinewidth\":0,\"ticks\":\"\"}},\"type\":\"scattergeo\"}],\"scattergl\":[{\"marker\":{\"colorbar\":{\"outlinewidth\":0,\"ticks\":\"\"}},\"type\":\"scattergl\"}],\"scattermapbox\":[{\"marker\":{\"colorbar\":{\"outlinewidth\":0,\"ticks\":\"\"}},\"type\":\"scattermapbox\"}],\"scatterpolargl\":[{\"marker\":{\"colorbar\":{\"outlinewidth\":0,\"ticks\":\"\"}},\"type\":\"scatterpolargl\"}],\"scatterpolar\":[{\"marker\":{\"colorbar\":{\"outlinewidth\":0,\"ticks\":\"\"}},\"type\":\"scatterpolar\"}],\"scatter\":[{\"fillpattern\":{\"fillmode\":\"overlay\",\"size\":10,\"solidity\":0.2},\"type\":\"scatter\"}],\"scatterternary\":[{\"marker\":{\"colorbar\":{\"outlinewidth\":0,\"ticks\":\"\"}},\"type\":\"scatterternary\"}],\"surface\":[{\"colorbar\":{\"outlinewidth\":0,\"ticks\":\"\"},\"colorscale\":[[0.0,\"#0d0887\"],[0.1111111111111111,\"#46039f\"],[0.2222222222222222,\"#7201a8\"],[0.3333333333333333,\"#9c179e\"],[0.4444444444444444,\"#bd3786\"],[0.5555555555555556,\"#d8576b\"],[0.6666666666666666,\"#ed7953\"],[0.7777777777777778,\"#fb9f3a\"],[0.8888888888888888,\"#fdca26\"],[1.0,\"#f0f921\"]],\"type\":\"surface\"}],\"table\":[{\"cells\":{\"fill\":{\"color\":\"#EBF0F8\"},\"line\":{\"color\":\"white\"}},\"header\":{\"fill\":{\"color\":\"#C8D4E3\"},\"line\":{\"color\":\"white\"}},\"type\":\"table\"}]},\"layout\":{\"annotationdefaults\":{\"arrowcolor\":\"#2a3f5f\",\"arrowhead\":0,\"arrowwidth\":1},\"autotypenumbers\":\"strict\",\"coloraxis\":{\"colorbar\":{\"outlinewidth\":0,\"ticks\":\"\"}},\"colorscale\":{\"diverging\":[[0,\"#8e0152\"],[0.1,\"#c51b7d\"],[0.2,\"#de77ae\"],[0.3,\"#f1b6da\"],[0.4,\"#fde0ef\"],[0.5,\"#f7f7f7\"],[0.6,\"#e6f5d0\"],[0.7,\"#b8e186\"],[0.8,\"#7fbc41\"],[0.9,\"#4d9221\"],[1,\"#276419\"]],\"sequential\":[[0.0,\"#0d0887\"],[0.1111111111111111,\"#46039f\"],[0.2222222222222222,\"#7201a8\"],[0.3333333333333333,\"#9c179e\"],[0.4444444444444444,\"#bd3786\"],[0.5555555555555556,\"#d8576b\"],[0.6666666666666666,\"#ed7953\"],[0.7777777777777778,\"#fb9f3a\"],[0.8888888888888888,\"#fdca26\"],[1.0,\"#f0f921\"]],\"sequentialminus\":[[0.0,\"#0d0887\"],[0.1111111111111111,\"#46039f\"],[0.2222222222222222,\"#7201a8\"],[0.3333333333333333,\"#9c179e\"],[0.4444444444444444,\"#bd3786\"],[0.5555555555555556,\"#d8576b\"],[0.6666666666666666,\"#ed7953\"],[0.7777777777777778,\"#fb9f3a\"],[0.8888888888888888,\"#fdca26\"],[1.0,\"#f0f921\"]]},\"colorway\":[\"#636efa\",\"#EF553B\",\"#00cc96\",\"#ab63fa\",\"#FFA15A\",\"#19d3f3\",\"#FF6692\",\"#B6E880\",\"#FF97FF\",\"#FECB52\"],\"font\":{\"color\":\"#2a3f5f\"},\"geo\":{\"bgcolor\":\"white\",\"lakecolor\":\"white\",\"landcolor\":\"#E5ECF6\",\"showlakes\":true,\"showland\":true,\"subunitcolor\":\"white\"},\"hoverlabel\":{\"align\":\"left\"},\"hovermode\":\"closest\",\"mapbox\":{\"style\":\"light\"},\"paper_bgcolor\":\"white\",\"plot_bgcolor\":\"#E5ECF6\",\"polar\":{\"angularaxis\":{\"gridcolor\":\"white\",\"linecolor\":\"white\",\"ticks\":\"\"},\"bgcolor\":\"#E5ECF6\",\"radialaxis\":{\"gridcolor\":\"white\",\"linecolor\":\"white\",\"ticks\":\"\"}},\"scene\":{\"xaxis\":{\"backgroundcolor\":\"#E5ECF6\",\"gridcolor\":\"white\",\"gridwidth\":2,\"linecolor\":\"white\",\"showbackground\":true,\"ticks\":\"\",\"zerolinecolor\":\"white\"},\"yaxis\":{\"backgroundcolor\":\"#E5ECF6\",\"gridcolor\":\"white\",\"gridwidth\":2,\"linecolor\":\"white\",\"showbackground\":true,\"ticks\":\"\",\"zerolinecolor\":\"white\"},\"zaxis\":{\"backgroundcolor\":\"#E5ECF6\",\"gridcolor\":\"white\",\"gridwidth\":2,\"linecolor\":\"white\",\"showbackground\":true,\"ticks\":\"\",\"zerolinecolor\":\"white\"}},\"shapedefaults\":{\"line\":{\"color\":\"#2a3f5f\"}},\"ternary\":{\"aaxis\":{\"gridcolor\":\"white\",\"linecolor\":\"white\",\"ticks\":\"\"},\"baxis\":{\"gridcolor\":\"white\",\"linecolor\":\"white\",\"ticks\":\"\"},\"bgcolor\":\"#E5ECF6\",\"caxis\":{\"gridcolor\":\"white\",\"linecolor\":\"white\",\"ticks\":\"\"}},\"title\":{\"x\":0.05},\"xaxis\":{\"automargin\":true,\"gridcolor\":\"white\",\"linecolor\":\"white\",\"ticks\":\"\",\"title\":{\"standoff\":15},\"zerolinecolor\":\"white\",\"zerolinewidth\":2},\"yaxis\":{\"automargin\":true,\"gridcolor\":\"white\",\"linecolor\":\"white\",\"ticks\":\"\",\"title\":{\"standoff\":15},\"zerolinecolor\":\"white\",\"zerolinewidth\":2}}},\"title\":{\"font\":{\"color\":\"#4D5663\"}},\"xaxis\":{\"gridcolor\":\"#E1E5ED\",\"showgrid\":true,\"tickfont\":{\"color\":\"#4D5663\"},\"title\":{\"font\":{\"color\":\"#4D5663\"},\"text\":\"\"},\"zerolinecolor\":\"#E1E5ED\"},\"yaxis\":{\"gridcolor\":\"#E1E5ED\",\"showgrid\":true,\"tickfont\":{\"color\":\"#4D5663\"},\"title\":{\"font\":{\"color\":\"#4D5663\"},\"text\":\"\"},\"zerolinecolor\":\"#E1E5ED\"}},                        {\"showLink\": true, \"linkText\": \"Export to plot.ly\", \"plotlyServerURL\": \"https://plot.ly\", \"responsive\": true}                    ).then(function(){\n",
       "                            \n",
       "var gd = document.getElementById('e214c162-ae6b-4d1b-ba5b-af34cea97256');\n",
       "var x = new MutationObserver(function (mutations, observer) {{\n",
       "        var display = window.getComputedStyle(gd).display;\n",
       "        if (!display || display === 'none') {{\n",
       "            console.log([gd, 'removed!']);\n",
       "            Plotly.purge(gd);\n",
       "            observer.disconnect();\n",
       "        }}\n",
       "}});\n",
       "\n",
       "// Listen for the removal of the full notebook cells\n",
       "var notebookContainer = gd.closest('#notebook-container');\n",
       "if (notebookContainer) {{\n",
       "    x.observe(notebookContainer, {childList: true});\n",
       "}}\n",
       "\n",
       "// Listen for the clearing of the current output cell\n",
       "var outputEl = gd.closest('.output');\n",
       "if (outputEl) {{\n",
       "    x.observe(outputEl, {childList: true});\n",
       "}}\n",
       "\n",
       "                        })                };                });            </script>        </div>"
      ]
     },
     "metadata": {},
     "output_type": "display_data"
    }
   ],
   "source": [
    "df.groupby(\"YEAR\")[[\"WO_A\",\"PW_A\"]].quantile(.25).iplot(kind = \"bar\")"
   ]
  },
  {
   "cell_type": "code",
   "execution_count": 36,
   "id": "b9408b2b",
   "metadata": {},
   "outputs": [
    {
     "data": {
      "application/vnd.plotly.v1+json": {
       "config": {
        "linkText": "Export to plot.ly",
        "plotlyServerURL": "https://plot.ly",
        "showLink": true
       },
       "data": [
        {
         "marker": {
          "color": "rgba(255, 153, 51, 0.6)",
          "line": {
           "color": "rgba(255, 153, 51, 1.0)",
           "width": 1
          }
         },
         "name": "WO_A",
         "orientation": "v",
         "text": "",
         "type": "bar",
         "x": [
          2007,
          2008,
          2009,
          2010,
          2011,
          2012,
          2013,
          2014,
          2015,
          2016,
          2017,
          2018,
          2019,
          2020,
          2021
         ],
         "y": [
          79747.15,
          80000,
          85000,
          91873.6,
          98530,
          106590.875,
          110000,
          111350,
          109762,
          115107,
          116000,
          120000,
          123115,
          127000,
          129150
         ]
        },
        {
         "marker": {
          "color": "rgba(55, 128, 191, 0.6)",
          "line": {
           "color": "rgba(55, 128, 191, 1.0)",
           "width": 1
          }
         },
         "name": "PW_A",
         "orientation": "v",
         "text": "",
         "type": "bar",
         "x": [
          2007,
          2008,
          2009,
          2010,
          2011,
          2012,
          2013,
          2014,
          2015,
          2016,
          2017,
          2018,
          2019,
          2020,
          2021
         ],
         "y": [
          71739,
          72654.4,
          77105.6,
          83138,
          91312,
          99115,
          102398,
          104042,
          102461,
          106309,
          106101,
          109533,
          110968,
          113381,
          115856
         ]
        }
       ],
       "layout": {
        "legend": {
         "bgcolor": "#F5F6F9",
         "font": {
          "color": "#4D5663"
         }
        },
        "paper_bgcolor": "#F5F6F9",
        "plot_bgcolor": "#F5F6F9",
        "template": {
         "data": {
          "bar": [
           {
            "error_x": {
             "color": "#2a3f5f"
            },
            "error_y": {
             "color": "#2a3f5f"
            },
            "marker": {
             "line": {
              "color": "#E5ECF6",
              "width": 0.5
             },
             "pattern": {
              "fillmode": "overlay",
              "size": 10,
              "solidity": 0.2
             }
            },
            "type": "bar"
           }
          ],
          "barpolar": [
           {
            "marker": {
             "line": {
              "color": "#E5ECF6",
              "width": 0.5
             },
             "pattern": {
              "fillmode": "overlay",
              "size": 10,
              "solidity": 0.2
             }
            },
            "type": "barpolar"
           }
          ],
          "carpet": [
           {
            "aaxis": {
             "endlinecolor": "#2a3f5f",
             "gridcolor": "white",
             "linecolor": "white",
             "minorgridcolor": "white",
             "startlinecolor": "#2a3f5f"
            },
            "baxis": {
             "endlinecolor": "#2a3f5f",
             "gridcolor": "white",
             "linecolor": "white",
             "minorgridcolor": "white",
             "startlinecolor": "#2a3f5f"
            },
            "type": "carpet"
           }
          ],
          "choropleth": [
           {
            "colorbar": {
             "outlinewidth": 0,
             "ticks": ""
            },
            "type": "choropleth"
           }
          ],
          "contour": [
           {
            "colorbar": {
             "outlinewidth": 0,
             "ticks": ""
            },
            "colorscale": [
             [
              0,
              "#0d0887"
             ],
             [
              0.1111111111111111,
              "#46039f"
             ],
             [
              0.2222222222222222,
              "#7201a8"
             ],
             [
              0.3333333333333333,
              "#9c179e"
             ],
             [
              0.4444444444444444,
              "#bd3786"
             ],
             [
              0.5555555555555556,
              "#d8576b"
             ],
             [
              0.6666666666666666,
              "#ed7953"
             ],
             [
              0.7777777777777778,
              "#fb9f3a"
             ],
             [
              0.8888888888888888,
              "#fdca26"
             ],
             [
              1,
              "#f0f921"
             ]
            ],
            "type": "contour"
           }
          ],
          "contourcarpet": [
           {
            "colorbar": {
             "outlinewidth": 0,
             "ticks": ""
            },
            "type": "contourcarpet"
           }
          ],
          "heatmap": [
           {
            "colorbar": {
             "outlinewidth": 0,
             "ticks": ""
            },
            "colorscale": [
             [
              0,
              "#0d0887"
             ],
             [
              0.1111111111111111,
              "#46039f"
             ],
             [
              0.2222222222222222,
              "#7201a8"
             ],
             [
              0.3333333333333333,
              "#9c179e"
             ],
             [
              0.4444444444444444,
              "#bd3786"
             ],
             [
              0.5555555555555556,
              "#d8576b"
             ],
             [
              0.6666666666666666,
              "#ed7953"
             ],
             [
              0.7777777777777778,
              "#fb9f3a"
             ],
             [
              0.8888888888888888,
              "#fdca26"
             ],
             [
              1,
              "#f0f921"
             ]
            ],
            "type": "heatmap"
           }
          ],
          "heatmapgl": [
           {
            "colorbar": {
             "outlinewidth": 0,
             "ticks": ""
            },
            "colorscale": [
             [
              0,
              "#0d0887"
             ],
             [
              0.1111111111111111,
              "#46039f"
             ],
             [
              0.2222222222222222,
              "#7201a8"
             ],
             [
              0.3333333333333333,
              "#9c179e"
             ],
             [
              0.4444444444444444,
              "#bd3786"
             ],
             [
              0.5555555555555556,
              "#d8576b"
             ],
             [
              0.6666666666666666,
              "#ed7953"
             ],
             [
              0.7777777777777778,
              "#fb9f3a"
             ],
             [
              0.8888888888888888,
              "#fdca26"
             ],
             [
              1,
              "#f0f921"
             ]
            ],
            "type": "heatmapgl"
           }
          ],
          "histogram": [
           {
            "marker": {
             "pattern": {
              "fillmode": "overlay",
              "size": 10,
              "solidity": 0.2
             }
            },
            "type": "histogram"
           }
          ],
          "histogram2d": [
           {
            "colorbar": {
             "outlinewidth": 0,
             "ticks": ""
            },
            "colorscale": [
             [
              0,
              "#0d0887"
             ],
             [
              0.1111111111111111,
              "#46039f"
             ],
             [
              0.2222222222222222,
              "#7201a8"
             ],
             [
              0.3333333333333333,
              "#9c179e"
             ],
             [
              0.4444444444444444,
              "#bd3786"
             ],
             [
              0.5555555555555556,
              "#d8576b"
             ],
             [
              0.6666666666666666,
              "#ed7953"
             ],
             [
              0.7777777777777778,
              "#fb9f3a"
             ],
             [
              0.8888888888888888,
              "#fdca26"
             ],
             [
              1,
              "#f0f921"
             ]
            ],
            "type": "histogram2d"
           }
          ],
          "histogram2dcontour": [
           {
            "colorbar": {
             "outlinewidth": 0,
             "ticks": ""
            },
            "colorscale": [
             [
              0,
              "#0d0887"
             ],
             [
              0.1111111111111111,
              "#46039f"
             ],
             [
              0.2222222222222222,
              "#7201a8"
             ],
             [
              0.3333333333333333,
              "#9c179e"
             ],
             [
              0.4444444444444444,
              "#bd3786"
             ],
             [
              0.5555555555555556,
              "#d8576b"
             ],
             [
              0.6666666666666666,
              "#ed7953"
             ],
             [
              0.7777777777777778,
              "#fb9f3a"
             ],
             [
              0.8888888888888888,
              "#fdca26"
             ],
             [
              1,
              "#f0f921"
             ]
            ],
            "type": "histogram2dcontour"
           }
          ],
          "mesh3d": [
           {
            "colorbar": {
             "outlinewidth": 0,
             "ticks": ""
            },
            "type": "mesh3d"
           }
          ],
          "parcoords": [
           {
            "line": {
             "colorbar": {
              "outlinewidth": 0,
              "ticks": ""
             }
            },
            "type": "parcoords"
           }
          ],
          "pie": [
           {
            "automargin": true,
            "type": "pie"
           }
          ],
          "scatter": [
           {
            "fillpattern": {
             "fillmode": "overlay",
             "size": 10,
             "solidity": 0.2
            },
            "type": "scatter"
           }
          ],
          "scatter3d": [
           {
            "line": {
             "colorbar": {
              "outlinewidth": 0,
              "ticks": ""
             }
            },
            "marker": {
             "colorbar": {
              "outlinewidth": 0,
              "ticks": ""
             }
            },
            "type": "scatter3d"
           }
          ],
          "scattercarpet": [
           {
            "marker": {
             "colorbar": {
              "outlinewidth": 0,
              "ticks": ""
             }
            },
            "type": "scattercarpet"
           }
          ],
          "scattergeo": [
           {
            "marker": {
             "colorbar": {
              "outlinewidth": 0,
              "ticks": ""
             }
            },
            "type": "scattergeo"
           }
          ],
          "scattergl": [
           {
            "marker": {
             "colorbar": {
              "outlinewidth": 0,
              "ticks": ""
             }
            },
            "type": "scattergl"
           }
          ],
          "scattermapbox": [
           {
            "marker": {
             "colorbar": {
              "outlinewidth": 0,
              "ticks": ""
             }
            },
            "type": "scattermapbox"
           }
          ],
          "scatterpolar": [
           {
            "marker": {
             "colorbar": {
              "outlinewidth": 0,
              "ticks": ""
             }
            },
            "type": "scatterpolar"
           }
          ],
          "scatterpolargl": [
           {
            "marker": {
             "colorbar": {
              "outlinewidth": 0,
              "ticks": ""
             }
            },
            "type": "scatterpolargl"
           }
          ],
          "scatterternary": [
           {
            "marker": {
             "colorbar": {
              "outlinewidth": 0,
              "ticks": ""
             }
            },
            "type": "scatterternary"
           }
          ],
          "surface": [
           {
            "colorbar": {
             "outlinewidth": 0,
             "ticks": ""
            },
            "colorscale": [
             [
              0,
              "#0d0887"
             ],
             [
              0.1111111111111111,
              "#46039f"
             ],
             [
              0.2222222222222222,
              "#7201a8"
             ],
             [
              0.3333333333333333,
              "#9c179e"
             ],
             [
              0.4444444444444444,
              "#bd3786"
             ],
             [
              0.5555555555555556,
              "#d8576b"
             ],
             [
              0.6666666666666666,
              "#ed7953"
             ],
             [
              0.7777777777777778,
              "#fb9f3a"
             ],
             [
              0.8888888888888888,
              "#fdca26"
             ],
             [
              1,
              "#f0f921"
             ]
            ],
            "type": "surface"
           }
          ],
          "table": [
           {
            "cells": {
             "fill": {
              "color": "#EBF0F8"
             },
             "line": {
              "color": "white"
             }
            },
            "header": {
             "fill": {
              "color": "#C8D4E3"
             },
             "line": {
              "color": "white"
             }
            },
            "type": "table"
           }
          ]
         },
         "layout": {
          "annotationdefaults": {
           "arrowcolor": "#2a3f5f",
           "arrowhead": 0,
           "arrowwidth": 1
          },
          "autotypenumbers": "strict",
          "coloraxis": {
           "colorbar": {
            "outlinewidth": 0,
            "ticks": ""
           }
          },
          "colorscale": {
           "diverging": [
            [
             0,
             "#8e0152"
            ],
            [
             0.1,
             "#c51b7d"
            ],
            [
             0.2,
             "#de77ae"
            ],
            [
             0.3,
             "#f1b6da"
            ],
            [
             0.4,
             "#fde0ef"
            ],
            [
             0.5,
             "#f7f7f7"
            ],
            [
             0.6,
             "#e6f5d0"
            ],
            [
             0.7,
             "#b8e186"
            ],
            [
             0.8,
             "#7fbc41"
            ],
            [
             0.9,
             "#4d9221"
            ],
            [
             1,
             "#276419"
            ]
           ],
           "sequential": [
            [
             0,
             "#0d0887"
            ],
            [
             0.1111111111111111,
             "#46039f"
            ],
            [
             0.2222222222222222,
             "#7201a8"
            ],
            [
             0.3333333333333333,
             "#9c179e"
            ],
            [
             0.4444444444444444,
             "#bd3786"
            ],
            [
             0.5555555555555556,
             "#d8576b"
            ],
            [
             0.6666666666666666,
             "#ed7953"
            ],
            [
             0.7777777777777778,
             "#fb9f3a"
            ],
            [
             0.8888888888888888,
             "#fdca26"
            ],
            [
             1,
             "#f0f921"
            ]
           ],
           "sequentialminus": [
            [
             0,
             "#0d0887"
            ],
            [
             0.1111111111111111,
             "#46039f"
            ],
            [
             0.2222222222222222,
             "#7201a8"
            ],
            [
             0.3333333333333333,
             "#9c179e"
            ],
            [
             0.4444444444444444,
             "#bd3786"
            ],
            [
             0.5555555555555556,
             "#d8576b"
            ],
            [
             0.6666666666666666,
             "#ed7953"
            ],
            [
             0.7777777777777778,
             "#fb9f3a"
            ],
            [
             0.8888888888888888,
             "#fdca26"
            ],
            [
             1,
             "#f0f921"
            ]
           ]
          },
          "colorway": [
           "#636efa",
           "#EF553B",
           "#00cc96",
           "#ab63fa",
           "#FFA15A",
           "#19d3f3",
           "#FF6692",
           "#B6E880",
           "#FF97FF",
           "#FECB52"
          ],
          "font": {
           "color": "#2a3f5f"
          },
          "geo": {
           "bgcolor": "white",
           "lakecolor": "white",
           "landcolor": "#E5ECF6",
           "showlakes": true,
           "showland": true,
           "subunitcolor": "white"
          },
          "hoverlabel": {
           "align": "left"
          },
          "hovermode": "closest",
          "mapbox": {
           "style": "light"
          },
          "paper_bgcolor": "white",
          "plot_bgcolor": "#E5ECF6",
          "polar": {
           "angularaxis": {
            "gridcolor": "white",
            "linecolor": "white",
            "ticks": ""
           },
           "bgcolor": "#E5ECF6",
           "radialaxis": {
            "gridcolor": "white",
            "linecolor": "white",
            "ticks": ""
           }
          },
          "scene": {
           "xaxis": {
            "backgroundcolor": "#E5ECF6",
            "gridcolor": "white",
            "gridwidth": 2,
            "linecolor": "white",
            "showbackground": true,
            "ticks": "",
            "zerolinecolor": "white"
           },
           "yaxis": {
            "backgroundcolor": "#E5ECF6",
            "gridcolor": "white",
            "gridwidth": 2,
            "linecolor": "white",
            "showbackground": true,
            "ticks": "",
            "zerolinecolor": "white"
           },
           "zaxis": {
            "backgroundcolor": "#E5ECF6",
            "gridcolor": "white",
            "gridwidth": 2,
            "linecolor": "white",
            "showbackground": true,
            "ticks": "",
            "zerolinecolor": "white"
           }
          },
          "shapedefaults": {
           "line": {
            "color": "#2a3f5f"
           }
          },
          "ternary": {
           "aaxis": {
            "gridcolor": "white",
            "linecolor": "white",
            "ticks": ""
           },
           "baxis": {
            "gridcolor": "white",
            "linecolor": "white",
            "ticks": ""
           },
           "bgcolor": "#E5ECF6",
           "caxis": {
            "gridcolor": "white",
            "linecolor": "white",
            "ticks": ""
           }
          },
          "title": {
           "x": 0.05
          },
          "xaxis": {
           "automargin": true,
           "gridcolor": "white",
           "linecolor": "white",
           "ticks": "",
           "title": {
            "standoff": 15
           },
           "zerolinecolor": "white",
           "zerolinewidth": 2
          },
          "yaxis": {
           "automargin": true,
           "gridcolor": "white",
           "linecolor": "white",
           "ticks": "",
           "title": {
            "standoff": 15
           },
           "zerolinecolor": "white",
           "zerolinewidth": 2
          }
         }
        },
        "title": {
         "font": {
          "color": "#4D5663"
         }
        },
        "xaxis": {
         "gridcolor": "#E1E5ED",
         "showgrid": true,
         "tickfont": {
          "color": "#4D5663"
         },
         "title": {
          "font": {
           "color": "#4D5663"
          },
          "text": ""
         },
         "zerolinecolor": "#E1E5ED"
        },
        "yaxis": {
         "gridcolor": "#E1E5ED",
         "showgrid": true,
         "tickfont": {
          "color": "#4D5663"
         },
         "title": {
          "font": {
           "color": "#4D5663"
          },
          "text": ""
         },
         "zerolinecolor": "#E1E5ED"
        }
       }
      },
      "text/html": [
       "<div>                            <div id=\"4bbbd723-97d1-4d54-b058-bf7c41ccdf10\" class=\"plotly-graph-div\" style=\"height:525px; width:100%;\"></div>            <script type=\"text/javascript\">                require([\"plotly\"], function(Plotly) {                    window.PLOTLYENV=window.PLOTLYENV || {};\n",
       "                    window.PLOTLYENV.BASE_URL='https://plot.ly';                                    if (document.getElementById(\"4bbbd723-97d1-4d54-b058-bf7c41ccdf10\")) {                    Plotly.newPlot(                        \"4bbbd723-97d1-4d54-b058-bf7c41ccdf10\",                        [{\"marker\":{\"color\":\"rgba(255, 153, 51, 0.6)\",\"line\":{\"color\":\"rgba(255, 153, 51, 1.0)\",\"width\":1}},\"name\":\"WO_A\",\"orientation\":\"v\",\"text\":\"\",\"x\":[2007,2008,2009,2010,2011,2012,2013,2014,2015,2016,2017,2018,2019,2020,2021],\"y\":[79747.15,80000.0,85000.0,91873.6,98530.0,106590.875,110000.0,111350.0,109762.0,115107.0,116000.0,120000.0,123115.0,127000.0,129150.0],\"type\":\"bar\"},{\"marker\":{\"color\":\"rgba(55, 128, 191, 0.6)\",\"line\":{\"color\":\"rgba(55, 128, 191, 1.0)\",\"width\":1}},\"name\":\"PW_A\",\"orientation\":\"v\",\"text\":\"\",\"x\":[2007,2008,2009,2010,2011,2012,2013,2014,2015,2016,2017,2018,2019,2020,2021],\"y\":[71739.0,72654.4,77105.6,83138.0,91312.0,99115.0,102398.0,104042.0,102461.0,106309.0,106101.0,109533.0,110968.0,113381.0,115856.0],\"type\":\"bar\"}],                        {\"legend\":{\"bgcolor\":\"#F5F6F9\",\"font\":{\"color\":\"#4D5663\"}},\"paper_bgcolor\":\"#F5F6F9\",\"plot_bgcolor\":\"#F5F6F9\",\"template\":{\"data\":{\"barpolar\":[{\"marker\":{\"line\":{\"color\":\"#E5ECF6\",\"width\":0.5},\"pattern\":{\"fillmode\":\"overlay\",\"size\":10,\"solidity\":0.2}},\"type\":\"barpolar\"}],\"bar\":[{\"error_x\":{\"color\":\"#2a3f5f\"},\"error_y\":{\"color\":\"#2a3f5f\"},\"marker\":{\"line\":{\"color\":\"#E5ECF6\",\"width\":0.5},\"pattern\":{\"fillmode\":\"overlay\",\"size\":10,\"solidity\":0.2}},\"type\":\"bar\"}],\"carpet\":[{\"aaxis\":{\"endlinecolor\":\"#2a3f5f\",\"gridcolor\":\"white\",\"linecolor\":\"white\",\"minorgridcolor\":\"white\",\"startlinecolor\":\"#2a3f5f\"},\"baxis\":{\"endlinecolor\":\"#2a3f5f\",\"gridcolor\":\"white\",\"linecolor\":\"white\",\"minorgridcolor\":\"white\",\"startlinecolor\":\"#2a3f5f\"},\"type\":\"carpet\"}],\"choropleth\":[{\"colorbar\":{\"outlinewidth\":0,\"ticks\":\"\"},\"type\":\"choropleth\"}],\"contourcarpet\":[{\"colorbar\":{\"outlinewidth\":0,\"ticks\":\"\"},\"type\":\"contourcarpet\"}],\"contour\":[{\"colorbar\":{\"outlinewidth\":0,\"ticks\":\"\"},\"colorscale\":[[0.0,\"#0d0887\"],[0.1111111111111111,\"#46039f\"],[0.2222222222222222,\"#7201a8\"],[0.3333333333333333,\"#9c179e\"],[0.4444444444444444,\"#bd3786\"],[0.5555555555555556,\"#d8576b\"],[0.6666666666666666,\"#ed7953\"],[0.7777777777777778,\"#fb9f3a\"],[0.8888888888888888,\"#fdca26\"],[1.0,\"#f0f921\"]],\"type\":\"contour\"}],\"heatmapgl\":[{\"colorbar\":{\"outlinewidth\":0,\"ticks\":\"\"},\"colorscale\":[[0.0,\"#0d0887\"],[0.1111111111111111,\"#46039f\"],[0.2222222222222222,\"#7201a8\"],[0.3333333333333333,\"#9c179e\"],[0.4444444444444444,\"#bd3786\"],[0.5555555555555556,\"#d8576b\"],[0.6666666666666666,\"#ed7953\"],[0.7777777777777778,\"#fb9f3a\"],[0.8888888888888888,\"#fdca26\"],[1.0,\"#f0f921\"]],\"type\":\"heatmapgl\"}],\"heatmap\":[{\"colorbar\":{\"outlinewidth\":0,\"ticks\":\"\"},\"colorscale\":[[0.0,\"#0d0887\"],[0.1111111111111111,\"#46039f\"],[0.2222222222222222,\"#7201a8\"],[0.3333333333333333,\"#9c179e\"],[0.4444444444444444,\"#bd3786\"],[0.5555555555555556,\"#d8576b\"],[0.6666666666666666,\"#ed7953\"],[0.7777777777777778,\"#fb9f3a\"],[0.8888888888888888,\"#fdca26\"],[1.0,\"#f0f921\"]],\"type\":\"heatmap\"}],\"histogram2dcontour\":[{\"colorbar\":{\"outlinewidth\":0,\"ticks\":\"\"},\"colorscale\":[[0.0,\"#0d0887\"],[0.1111111111111111,\"#46039f\"],[0.2222222222222222,\"#7201a8\"],[0.3333333333333333,\"#9c179e\"],[0.4444444444444444,\"#bd3786\"],[0.5555555555555556,\"#d8576b\"],[0.6666666666666666,\"#ed7953\"],[0.7777777777777778,\"#fb9f3a\"],[0.8888888888888888,\"#fdca26\"],[1.0,\"#f0f921\"]],\"type\":\"histogram2dcontour\"}],\"histogram2d\":[{\"colorbar\":{\"outlinewidth\":0,\"ticks\":\"\"},\"colorscale\":[[0.0,\"#0d0887\"],[0.1111111111111111,\"#46039f\"],[0.2222222222222222,\"#7201a8\"],[0.3333333333333333,\"#9c179e\"],[0.4444444444444444,\"#bd3786\"],[0.5555555555555556,\"#d8576b\"],[0.6666666666666666,\"#ed7953\"],[0.7777777777777778,\"#fb9f3a\"],[0.8888888888888888,\"#fdca26\"],[1.0,\"#f0f921\"]],\"type\":\"histogram2d\"}],\"histogram\":[{\"marker\":{\"pattern\":{\"fillmode\":\"overlay\",\"size\":10,\"solidity\":0.2}},\"type\":\"histogram\"}],\"mesh3d\":[{\"colorbar\":{\"outlinewidth\":0,\"ticks\":\"\"},\"type\":\"mesh3d\"}],\"parcoords\":[{\"line\":{\"colorbar\":{\"outlinewidth\":0,\"ticks\":\"\"}},\"type\":\"parcoords\"}],\"pie\":[{\"automargin\":true,\"type\":\"pie\"}],\"scatter3d\":[{\"line\":{\"colorbar\":{\"outlinewidth\":0,\"ticks\":\"\"}},\"marker\":{\"colorbar\":{\"outlinewidth\":0,\"ticks\":\"\"}},\"type\":\"scatter3d\"}],\"scattercarpet\":[{\"marker\":{\"colorbar\":{\"outlinewidth\":0,\"ticks\":\"\"}},\"type\":\"scattercarpet\"}],\"scattergeo\":[{\"marker\":{\"colorbar\":{\"outlinewidth\":0,\"ticks\":\"\"}},\"type\":\"scattergeo\"}],\"scattergl\":[{\"marker\":{\"colorbar\":{\"outlinewidth\":0,\"ticks\":\"\"}},\"type\":\"scattergl\"}],\"scattermapbox\":[{\"marker\":{\"colorbar\":{\"outlinewidth\":0,\"ticks\":\"\"}},\"type\":\"scattermapbox\"}],\"scatterpolargl\":[{\"marker\":{\"colorbar\":{\"outlinewidth\":0,\"ticks\":\"\"}},\"type\":\"scatterpolargl\"}],\"scatterpolar\":[{\"marker\":{\"colorbar\":{\"outlinewidth\":0,\"ticks\":\"\"}},\"type\":\"scatterpolar\"}],\"scatter\":[{\"fillpattern\":{\"fillmode\":\"overlay\",\"size\":10,\"solidity\":0.2},\"type\":\"scatter\"}],\"scatterternary\":[{\"marker\":{\"colorbar\":{\"outlinewidth\":0,\"ticks\":\"\"}},\"type\":\"scatterternary\"}],\"surface\":[{\"colorbar\":{\"outlinewidth\":0,\"ticks\":\"\"},\"colorscale\":[[0.0,\"#0d0887\"],[0.1111111111111111,\"#46039f\"],[0.2222222222222222,\"#7201a8\"],[0.3333333333333333,\"#9c179e\"],[0.4444444444444444,\"#bd3786\"],[0.5555555555555556,\"#d8576b\"],[0.6666666666666666,\"#ed7953\"],[0.7777777777777778,\"#fb9f3a\"],[0.8888888888888888,\"#fdca26\"],[1.0,\"#f0f921\"]],\"type\":\"surface\"}],\"table\":[{\"cells\":{\"fill\":{\"color\":\"#EBF0F8\"},\"line\":{\"color\":\"white\"}},\"header\":{\"fill\":{\"color\":\"#C8D4E3\"},\"line\":{\"color\":\"white\"}},\"type\":\"table\"}]},\"layout\":{\"annotationdefaults\":{\"arrowcolor\":\"#2a3f5f\",\"arrowhead\":0,\"arrowwidth\":1},\"autotypenumbers\":\"strict\",\"coloraxis\":{\"colorbar\":{\"outlinewidth\":0,\"ticks\":\"\"}},\"colorscale\":{\"diverging\":[[0,\"#8e0152\"],[0.1,\"#c51b7d\"],[0.2,\"#de77ae\"],[0.3,\"#f1b6da\"],[0.4,\"#fde0ef\"],[0.5,\"#f7f7f7\"],[0.6,\"#e6f5d0\"],[0.7,\"#b8e186\"],[0.8,\"#7fbc41\"],[0.9,\"#4d9221\"],[1,\"#276419\"]],\"sequential\":[[0.0,\"#0d0887\"],[0.1111111111111111,\"#46039f\"],[0.2222222222222222,\"#7201a8\"],[0.3333333333333333,\"#9c179e\"],[0.4444444444444444,\"#bd3786\"],[0.5555555555555556,\"#d8576b\"],[0.6666666666666666,\"#ed7953\"],[0.7777777777777778,\"#fb9f3a\"],[0.8888888888888888,\"#fdca26\"],[1.0,\"#f0f921\"]],\"sequentialminus\":[[0.0,\"#0d0887\"],[0.1111111111111111,\"#46039f\"],[0.2222222222222222,\"#7201a8\"],[0.3333333333333333,\"#9c179e\"],[0.4444444444444444,\"#bd3786\"],[0.5555555555555556,\"#d8576b\"],[0.6666666666666666,\"#ed7953\"],[0.7777777777777778,\"#fb9f3a\"],[0.8888888888888888,\"#fdca26\"],[1.0,\"#f0f921\"]]},\"colorway\":[\"#636efa\",\"#EF553B\",\"#00cc96\",\"#ab63fa\",\"#FFA15A\",\"#19d3f3\",\"#FF6692\",\"#B6E880\",\"#FF97FF\",\"#FECB52\"],\"font\":{\"color\":\"#2a3f5f\"},\"geo\":{\"bgcolor\":\"white\",\"lakecolor\":\"white\",\"landcolor\":\"#E5ECF6\",\"showlakes\":true,\"showland\":true,\"subunitcolor\":\"white\"},\"hoverlabel\":{\"align\":\"left\"},\"hovermode\":\"closest\",\"mapbox\":{\"style\":\"light\"},\"paper_bgcolor\":\"white\",\"plot_bgcolor\":\"#E5ECF6\",\"polar\":{\"angularaxis\":{\"gridcolor\":\"white\",\"linecolor\":\"white\",\"ticks\":\"\"},\"bgcolor\":\"#E5ECF6\",\"radialaxis\":{\"gridcolor\":\"white\",\"linecolor\":\"white\",\"ticks\":\"\"}},\"scene\":{\"xaxis\":{\"backgroundcolor\":\"#E5ECF6\",\"gridcolor\":\"white\",\"gridwidth\":2,\"linecolor\":\"white\",\"showbackground\":true,\"ticks\":\"\",\"zerolinecolor\":\"white\"},\"yaxis\":{\"backgroundcolor\":\"#E5ECF6\",\"gridcolor\":\"white\",\"gridwidth\":2,\"linecolor\":\"white\",\"showbackground\":true,\"ticks\":\"\",\"zerolinecolor\":\"white\"},\"zaxis\":{\"backgroundcolor\":\"#E5ECF6\",\"gridcolor\":\"white\",\"gridwidth\":2,\"linecolor\":\"white\",\"showbackground\":true,\"ticks\":\"\",\"zerolinecolor\":\"white\"}},\"shapedefaults\":{\"line\":{\"color\":\"#2a3f5f\"}},\"ternary\":{\"aaxis\":{\"gridcolor\":\"white\",\"linecolor\":\"white\",\"ticks\":\"\"},\"baxis\":{\"gridcolor\":\"white\",\"linecolor\":\"white\",\"ticks\":\"\"},\"bgcolor\":\"#E5ECF6\",\"caxis\":{\"gridcolor\":\"white\",\"linecolor\":\"white\",\"ticks\":\"\"}},\"title\":{\"x\":0.05},\"xaxis\":{\"automargin\":true,\"gridcolor\":\"white\",\"linecolor\":\"white\",\"ticks\":\"\",\"title\":{\"standoff\":15},\"zerolinecolor\":\"white\",\"zerolinewidth\":2},\"yaxis\":{\"automargin\":true,\"gridcolor\":\"white\",\"linecolor\":\"white\",\"ticks\":\"\",\"title\":{\"standoff\":15},\"zerolinecolor\":\"white\",\"zerolinewidth\":2}}},\"title\":{\"font\":{\"color\":\"#4D5663\"}},\"xaxis\":{\"gridcolor\":\"#E1E5ED\",\"showgrid\":true,\"tickfont\":{\"color\":\"#4D5663\"},\"title\":{\"font\":{\"color\":\"#4D5663\"},\"text\":\"\"},\"zerolinecolor\":\"#E1E5ED\"},\"yaxis\":{\"gridcolor\":\"#E1E5ED\",\"showgrid\":true,\"tickfont\":{\"color\":\"#4D5663\"},\"title\":{\"font\":{\"color\":\"#4D5663\"},\"text\":\"\"},\"zerolinecolor\":\"#E1E5ED\"}},                        {\"showLink\": true, \"linkText\": \"Export to plot.ly\", \"plotlyServerURL\": \"https://plot.ly\", \"responsive\": true}                    ).then(function(){\n",
       "                            \n",
       "var gd = document.getElementById('4bbbd723-97d1-4d54-b058-bf7c41ccdf10');\n",
       "var x = new MutationObserver(function (mutations, observer) {{\n",
       "        var display = window.getComputedStyle(gd).display;\n",
       "        if (!display || display === 'none') {{\n",
       "            console.log([gd, 'removed!']);\n",
       "            Plotly.purge(gd);\n",
       "            observer.disconnect();\n",
       "        }}\n",
       "}});\n",
       "\n",
       "// Listen for the removal of the full notebook cells\n",
       "var notebookContainer = gd.closest('#notebook-container');\n",
       "if (notebookContainer) {{\n",
       "    x.observe(notebookContainer, {childList: true});\n",
       "}}\n",
       "\n",
       "// Listen for the clearing of the current output cell\n",
       "var outputEl = gd.closest('.output');\n",
       "if (outputEl) {{\n",
       "    x.observe(outputEl, {childList: true});\n",
       "}}\n",
       "\n",
       "                        })                };                });            </script>        </div>"
      ]
     },
     "metadata": {},
     "output_type": "display_data"
    }
   ],
   "source": [
    "df.groupby(\"YEAR\")[[\"WO_A\",\"PW_A\"]].quantile(.75).iplot(kind = \"bar\")"
   ]
  },
  {
   "cell_type": "code",
   "execution_count": 37,
   "id": "bb157189",
   "metadata": {},
   "outputs": [
    {
     "data": {
      "application/vnd.plotly.v1+json": {
       "config": {
        "linkText": "Export to plot.ly",
        "plotlyServerURL": "https://plot.ly",
        "showLink": true
       },
       "data": [
        {
         "marker": {
          "color": "rgba(255, 153, 51, 0.6)",
          "line": {
           "color": "rgba(255, 153, 51, 1.0)",
           "width": 1
          }
         },
         "name": "WO_A",
         "orientation": "v",
         "text": "",
         "type": "bar",
         "x": [
          2007,
          2008,
          2009,
          2010,
          2011,
          2012,
          2013,
          2014,
          2015,
          2016,
          2017,
          2018,
          2019,
          2020,
          2021
         ],
         "y": [
          58968,
          59093,
          65500,
          72904,
          82000,
          87422,
          92220,
          92220,
          89095,
          93371,
          93662.61499999999,
          99060,
          99382,
          101000,
          104998
         ]
        },
        {
         "marker": {
          "color": "rgba(55, 128, 191, 0.6)",
          "line": {
           "color": "rgba(55, 128, 191, 1.0)",
           "width": 1
          }
         },
         "name": "PW_A",
         "orientation": "v",
         "text": "",
         "type": "bar",
         "x": [
          2007,
          2008,
          2009,
          2010,
          2011,
          2012,
          2013,
          2014,
          2015,
          2016,
          2017,
          2018,
          2019,
          2020,
          2021
         ],
         "y": [
          53747,
          54899.100000000006,
          60153.600000000006,
          65457.6,
          75629,
          82056,
          86154,
          87422,
          82971,
          87135,
          87422,
          90646,
          90586.32,
          93184,
          94307
         ]
        }
       ],
       "layout": {
        "legend": {
         "bgcolor": "#F5F6F9",
         "font": {
          "color": "#4D5663"
         }
        },
        "paper_bgcolor": "#F5F6F9",
        "plot_bgcolor": "#F5F6F9",
        "template": {
         "data": {
          "bar": [
           {
            "error_x": {
             "color": "#2a3f5f"
            },
            "error_y": {
             "color": "#2a3f5f"
            },
            "marker": {
             "line": {
              "color": "#E5ECF6",
              "width": 0.5
             },
             "pattern": {
              "fillmode": "overlay",
              "size": 10,
              "solidity": 0.2
             }
            },
            "type": "bar"
           }
          ],
          "barpolar": [
           {
            "marker": {
             "line": {
              "color": "#E5ECF6",
              "width": 0.5
             },
             "pattern": {
              "fillmode": "overlay",
              "size": 10,
              "solidity": 0.2
             }
            },
            "type": "barpolar"
           }
          ],
          "carpet": [
           {
            "aaxis": {
             "endlinecolor": "#2a3f5f",
             "gridcolor": "white",
             "linecolor": "white",
             "minorgridcolor": "white",
             "startlinecolor": "#2a3f5f"
            },
            "baxis": {
             "endlinecolor": "#2a3f5f",
             "gridcolor": "white",
             "linecolor": "white",
             "minorgridcolor": "white",
             "startlinecolor": "#2a3f5f"
            },
            "type": "carpet"
           }
          ],
          "choropleth": [
           {
            "colorbar": {
             "outlinewidth": 0,
             "ticks": ""
            },
            "type": "choropleth"
           }
          ],
          "contour": [
           {
            "colorbar": {
             "outlinewidth": 0,
             "ticks": ""
            },
            "colorscale": [
             [
              0,
              "#0d0887"
             ],
             [
              0.1111111111111111,
              "#46039f"
             ],
             [
              0.2222222222222222,
              "#7201a8"
             ],
             [
              0.3333333333333333,
              "#9c179e"
             ],
             [
              0.4444444444444444,
              "#bd3786"
             ],
             [
              0.5555555555555556,
              "#d8576b"
             ],
             [
              0.6666666666666666,
              "#ed7953"
             ],
             [
              0.7777777777777778,
              "#fb9f3a"
             ],
             [
              0.8888888888888888,
              "#fdca26"
             ],
             [
              1,
              "#f0f921"
             ]
            ],
            "type": "contour"
           }
          ],
          "contourcarpet": [
           {
            "colorbar": {
             "outlinewidth": 0,
             "ticks": ""
            },
            "type": "contourcarpet"
           }
          ],
          "heatmap": [
           {
            "colorbar": {
             "outlinewidth": 0,
             "ticks": ""
            },
            "colorscale": [
             [
              0,
              "#0d0887"
             ],
             [
              0.1111111111111111,
              "#46039f"
             ],
             [
              0.2222222222222222,
              "#7201a8"
             ],
             [
              0.3333333333333333,
              "#9c179e"
             ],
             [
              0.4444444444444444,
              "#bd3786"
             ],
             [
              0.5555555555555556,
              "#d8576b"
             ],
             [
              0.6666666666666666,
              "#ed7953"
             ],
             [
              0.7777777777777778,
              "#fb9f3a"
             ],
             [
              0.8888888888888888,
              "#fdca26"
             ],
             [
              1,
              "#f0f921"
             ]
            ],
            "type": "heatmap"
           }
          ],
          "heatmapgl": [
           {
            "colorbar": {
             "outlinewidth": 0,
             "ticks": ""
            },
            "colorscale": [
             [
              0,
              "#0d0887"
             ],
             [
              0.1111111111111111,
              "#46039f"
             ],
             [
              0.2222222222222222,
              "#7201a8"
             ],
             [
              0.3333333333333333,
              "#9c179e"
             ],
             [
              0.4444444444444444,
              "#bd3786"
             ],
             [
              0.5555555555555556,
              "#d8576b"
             ],
             [
              0.6666666666666666,
              "#ed7953"
             ],
             [
              0.7777777777777778,
              "#fb9f3a"
             ],
             [
              0.8888888888888888,
              "#fdca26"
             ],
             [
              1,
              "#f0f921"
             ]
            ],
            "type": "heatmapgl"
           }
          ],
          "histogram": [
           {
            "marker": {
             "pattern": {
              "fillmode": "overlay",
              "size": 10,
              "solidity": 0.2
             }
            },
            "type": "histogram"
           }
          ],
          "histogram2d": [
           {
            "colorbar": {
             "outlinewidth": 0,
             "ticks": ""
            },
            "colorscale": [
             [
              0,
              "#0d0887"
             ],
             [
              0.1111111111111111,
              "#46039f"
             ],
             [
              0.2222222222222222,
              "#7201a8"
             ],
             [
              0.3333333333333333,
              "#9c179e"
             ],
             [
              0.4444444444444444,
              "#bd3786"
             ],
             [
              0.5555555555555556,
              "#d8576b"
             ],
             [
              0.6666666666666666,
              "#ed7953"
             ],
             [
              0.7777777777777778,
              "#fb9f3a"
             ],
             [
              0.8888888888888888,
              "#fdca26"
             ],
             [
              1,
              "#f0f921"
             ]
            ],
            "type": "histogram2d"
           }
          ],
          "histogram2dcontour": [
           {
            "colorbar": {
             "outlinewidth": 0,
             "ticks": ""
            },
            "colorscale": [
             [
              0,
              "#0d0887"
             ],
             [
              0.1111111111111111,
              "#46039f"
             ],
             [
              0.2222222222222222,
              "#7201a8"
             ],
             [
              0.3333333333333333,
              "#9c179e"
             ],
             [
              0.4444444444444444,
              "#bd3786"
             ],
             [
              0.5555555555555556,
              "#d8576b"
             ],
             [
              0.6666666666666666,
              "#ed7953"
             ],
             [
              0.7777777777777778,
              "#fb9f3a"
             ],
             [
              0.8888888888888888,
              "#fdca26"
             ],
             [
              1,
              "#f0f921"
             ]
            ],
            "type": "histogram2dcontour"
           }
          ],
          "mesh3d": [
           {
            "colorbar": {
             "outlinewidth": 0,
             "ticks": ""
            },
            "type": "mesh3d"
           }
          ],
          "parcoords": [
           {
            "line": {
             "colorbar": {
              "outlinewidth": 0,
              "ticks": ""
             }
            },
            "type": "parcoords"
           }
          ],
          "pie": [
           {
            "automargin": true,
            "type": "pie"
           }
          ],
          "scatter": [
           {
            "fillpattern": {
             "fillmode": "overlay",
             "size": 10,
             "solidity": 0.2
            },
            "type": "scatter"
           }
          ],
          "scatter3d": [
           {
            "line": {
             "colorbar": {
              "outlinewidth": 0,
              "ticks": ""
             }
            },
            "marker": {
             "colorbar": {
              "outlinewidth": 0,
              "ticks": ""
             }
            },
            "type": "scatter3d"
           }
          ],
          "scattercarpet": [
           {
            "marker": {
             "colorbar": {
              "outlinewidth": 0,
              "ticks": ""
             }
            },
            "type": "scattercarpet"
           }
          ],
          "scattergeo": [
           {
            "marker": {
             "colorbar": {
              "outlinewidth": 0,
              "ticks": ""
             }
            },
            "type": "scattergeo"
           }
          ],
          "scattergl": [
           {
            "marker": {
             "colorbar": {
              "outlinewidth": 0,
              "ticks": ""
             }
            },
            "type": "scattergl"
           }
          ],
          "scattermapbox": [
           {
            "marker": {
             "colorbar": {
              "outlinewidth": 0,
              "ticks": ""
             }
            },
            "type": "scattermapbox"
           }
          ],
          "scatterpolar": [
           {
            "marker": {
             "colorbar": {
              "outlinewidth": 0,
              "ticks": ""
             }
            },
            "type": "scatterpolar"
           }
          ],
          "scatterpolargl": [
           {
            "marker": {
             "colorbar": {
              "outlinewidth": 0,
              "ticks": ""
             }
            },
            "type": "scatterpolargl"
           }
          ],
          "scatterternary": [
           {
            "marker": {
             "colorbar": {
              "outlinewidth": 0,
              "ticks": ""
             }
            },
            "type": "scatterternary"
           }
          ],
          "surface": [
           {
            "colorbar": {
             "outlinewidth": 0,
             "ticks": ""
            },
            "colorscale": [
             [
              0,
              "#0d0887"
             ],
             [
              0.1111111111111111,
              "#46039f"
             ],
             [
              0.2222222222222222,
              "#7201a8"
             ],
             [
              0.3333333333333333,
              "#9c179e"
             ],
             [
              0.4444444444444444,
              "#bd3786"
             ],
             [
              0.5555555555555556,
              "#d8576b"
             ],
             [
              0.6666666666666666,
              "#ed7953"
             ],
             [
              0.7777777777777778,
              "#fb9f3a"
             ],
             [
              0.8888888888888888,
              "#fdca26"
             ],
             [
              1,
              "#f0f921"
             ]
            ],
            "type": "surface"
           }
          ],
          "table": [
           {
            "cells": {
             "fill": {
              "color": "#EBF0F8"
             },
             "line": {
              "color": "white"
             }
            },
            "header": {
             "fill": {
              "color": "#C8D4E3"
             },
             "line": {
              "color": "white"
             }
            },
            "type": "table"
           }
          ]
         },
         "layout": {
          "annotationdefaults": {
           "arrowcolor": "#2a3f5f",
           "arrowhead": 0,
           "arrowwidth": 1
          },
          "autotypenumbers": "strict",
          "coloraxis": {
           "colorbar": {
            "outlinewidth": 0,
            "ticks": ""
           }
          },
          "colorscale": {
           "diverging": [
            [
             0,
             "#8e0152"
            ],
            [
             0.1,
             "#c51b7d"
            ],
            [
             0.2,
             "#de77ae"
            ],
            [
             0.3,
             "#f1b6da"
            ],
            [
             0.4,
             "#fde0ef"
            ],
            [
             0.5,
             "#f7f7f7"
            ],
            [
             0.6,
             "#e6f5d0"
            ],
            [
             0.7,
             "#b8e186"
            ],
            [
             0.8,
             "#7fbc41"
            ],
            [
             0.9,
             "#4d9221"
            ],
            [
             1,
             "#276419"
            ]
           ],
           "sequential": [
            [
             0,
             "#0d0887"
            ],
            [
             0.1111111111111111,
             "#46039f"
            ],
            [
             0.2222222222222222,
             "#7201a8"
            ],
            [
             0.3333333333333333,
             "#9c179e"
            ],
            [
             0.4444444444444444,
             "#bd3786"
            ],
            [
             0.5555555555555556,
             "#d8576b"
            ],
            [
             0.6666666666666666,
             "#ed7953"
            ],
            [
             0.7777777777777778,
             "#fb9f3a"
            ],
            [
             0.8888888888888888,
             "#fdca26"
            ],
            [
             1,
             "#f0f921"
            ]
           ],
           "sequentialminus": [
            [
             0,
             "#0d0887"
            ],
            [
             0.1111111111111111,
             "#46039f"
            ],
            [
             0.2222222222222222,
             "#7201a8"
            ],
            [
             0.3333333333333333,
             "#9c179e"
            ],
            [
             0.4444444444444444,
             "#bd3786"
            ],
            [
             0.5555555555555556,
             "#d8576b"
            ],
            [
             0.6666666666666666,
             "#ed7953"
            ],
            [
             0.7777777777777778,
             "#fb9f3a"
            ],
            [
             0.8888888888888888,
             "#fdca26"
            ],
            [
             1,
             "#f0f921"
            ]
           ]
          },
          "colorway": [
           "#636efa",
           "#EF553B",
           "#00cc96",
           "#ab63fa",
           "#FFA15A",
           "#19d3f3",
           "#FF6692",
           "#B6E880",
           "#FF97FF",
           "#FECB52"
          ],
          "font": {
           "color": "#2a3f5f"
          },
          "geo": {
           "bgcolor": "white",
           "lakecolor": "white",
           "landcolor": "#E5ECF6",
           "showlakes": true,
           "showland": true,
           "subunitcolor": "white"
          },
          "hoverlabel": {
           "align": "left"
          },
          "hovermode": "closest",
          "mapbox": {
           "style": "light"
          },
          "paper_bgcolor": "white",
          "plot_bgcolor": "#E5ECF6",
          "polar": {
           "angularaxis": {
            "gridcolor": "white",
            "linecolor": "white",
            "ticks": ""
           },
           "bgcolor": "#E5ECF6",
           "radialaxis": {
            "gridcolor": "white",
            "linecolor": "white",
            "ticks": ""
           }
          },
          "scene": {
           "xaxis": {
            "backgroundcolor": "#E5ECF6",
            "gridcolor": "white",
            "gridwidth": 2,
            "linecolor": "white",
            "showbackground": true,
            "ticks": "",
            "zerolinecolor": "white"
           },
           "yaxis": {
            "backgroundcolor": "#E5ECF6",
            "gridcolor": "white",
            "gridwidth": 2,
            "linecolor": "white",
            "showbackground": true,
            "ticks": "",
            "zerolinecolor": "white"
           },
           "zaxis": {
            "backgroundcolor": "#E5ECF6",
            "gridcolor": "white",
            "gridwidth": 2,
            "linecolor": "white",
            "showbackground": true,
            "ticks": "",
            "zerolinecolor": "white"
           }
          },
          "shapedefaults": {
           "line": {
            "color": "#2a3f5f"
           }
          },
          "ternary": {
           "aaxis": {
            "gridcolor": "white",
            "linecolor": "white",
            "ticks": ""
           },
           "baxis": {
            "gridcolor": "white",
            "linecolor": "white",
            "ticks": ""
           },
           "bgcolor": "#E5ECF6",
           "caxis": {
            "gridcolor": "white",
            "linecolor": "white",
            "ticks": ""
           }
          },
          "title": {
           "x": 0.05
          },
          "xaxis": {
           "automargin": true,
           "gridcolor": "white",
           "linecolor": "white",
           "ticks": "",
           "title": {
            "standoff": 15
           },
           "zerolinecolor": "white",
           "zerolinewidth": 2
          },
          "yaxis": {
           "automargin": true,
           "gridcolor": "white",
           "linecolor": "white",
           "ticks": "",
           "title": {
            "standoff": 15
           },
           "zerolinecolor": "white",
           "zerolinewidth": 2
          }
         }
        },
        "title": {
         "font": {
          "color": "#4D5663"
         }
        },
        "xaxis": {
         "gridcolor": "#E1E5ED",
         "showgrid": true,
         "tickfont": {
          "color": "#4D5663"
         },
         "title": {
          "font": {
           "color": "#4D5663"
          },
          "text": ""
         },
         "zerolinecolor": "#E1E5ED"
        },
        "yaxis": {
         "gridcolor": "#E1E5ED",
         "showgrid": true,
         "tickfont": {
          "color": "#4D5663"
         },
         "title": {
          "font": {
           "color": "#4D5663"
          },
          "text": ""
         },
         "zerolinecolor": "#E1E5ED"
        }
       }
      },
      "text/html": [
       "<div>                            <div id=\"3f19c905-a29c-4823-9cc1-6a05ba8fb7c6\" class=\"plotly-graph-div\" style=\"height:525px; width:100%;\"></div>            <script type=\"text/javascript\">                require([\"plotly\"], function(Plotly) {                    window.PLOTLYENV=window.PLOTLYENV || {};\n",
       "                    window.PLOTLYENV.BASE_URL='https://plot.ly';                                    if (document.getElementById(\"3f19c905-a29c-4823-9cc1-6a05ba8fb7c6\")) {                    Plotly.newPlot(                        \"3f19c905-a29c-4823-9cc1-6a05ba8fb7c6\",                        [{\"marker\":{\"color\":\"rgba(255, 153, 51, 0.6)\",\"line\":{\"color\":\"rgba(255, 153, 51, 1.0)\",\"width\":1}},\"name\":\"WO_A\",\"orientation\":\"v\",\"text\":\"\",\"x\":[2007,2008,2009,2010,2011,2012,2013,2014,2015,2016,2017,2018,2019,2020,2021],\"y\":[58968.0,59093.0,65500.0,72904.0,82000.0,87422.0,92220.0,92220.0,89095.0,93371.0,93662.61499999999,99060.0,99382.0,101000.0,104998.0],\"type\":\"bar\"},{\"marker\":{\"color\":\"rgba(55, 128, 191, 0.6)\",\"line\":{\"color\":\"rgba(55, 128, 191, 1.0)\",\"width\":1}},\"name\":\"PW_A\",\"orientation\":\"v\",\"text\":\"\",\"x\":[2007,2008,2009,2010,2011,2012,2013,2014,2015,2016,2017,2018,2019,2020,2021],\"y\":[53747.0,54899.100000000006,60153.600000000006,65457.6,75629.0,82056.0,86154.0,87422.0,82971.0,87135.0,87422.0,90646.0,90586.32,93184.0,94307.0],\"type\":\"bar\"}],                        {\"legend\":{\"bgcolor\":\"#F5F6F9\",\"font\":{\"color\":\"#4D5663\"}},\"paper_bgcolor\":\"#F5F6F9\",\"plot_bgcolor\":\"#F5F6F9\",\"template\":{\"data\":{\"barpolar\":[{\"marker\":{\"line\":{\"color\":\"#E5ECF6\",\"width\":0.5},\"pattern\":{\"fillmode\":\"overlay\",\"size\":10,\"solidity\":0.2}},\"type\":\"barpolar\"}],\"bar\":[{\"error_x\":{\"color\":\"#2a3f5f\"},\"error_y\":{\"color\":\"#2a3f5f\"},\"marker\":{\"line\":{\"color\":\"#E5ECF6\",\"width\":0.5},\"pattern\":{\"fillmode\":\"overlay\",\"size\":10,\"solidity\":0.2}},\"type\":\"bar\"}],\"carpet\":[{\"aaxis\":{\"endlinecolor\":\"#2a3f5f\",\"gridcolor\":\"white\",\"linecolor\":\"white\",\"minorgridcolor\":\"white\",\"startlinecolor\":\"#2a3f5f\"},\"baxis\":{\"endlinecolor\":\"#2a3f5f\",\"gridcolor\":\"white\",\"linecolor\":\"white\",\"minorgridcolor\":\"white\",\"startlinecolor\":\"#2a3f5f\"},\"type\":\"carpet\"}],\"choropleth\":[{\"colorbar\":{\"outlinewidth\":0,\"ticks\":\"\"},\"type\":\"choropleth\"}],\"contourcarpet\":[{\"colorbar\":{\"outlinewidth\":0,\"ticks\":\"\"},\"type\":\"contourcarpet\"}],\"contour\":[{\"colorbar\":{\"outlinewidth\":0,\"ticks\":\"\"},\"colorscale\":[[0.0,\"#0d0887\"],[0.1111111111111111,\"#46039f\"],[0.2222222222222222,\"#7201a8\"],[0.3333333333333333,\"#9c179e\"],[0.4444444444444444,\"#bd3786\"],[0.5555555555555556,\"#d8576b\"],[0.6666666666666666,\"#ed7953\"],[0.7777777777777778,\"#fb9f3a\"],[0.8888888888888888,\"#fdca26\"],[1.0,\"#f0f921\"]],\"type\":\"contour\"}],\"heatmapgl\":[{\"colorbar\":{\"outlinewidth\":0,\"ticks\":\"\"},\"colorscale\":[[0.0,\"#0d0887\"],[0.1111111111111111,\"#46039f\"],[0.2222222222222222,\"#7201a8\"],[0.3333333333333333,\"#9c179e\"],[0.4444444444444444,\"#bd3786\"],[0.5555555555555556,\"#d8576b\"],[0.6666666666666666,\"#ed7953\"],[0.7777777777777778,\"#fb9f3a\"],[0.8888888888888888,\"#fdca26\"],[1.0,\"#f0f921\"]],\"type\":\"heatmapgl\"}],\"heatmap\":[{\"colorbar\":{\"outlinewidth\":0,\"ticks\":\"\"},\"colorscale\":[[0.0,\"#0d0887\"],[0.1111111111111111,\"#46039f\"],[0.2222222222222222,\"#7201a8\"],[0.3333333333333333,\"#9c179e\"],[0.4444444444444444,\"#bd3786\"],[0.5555555555555556,\"#d8576b\"],[0.6666666666666666,\"#ed7953\"],[0.7777777777777778,\"#fb9f3a\"],[0.8888888888888888,\"#fdca26\"],[1.0,\"#f0f921\"]],\"type\":\"heatmap\"}],\"histogram2dcontour\":[{\"colorbar\":{\"outlinewidth\":0,\"ticks\":\"\"},\"colorscale\":[[0.0,\"#0d0887\"],[0.1111111111111111,\"#46039f\"],[0.2222222222222222,\"#7201a8\"],[0.3333333333333333,\"#9c179e\"],[0.4444444444444444,\"#bd3786\"],[0.5555555555555556,\"#d8576b\"],[0.6666666666666666,\"#ed7953\"],[0.7777777777777778,\"#fb9f3a\"],[0.8888888888888888,\"#fdca26\"],[1.0,\"#f0f921\"]],\"type\":\"histogram2dcontour\"}],\"histogram2d\":[{\"colorbar\":{\"outlinewidth\":0,\"ticks\":\"\"},\"colorscale\":[[0.0,\"#0d0887\"],[0.1111111111111111,\"#46039f\"],[0.2222222222222222,\"#7201a8\"],[0.3333333333333333,\"#9c179e\"],[0.4444444444444444,\"#bd3786\"],[0.5555555555555556,\"#d8576b\"],[0.6666666666666666,\"#ed7953\"],[0.7777777777777778,\"#fb9f3a\"],[0.8888888888888888,\"#fdca26\"],[1.0,\"#f0f921\"]],\"type\":\"histogram2d\"}],\"histogram\":[{\"marker\":{\"pattern\":{\"fillmode\":\"overlay\",\"size\":10,\"solidity\":0.2}},\"type\":\"histogram\"}],\"mesh3d\":[{\"colorbar\":{\"outlinewidth\":0,\"ticks\":\"\"},\"type\":\"mesh3d\"}],\"parcoords\":[{\"line\":{\"colorbar\":{\"outlinewidth\":0,\"ticks\":\"\"}},\"type\":\"parcoords\"}],\"pie\":[{\"automargin\":true,\"type\":\"pie\"}],\"scatter3d\":[{\"line\":{\"colorbar\":{\"outlinewidth\":0,\"ticks\":\"\"}},\"marker\":{\"colorbar\":{\"outlinewidth\":0,\"ticks\":\"\"}},\"type\":\"scatter3d\"}],\"scattercarpet\":[{\"marker\":{\"colorbar\":{\"outlinewidth\":0,\"ticks\":\"\"}},\"type\":\"scattercarpet\"}],\"scattergeo\":[{\"marker\":{\"colorbar\":{\"outlinewidth\":0,\"ticks\":\"\"}},\"type\":\"scattergeo\"}],\"scattergl\":[{\"marker\":{\"colorbar\":{\"outlinewidth\":0,\"ticks\":\"\"}},\"type\":\"scattergl\"}],\"scattermapbox\":[{\"marker\":{\"colorbar\":{\"outlinewidth\":0,\"ticks\":\"\"}},\"type\":\"scattermapbox\"}],\"scatterpolargl\":[{\"marker\":{\"colorbar\":{\"outlinewidth\":0,\"ticks\":\"\"}},\"type\":\"scatterpolargl\"}],\"scatterpolar\":[{\"marker\":{\"colorbar\":{\"outlinewidth\":0,\"ticks\":\"\"}},\"type\":\"scatterpolar\"}],\"scatter\":[{\"fillpattern\":{\"fillmode\":\"overlay\",\"size\":10,\"solidity\":0.2},\"type\":\"scatter\"}],\"scatterternary\":[{\"marker\":{\"colorbar\":{\"outlinewidth\":0,\"ticks\":\"\"}},\"type\":\"scatterternary\"}],\"surface\":[{\"colorbar\":{\"outlinewidth\":0,\"ticks\":\"\"},\"colorscale\":[[0.0,\"#0d0887\"],[0.1111111111111111,\"#46039f\"],[0.2222222222222222,\"#7201a8\"],[0.3333333333333333,\"#9c179e\"],[0.4444444444444444,\"#bd3786\"],[0.5555555555555556,\"#d8576b\"],[0.6666666666666666,\"#ed7953\"],[0.7777777777777778,\"#fb9f3a\"],[0.8888888888888888,\"#fdca26\"],[1.0,\"#f0f921\"]],\"type\":\"surface\"}],\"table\":[{\"cells\":{\"fill\":{\"color\":\"#EBF0F8\"},\"line\":{\"color\":\"white\"}},\"header\":{\"fill\":{\"color\":\"#C8D4E3\"},\"line\":{\"color\":\"white\"}},\"type\":\"table\"}]},\"layout\":{\"annotationdefaults\":{\"arrowcolor\":\"#2a3f5f\",\"arrowhead\":0,\"arrowwidth\":1},\"autotypenumbers\":\"strict\",\"coloraxis\":{\"colorbar\":{\"outlinewidth\":0,\"ticks\":\"\"}},\"colorscale\":{\"diverging\":[[0,\"#8e0152\"],[0.1,\"#c51b7d\"],[0.2,\"#de77ae\"],[0.3,\"#f1b6da\"],[0.4,\"#fde0ef\"],[0.5,\"#f7f7f7\"],[0.6,\"#e6f5d0\"],[0.7,\"#b8e186\"],[0.8,\"#7fbc41\"],[0.9,\"#4d9221\"],[1,\"#276419\"]],\"sequential\":[[0.0,\"#0d0887\"],[0.1111111111111111,\"#46039f\"],[0.2222222222222222,\"#7201a8\"],[0.3333333333333333,\"#9c179e\"],[0.4444444444444444,\"#bd3786\"],[0.5555555555555556,\"#d8576b\"],[0.6666666666666666,\"#ed7953\"],[0.7777777777777778,\"#fb9f3a\"],[0.8888888888888888,\"#fdca26\"],[1.0,\"#f0f921\"]],\"sequentialminus\":[[0.0,\"#0d0887\"],[0.1111111111111111,\"#46039f\"],[0.2222222222222222,\"#7201a8\"],[0.3333333333333333,\"#9c179e\"],[0.4444444444444444,\"#bd3786\"],[0.5555555555555556,\"#d8576b\"],[0.6666666666666666,\"#ed7953\"],[0.7777777777777778,\"#fb9f3a\"],[0.8888888888888888,\"#fdca26\"],[1.0,\"#f0f921\"]]},\"colorway\":[\"#636efa\",\"#EF553B\",\"#00cc96\",\"#ab63fa\",\"#FFA15A\",\"#19d3f3\",\"#FF6692\",\"#B6E880\",\"#FF97FF\",\"#FECB52\"],\"font\":{\"color\":\"#2a3f5f\"},\"geo\":{\"bgcolor\":\"white\",\"lakecolor\":\"white\",\"landcolor\":\"#E5ECF6\",\"showlakes\":true,\"showland\":true,\"subunitcolor\":\"white\"},\"hoverlabel\":{\"align\":\"left\"},\"hovermode\":\"closest\",\"mapbox\":{\"style\":\"light\"},\"paper_bgcolor\":\"white\",\"plot_bgcolor\":\"#E5ECF6\",\"polar\":{\"angularaxis\":{\"gridcolor\":\"white\",\"linecolor\":\"white\",\"ticks\":\"\"},\"bgcolor\":\"#E5ECF6\",\"radialaxis\":{\"gridcolor\":\"white\",\"linecolor\":\"white\",\"ticks\":\"\"}},\"scene\":{\"xaxis\":{\"backgroundcolor\":\"#E5ECF6\",\"gridcolor\":\"white\",\"gridwidth\":2,\"linecolor\":\"white\",\"showbackground\":true,\"ticks\":\"\",\"zerolinecolor\":\"white\"},\"yaxis\":{\"backgroundcolor\":\"#E5ECF6\",\"gridcolor\":\"white\",\"gridwidth\":2,\"linecolor\":\"white\",\"showbackground\":true,\"ticks\":\"\",\"zerolinecolor\":\"white\"},\"zaxis\":{\"backgroundcolor\":\"#E5ECF6\",\"gridcolor\":\"white\",\"gridwidth\":2,\"linecolor\":\"white\",\"showbackground\":true,\"ticks\":\"\",\"zerolinecolor\":\"white\"}},\"shapedefaults\":{\"line\":{\"color\":\"#2a3f5f\"}},\"ternary\":{\"aaxis\":{\"gridcolor\":\"white\",\"linecolor\":\"white\",\"ticks\":\"\"},\"baxis\":{\"gridcolor\":\"white\",\"linecolor\":\"white\",\"ticks\":\"\"},\"bgcolor\":\"#E5ECF6\",\"caxis\":{\"gridcolor\":\"white\",\"linecolor\":\"white\",\"ticks\":\"\"}},\"title\":{\"x\":0.05},\"xaxis\":{\"automargin\":true,\"gridcolor\":\"white\",\"linecolor\":\"white\",\"ticks\":\"\",\"title\":{\"standoff\":15},\"zerolinecolor\":\"white\",\"zerolinewidth\":2},\"yaxis\":{\"automargin\":true,\"gridcolor\":\"white\",\"linecolor\":\"white\",\"ticks\":\"\",\"title\":{\"standoff\":15},\"zerolinecolor\":\"white\",\"zerolinewidth\":2}}},\"title\":{\"font\":{\"color\":\"#4D5663\"}},\"xaxis\":{\"gridcolor\":\"#E1E5ED\",\"showgrid\":true,\"tickfont\":{\"color\":\"#4D5663\"},\"title\":{\"font\":{\"color\":\"#4D5663\"},\"text\":\"\"},\"zerolinecolor\":\"#E1E5ED\"},\"yaxis\":{\"gridcolor\":\"#E1E5ED\",\"showgrid\":true,\"tickfont\":{\"color\":\"#4D5663\"},\"title\":{\"font\":{\"color\":\"#4D5663\"},\"text\":\"\"},\"zerolinecolor\":\"#E1E5ED\"}},                        {\"showLink\": true, \"linkText\": \"Export to plot.ly\", \"plotlyServerURL\": \"https://plot.ly\", \"responsive\": true}                    ).then(function(){\n",
       "                            \n",
       "var gd = document.getElementById('3f19c905-a29c-4823-9cc1-6a05ba8fb7c6');\n",
       "var x = new MutationObserver(function (mutations, observer) {{\n",
       "        var display = window.getComputedStyle(gd).display;\n",
       "        if (!display || display === 'none') {{\n",
       "            console.log([gd, 'removed!']);\n",
       "            Plotly.purge(gd);\n",
       "            observer.disconnect();\n",
       "        }}\n",
       "}});\n",
       "\n",
       "// Listen for the removal of the full notebook cells\n",
       "var notebookContainer = gd.closest('#notebook-container');\n",
       "if (notebookContainer) {{\n",
       "    x.observe(notebookContainer, {childList: true});\n",
       "}}\n",
       "\n",
       "// Listen for the clearing of the current output cell\n",
       "var outputEl = gd.closest('.output');\n",
       "if (outputEl) {{\n",
       "    x.observe(outputEl, {childList: true});\n",
       "}}\n",
       "\n",
       "                        })                };                });            </script>        </div>"
      ]
     },
     "metadata": {},
     "output_type": "display_data"
    }
   ],
   "source": [
    "df.groupby(\"YEAR\")[[\"WO_A\",\"PW_A\"]].quantile(.5).iplot(kind = \"bar\")"
   ]
  },
  {
   "cell_type": "code",
   "execution_count": 38,
   "id": "61c2aa22",
   "metadata": {},
   "outputs": [
    {
     "data": {
      "application/vnd.plotly.v1+json": {
       "config": {
        "linkText": "Export to plot.ly",
        "plotlyServerURL": "https://plot.ly",
        "showLink": true
       },
       "data": [
        {
         "marker": {
          "color": "rgba(255, 153, 51, 0.6)",
          "line": {
           "color": "rgba(255, 153, 51, 1.0)",
           "width": 1
          }
         },
         "name": "WO_A",
         "orientation": "v",
         "text": "",
         "type": "bar",
         "x": [
          2007,
          2008,
          2009,
          2010,
          2011,
          2012,
          2013,
          2014,
          2015,
          2016,
          2017,
          2018,
          2019,
          2020,
          2021
         ],
         "y": [
          168000,
          160715,
          170000,
          185000,
          190000,
          200000,
          204000,
          213600,
          200000,
          211000,
          215000,
          220000,
          225000,
          230000,
          238000
         ]
        },
        {
         "marker": {
          "color": "rgba(55, 128, 191, 0.6)",
          "line": {
           "color": "rgba(55, 128, 191, 1.0)",
           "width": 1
          }
         },
         "name": "PW_A",
         "orientation": "v",
         "text": "",
         "type": "bar",
         "x": [
          2007,
          2008,
          2009,
          2010,
          2011,
          2012,
          2013,
          2014,
          2015,
          2016,
          2017,
          2018,
          2019,
          2020,
          2021
         ],
         "y": [
          127774,
          123115,
          129771.2,
          144019,
          162698,
          166400,
          187199,
          187199,
          173826,
          179774,
          170757.5,
          170997,
          174117,
          174117,
          188427
         ]
        }
       ],
       "layout": {
        "legend": {
         "bgcolor": "#F5F6F9",
         "font": {
          "color": "#4D5663"
         }
        },
        "paper_bgcolor": "#F5F6F9",
        "plot_bgcolor": "#F5F6F9",
        "template": {
         "data": {
          "bar": [
           {
            "error_x": {
             "color": "#2a3f5f"
            },
            "error_y": {
             "color": "#2a3f5f"
            },
            "marker": {
             "line": {
              "color": "#E5ECF6",
              "width": 0.5
             },
             "pattern": {
              "fillmode": "overlay",
              "size": 10,
              "solidity": 0.2
             }
            },
            "type": "bar"
           }
          ],
          "barpolar": [
           {
            "marker": {
             "line": {
              "color": "#E5ECF6",
              "width": 0.5
             },
             "pattern": {
              "fillmode": "overlay",
              "size": 10,
              "solidity": 0.2
             }
            },
            "type": "barpolar"
           }
          ],
          "carpet": [
           {
            "aaxis": {
             "endlinecolor": "#2a3f5f",
             "gridcolor": "white",
             "linecolor": "white",
             "minorgridcolor": "white",
             "startlinecolor": "#2a3f5f"
            },
            "baxis": {
             "endlinecolor": "#2a3f5f",
             "gridcolor": "white",
             "linecolor": "white",
             "minorgridcolor": "white",
             "startlinecolor": "#2a3f5f"
            },
            "type": "carpet"
           }
          ],
          "choropleth": [
           {
            "colorbar": {
             "outlinewidth": 0,
             "ticks": ""
            },
            "type": "choropleth"
           }
          ],
          "contour": [
           {
            "colorbar": {
             "outlinewidth": 0,
             "ticks": ""
            },
            "colorscale": [
             [
              0,
              "#0d0887"
             ],
             [
              0.1111111111111111,
              "#46039f"
             ],
             [
              0.2222222222222222,
              "#7201a8"
             ],
             [
              0.3333333333333333,
              "#9c179e"
             ],
             [
              0.4444444444444444,
              "#bd3786"
             ],
             [
              0.5555555555555556,
              "#d8576b"
             ],
             [
              0.6666666666666666,
              "#ed7953"
             ],
             [
              0.7777777777777778,
              "#fb9f3a"
             ],
             [
              0.8888888888888888,
              "#fdca26"
             ],
             [
              1,
              "#f0f921"
             ]
            ],
            "type": "contour"
           }
          ],
          "contourcarpet": [
           {
            "colorbar": {
             "outlinewidth": 0,
             "ticks": ""
            },
            "type": "contourcarpet"
           }
          ],
          "heatmap": [
           {
            "colorbar": {
             "outlinewidth": 0,
             "ticks": ""
            },
            "colorscale": [
             [
              0,
              "#0d0887"
             ],
             [
              0.1111111111111111,
              "#46039f"
             ],
             [
              0.2222222222222222,
              "#7201a8"
             ],
             [
              0.3333333333333333,
              "#9c179e"
             ],
             [
              0.4444444444444444,
              "#bd3786"
             ],
             [
              0.5555555555555556,
              "#d8576b"
             ],
             [
              0.6666666666666666,
              "#ed7953"
             ],
             [
              0.7777777777777778,
              "#fb9f3a"
             ],
             [
              0.8888888888888888,
              "#fdca26"
             ],
             [
              1,
              "#f0f921"
             ]
            ],
            "type": "heatmap"
           }
          ],
          "heatmapgl": [
           {
            "colorbar": {
             "outlinewidth": 0,
             "ticks": ""
            },
            "colorscale": [
             [
              0,
              "#0d0887"
             ],
             [
              0.1111111111111111,
              "#46039f"
             ],
             [
              0.2222222222222222,
              "#7201a8"
             ],
             [
              0.3333333333333333,
              "#9c179e"
             ],
             [
              0.4444444444444444,
              "#bd3786"
             ],
             [
              0.5555555555555556,
              "#d8576b"
             ],
             [
              0.6666666666666666,
              "#ed7953"
             ],
             [
              0.7777777777777778,
              "#fb9f3a"
             ],
             [
              0.8888888888888888,
              "#fdca26"
             ],
             [
              1,
              "#f0f921"
             ]
            ],
            "type": "heatmapgl"
           }
          ],
          "histogram": [
           {
            "marker": {
             "pattern": {
              "fillmode": "overlay",
              "size": 10,
              "solidity": 0.2
             }
            },
            "type": "histogram"
           }
          ],
          "histogram2d": [
           {
            "colorbar": {
             "outlinewidth": 0,
             "ticks": ""
            },
            "colorscale": [
             [
              0,
              "#0d0887"
             ],
             [
              0.1111111111111111,
              "#46039f"
             ],
             [
              0.2222222222222222,
              "#7201a8"
             ],
             [
              0.3333333333333333,
              "#9c179e"
             ],
             [
              0.4444444444444444,
              "#bd3786"
             ],
             [
              0.5555555555555556,
              "#d8576b"
             ],
             [
              0.6666666666666666,
              "#ed7953"
             ],
             [
              0.7777777777777778,
              "#fb9f3a"
             ],
             [
              0.8888888888888888,
              "#fdca26"
             ],
             [
              1,
              "#f0f921"
             ]
            ],
            "type": "histogram2d"
           }
          ],
          "histogram2dcontour": [
           {
            "colorbar": {
             "outlinewidth": 0,
             "ticks": ""
            },
            "colorscale": [
             [
              0,
              "#0d0887"
             ],
             [
              0.1111111111111111,
              "#46039f"
             ],
             [
              0.2222222222222222,
              "#7201a8"
             ],
             [
              0.3333333333333333,
              "#9c179e"
             ],
             [
              0.4444444444444444,
              "#bd3786"
             ],
             [
              0.5555555555555556,
              "#d8576b"
             ],
             [
              0.6666666666666666,
              "#ed7953"
             ],
             [
              0.7777777777777778,
              "#fb9f3a"
             ],
             [
              0.8888888888888888,
              "#fdca26"
             ],
             [
              1,
              "#f0f921"
             ]
            ],
            "type": "histogram2dcontour"
           }
          ],
          "mesh3d": [
           {
            "colorbar": {
             "outlinewidth": 0,
             "ticks": ""
            },
            "type": "mesh3d"
           }
          ],
          "parcoords": [
           {
            "line": {
             "colorbar": {
              "outlinewidth": 0,
              "ticks": ""
             }
            },
            "type": "parcoords"
           }
          ],
          "pie": [
           {
            "automargin": true,
            "type": "pie"
           }
          ],
          "scatter": [
           {
            "fillpattern": {
             "fillmode": "overlay",
             "size": 10,
             "solidity": 0.2
            },
            "type": "scatter"
           }
          ],
          "scatter3d": [
           {
            "line": {
             "colorbar": {
              "outlinewidth": 0,
              "ticks": ""
             }
            },
            "marker": {
             "colorbar": {
              "outlinewidth": 0,
              "ticks": ""
             }
            },
            "type": "scatter3d"
           }
          ],
          "scattercarpet": [
           {
            "marker": {
             "colorbar": {
              "outlinewidth": 0,
              "ticks": ""
             }
            },
            "type": "scattercarpet"
           }
          ],
          "scattergeo": [
           {
            "marker": {
             "colorbar": {
              "outlinewidth": 0,
              "ticks": ""
             }
            },
            "type": "scattergeo"
           }
          ],
          "scattergl": [
           {
            "marker": {
             "colorbar": {
              "outlinewidth": 0,
              "ticks": ""
             }
            },
            "type": "scattergl"
           }
          ],
          "scattermapbox": [
           {
            "marker": {
             "colorbar": {
              "outlinewidth": 0,
              "ticks": ""
             }
            },
            "type": "scattermapbox"
           }
          ],
          "scatterpolar": [
           {
            "marker": {
             "colorbar": {
              "outlinewidth": 0,
              "ticks": ""
             }
            },
            "type": "scatterpolar"
           }
          ],
          "scatterpolargl": [
           {
            "marker": {
             "colorbar": {
              "outlinewidth": 0,
              "ticks": ""
             }
            },
            "type": "scatterpolargl"
           }
          ],
          "scatterternary": [
           {
            "marker": {
             "colorbar": {
              "outlinewidth": 0,
              "ticks": ""
             }
            },
            "type": "scatterternary"
           }
          ],
          "surface": [
           {
            "colorbar": {
             "outlinewidth": 0,
             "ticks": ""
            },
            "colorscale": [
             [
              0,
              "#0d0887"
             ],
             [
              0.1111111111111111,
              "#46039f"
             ],
             [
              0.2222222222222222,
              "#7201a8"
             ],
             [
              0.3333333333333333,
              "#9c179e"
             ],
             [
              0.4444444444444444,
              "#bd3786"
             ],
             [
              0.5555555555555556,
              "#d8576b"
             ],
             [
              0.6666666666666666,
              "#ed7953"
             ],
             [
              0.7777777777777778,
              "#fb9f3a"
             ],
             [
              0.8888888888888888,
              "#fdca26"
             ],
             [
              1,
              "#f0f921"
             ]
            ],
            "type": "surface"
           }
          ],
          "table": [
           {
            "cells": {
             "fill": {
              "color": "#EBF0F8"
             },
             "line": {
              "color": "white"
             }
            },
            "header": {
             "fill": {
              "color": "#C8D4E3"
             },
             "line": {
              "color": "white"
             }
            },
            "type": "table"
           }
          ]
         },
         "layout": {
          "annotationdefaults": {
           "arrowcolor": "#2a3f5f",
           "arrowhead": 0,
           "arrowwidth": 1
          },
          "autotypenumbers": "strict",
          "coloraxis": {
           "colorbar": {
            "outlinewidth": 0,
            "ticks": ""
           }
          },
          "colorscale": {
           "diverging": [
            [
             0,
             "#8e0152"
            ],
            [
             0.1,
             "#c51b7d"
            ],
            [
             0.2,
             "#de77ae"
            ],
            [
             0.3,
             "#f1b6da"
            ],
            [
             0.4,
             "#fde0ef"
            ],
            [
             0.5,
             "#f7f7f7"
            ],
            [
             0.6,
             "#e6f5d0"
            ],
            [
             0.7,
             "#b8e186"
            ],
            [
             0.8,
             "#7fbc41"
            ],
            [
             0.9,
             "#4d9221"
            ],
            [
             1,
             "#276419"
            ]
           ],
           "sequential": [
            [
             0,
             "#0d0887"
            ],
            [
             0.1111111111111111,
             "#46039f"
            ],
            [
             0.2222222222222222,
             "#7201a8"
            ],
            [
             0.3333333333333333,
             "#9c179e"
            ],
            [
             0.4444444444444444,
             "#bd3786"
            ],
            [
             0.5555555555555556,
             "#d8576b"
            ],
            [
             0.6666666666666666,
             "#ed7953"
            ],
            [
             0.7777777777777778,
             "#fb9f3a"
            ],
            [
             0.8888888888888888,
             "#fdca26"
            ],
            [
             1,
             "#f0f921"
            ]
           ],
           "sequentialminus": [
            [
             0,
             "#0d0887"
            ],
            [
             0.1111111111111111,
             "#46039f"
            ],
            [
             0.2222222222222222,
             "#7201a8"
            ],
            [
             0.3333333333333333,
             "#9c179e"
            ],
            [
             0.4444444444444444,
             "#bd3786"
            ],
            [
             0.5555555555555556,
             "#d8576b"
            ],
            [
             0.6666666666666666,
             "#ed7953"
            ],
            [
             0.7777777777777778,
             "#fb9f3a"
            ],
            [
             0.8888888888888888,
             "#fdca26"
            ],
            [
             1,
             "#f0f921"
            ]
           ]
          },
          "colorway": [
           "#636efa",
           "#EF553B",
           "#00cc96",
           "#ab63fa",
           "#FFA15A",
           "#19d3f3",
           "#FF6692",
           "#B6E880",
           "#FF97FF",
           "#FECB52"
          ],
          "font": {
           "color": "#2a3f5f"
          },
          "geo": {
           "bgcolor": "white",
           "lakecolor": "white",
           "landcolor": "#E5ECF6",
           "showlakes": true,
           "showland": true,
           "subunitcolor": "white"
          },
          "hoverlabel": {
           "align": "left"
          },
          "hovermode": "closest",
          "mapbox": {
           "style": "light"
          },
          "paper_bgcolor": "white",
          "plot_bgcolor": "#E5ECF6",
          "polar": {
           "angularaxis": {
            "gridcolor": "white",
            "linecolor": "white",
            "ticks": ""
           },
           "bgcolor": "#E5ECF6",
           "radialaxis": {
            "gridcolor": "white",
            "linecolor": "white",
            "ticks": ""
           }
          },
          "scene": {
           "xaxis": {
            "backgroundcolor": "#E5ECF6",
            "gridcolor": "white",
            "gridwidth": 2,
            "linecolor": "white",
            "showbackground": true,
            "ticks": "",
            "zerolinecolor": "white"
           },
           "yaxis": {
            "backgroundcolor": "#E5ECF6",
            "gridcolor": "white",
            "gridwidth": 2,
            "linecolor": "white",
            "showbackground": true,
            "ticks": "",
            "zerolinecolor": "white"
           },
           "zaxis": {
            "backgroundcolor": "#E5ECF6",
            "gridcolor": "white",
            "gridwidth": 2,
            "linecolor": "white",
            "showbackground": true,
            "ticks": "",
            "zerolinecolor": "white"
           }
          },
          "shapedefaults": {
           "line": {
            "color": "#2a3f5f"
           }
          },
          "ternary": {
           "aaxis": {
            "gridcolor": "white",
            "linecolor": "white",
            "ticks": ""
           },
           "baxis": {
            "gridcolor": "white",
            "linecolor": "white",
            "ticks": ""
           },
           "bgcolor": "#E5ECF6",
           "caxis": {
            "gridcolor": "white",
            "linecolor": "white",
            "ticks": ""
           }
          },
          "title": {
           "x": 0.05
          },
          "xaxis": {
           "automargin": true,
           "gridcolor": "white",
           "linecolor": "white",
           "ticks": "",
           "title": {
            "standoff": 15
           },
           "zerolinecolor": "white",
           "zerolinewidth": 2
          },
          "yaxis": {
           "automargin": true,
           "gridcolor": "white",
           "linecolor": "white",
           "ticks": "",
           "title": {
            "standoff": 15
           },
           "zerolinecolor": "white",
           "zerolinewidth": 2
          }
         }
        },
        "title": {
         "font": {
          "color": "#4D5663"
         }
        },
        "xaxis": {
         "gridcolor": "#E1E5ED",
         "showgrid": true,
         "tickfont": {
          "color": "#4D5663"
         },
         "title": {
          "font": {
           "color": "#4D5663"
          },
          "text": ""
         },
         "zerolinecolor": "#E1E5ED"
        },
        "yaxis": {
         "gridcolor": "#E1E5ED",
         "showgrid": true,
         "tickfont": {
          "color": "#4D5663"
         },
         "title": {
          "font": {
           "color": "#4D5663"
          },
          "text": ""
         },
         "zerolinecolor": "#E1E5ED"
        }
       }
      },
      "text/html": [
       "<div>                            <div id=\"172f0542-cb1a-4dff-a85e-d7425be85273\" class=\"plotly-graph-div\" style=\"height:525px; width:100%;\"></div>            <script type=\"text/javascript\">                require([\"plotly\"], function(Plotly) {                    window.PLOTLYENV=window.PLOTLYENV || {};\n",
       "                    window.PLOTLYENV.BASE_URL='https://plot.ly';                                    if (document.getElementById(\"172f0542-cb1a-4dff-a85e-d7425be85273\")) {                    Plotly.newPlot(                        \"172f0542-cb1a-4dff-a85e-d7425be85273\",                        [{\"marker\":{\"color\":\"rgba(255, 153, 51, 0.6)\",\"line\":{\"color\":\"rgba(255, 153, 51, 1.0)\",\"width\":1}},\"name\":\"WO_A\",\"orientation\":\"v\",\"text\":\"\",\"x\":[2007,2008,2009,2010,2011,2012,2013,2014,2015,2016,2017,2018,2019,2020,2021],\"y\":[168000.0,160715.0,170000.0,185000.0,190000.0,200000.0,204000.0,213600.0,200000.0,211000.0,215000.0,220000.0,225000.0,230000.0,238000.0],\"type\":\"bar\"},{\"marker\":{\"color\":\"rgba(55, 128, 191, 0.6)\",\"line\":{\"color\":\"rgba(55, 128, 191, 1.0)\",\"width\":1}},\"name\":\"PW_A\",\"orientation\":\"v\",\"text\":\"\",\"x\":[2007,2008,2009,2010,2011,2012,2013,2014,2015,2016,2017,2018,2019,2020,2021],\"y\":[127774.0,123115.0,129771.2,144019.0,162698.0,166400.0,187199.0,187199.0,173826.0,179774.0,170757.5,170997.0,174117.0,174117.0,188427.0],\"type\":\"bar\"}],                        {\"legend\":{\"bgcolor\":\"#F5F6F9\",\"font\":{\"color\":\"#4D5663\"}},\"paper_bgcolor\":\"#F5F6F9\",\"plot_bgcolor\":\"#F5F6F9\",\"template\":{\"data\":{\"barpolar\":[{\"marker\":{\"line\":{\"color\":\"#E5ECF6\",\"width\":0.5},\"pattern\":{\"fillmode\":\"overlay\",\"size\":10,\"solidity\":0.2}},\"type\":\"barpolar\"}],\"bar\":[{\"error_x\":{\"color\":\"#2a3f5f\"},\"error_y\":{\"color\":\"#2a3f5f\"},\"marker\":{\"line\":{\"color\":\"#E5ECF6\",\"width\":0.5},\"pattern\":{\"fillmode\":\"overlay\",\"size\":10,\"solidity\":0.2}},\"type\":\"bar\"}],\"carpet\":[{\"aaxis\":{\"endlinecolor\":\"#2a3f5f\",\"gridcolor\":\"white\",\"linecolor\":\"white\",\"minorgridcolor\":\"white\",\"startlinecolor\":\"#2a3f5f\"},\"baxis\":{\"endlinecolor\":\"#2a3f5f\",\"gridcolor\":\"white\",\"linecolor\":\"white\",\"minorgridcolor\":\"white\",\"startlinecolor\":\"#2a3f5f\"},\"type\":\"carpet\"}],\"choropleth\":[{\"colorbar\":{\"outlinewidth\":0,\"ticks\":\"\"},\"type\":\"choropleth\"}],\"contourcarpet\":[{\"colorbar\":{\"outlinewidth\":0,\"ticks\":\"\"},\"type\":\"contourcarpet\"}],\"contour\":[{\"colorbar\":{\"outlinewidth\":0,\"ticks\":\"\"},\"colorscale\":[[0.0,\"#0d0887\"],[0.1111111111111111,\"#46039f\"],[0.2222222222222222,\"#7201a8\"],[0.3333333333333333,\"#9c179e\"],[0.4444444444444444,\"#bd3786\"],[0.5555555555555556,\"#d8576b\"],[0.6666666666666666,\"#ed7953\"],[0.7777777777777778,\"#fb9f3a\"],[0.8888888888888888,\"#fdca26\"],[1.0,\"#f0f921\"]],\"type\":\"contour\"}],\"heatmapgl\":[{\"colorbar\":{\"outlinewidth\":0,\"ticks\":\"\"},\"colorscale\":[[0.0,\"#0d0887\"],[0.1111111111111111,\"#46039f\"],[0.2222222222222222,\"#7201a8\"],[0.3333333333333333,\"#9c179e\"],[0.4444444444444444,\"#bd3786\"],[0.5555555555555556,\"#d8576b\"],[0.6666666666666666,\"#ed7953\"],[0.7777777777777778,\"#fb9f3a\"],[0.8888888888888888,\"#fdca26\"],[1.0,\"#f0f921\"]],\"type\":\"heatmapgl\"}],\"heatmap\":[{\"colorbar\":{\"outlinewidth\":0,\"ticks\":\"\"},\"colorscale\":[[0.0,\"#0d0887\"],[0.1111111111111111,\"#46039f\"],[0.2222222222222222,\"#7201a8\"],[0.3333333333333333,\"#9c179e\"],[0.4444444444444444,\"#bd3786\"],[0.5555555555555556,\"#d8576b\"],[0.6666666666666666,\"#ed7953\"],[0.7777777777777778,\"#fb9f3a\"],[0.8888888888888888,\"#fdca26\"],[1.0,\"#f0f921\"]],\"type\":\"heatmap\"}],\"histogram2dcontour\":[{\"colorbar\":{\"outlinewidth\":0,\"ticks\":\"\"},\"colorscale\":[[0.0,\"#0d0887\"],[0.1111111111111111,\"#46039f\"],[0.2222222222222222,\"#7201a8\"],[0.3333333333333333,\"#9c179e\"],[0.4444444444444444,\"#bd3786\"],[0.5555555555555556,\"#d8576b\"],[0.6666666666666666,\"#ed7953\"],[0.7777777777777778,\"#fb9f3a\"],[0.8888888888888888,\"#fdca26\"],[1.0,\"#f0f921\"]],\"type\":\"histogram2dcontour\"}],\"histogram2d\":[{\"colorbar\":{\"outlinewidth\":0,\"ticks\":\"\"},\"colorscale\":[[0.0,\"#0d0887\"],[0.1111111111111111,\"#46039f\"],[0.2222222222222222,\"#7201a8\"],[0.3333333333333333,\"#9c179e\"],[0.4444444444444444,\"#bd3786\"],[0.5555555555555556,\"#d8576b\"],[0.6666666666666666,\"#ed7953\"],[0.7777777777777778,\"#fb9f3a\"],[0.8888888888888888,\"#fdca26\"],[1.0,\"#f0f921\"]],\"type\":\"histogram2d\"}],\"histogram\":[{\"marker\":{\"pattern\":{\"fillmode\":\"overlay\",\"size\":10,\"solidity\":0.2}},\"type\":\"histogram\"}],\"mesh3d\":[{\"colorbar\":{\"outlinewidth\":0,\"ticks\":\"\"},\"type\":\"mesh3d\"}],\"parcoords\":[{\"line\":{\"colorbar\":{\"outlinewidth\":0,\"ticks\":\"\"}},\"type\":\"parcoords\"}],\"pie\":[{\"automargin\":true,\"type\":\"pie\"}],\"scatter3d\":[{\"line\":{\"colorbar\":{\"outlinewidth\":0,\"ticks\":\"\"}},\"marker\":{\"colorbar\":{\"outlinewidth\":0,\"ticks\":\"\"}},\"type\":\"scatter3d\"}],\"scattercarpet\":[{\"marker\":{\"colorbar\":{\"outlinewidth\":0,\"ticks\":\"\"}},\"type\":\"scattercarpet\"}],\"scattergeo\":[{\"marker\":{\"colorbar\":{\"outlinewidth\":0,\"ticks\":\"\"}},\"type\":\"scattergeo\"}],\"scattergl\":[{\"marker\":{\"colorbar\":{\"outlinewidth\":0,\"ticks\":\"\"}},\"type\":\"scattergl\"}],\"scattermapbox\":[{\"marker\":{\"colorbar\":{\"outlinewidth\":0,\"ticks\":\"\"}},\"type\":\"scattermapbox\"}],\"scatterpolargl\":[{\"marker\":{\"colorbar\":{\"outlinewidth\":0,\"ticks\":\"\"}},\"type\":\"scatterpolargl\"}],\"scatterpolar\":[{\"marker\":{\"colorbar\":{\"outlinewidth\":0,\"ticks\":\"\"}},\"type\":\"scatterpolar\"}],\"scatter\":[{\"fillpattern\":{\"fillmode\":\"overlay\",\"size\":10,\"solidity\":0.2},\"type\":\"scatter\"}],\"scatterternary\":[{\"marker\":{\"colorbar\":{\"outlinewidth\":0,\"ticks\":\"\"}},\"type\":\"scatterternary\"}],\"surface\":[{\"colorbar\":{\"outlinewidth\":0,\"ticks\":\"\"},\"colorscale\":[[0.0,\"#0d0887\"],[0.1111111111111111,\"#46039f\"],[0.2222222222222222,\"#7201a8\"],[0.3333333333333333,\"#9c179e\"],[0.4444444444444444,\"#bd3786\"],[0.5555555555555556,\"#d8576b\"],[0.6666666666666666,\"#ed7953\"],[0.7777777777777778,\"#fb9f3a\"],[0.8888888888888888,\"#fdca26\"],[1.0,\"#f0f921\"]],\"type\":\"surface\"}],\"table\":[{\"cells\":{\"fill\":{\"color\":\"#EBF0F8\"},\"line\":{\"color\":\"white\"}},\"header\":{\"fill\":{\"color\":\"#C8D4E3\"},\"line\":{\"color\":\"white\"}},\"type\":\"table\"}]},\"layout\":{\"annotationdefaults\":{\"arrowcolor\":\"#2a3f5f\",\"arrowhead\":0,\"arrowwidth\":1},\"autotypenumbers\":\"strict\",\"coloraxis\":{\"colorbar\":{\"outlinewidth\":0,\"ticks\":\"\"}},\"colorscale\":{\"diverging\":[[0,\"#8e0152\"],[0.1,\"#c51b7d\"],[0.2,\"#de77ae\"],[0.3,\"#f1b6da\"],[0.4,\"#fde0ef\"],[0.5,\"#f7f7f7\"],[0.6,\"#e6f5d0\"],[0.7,\"#b8e186\"],[0.8,\"#7fbc41\"],[0.9,\"#4d9221\"],[1,\"#276419\"]],\"sequential\":[[0.0,\"#0d0887\"],[0.1111111111111111,\"#46039f\"],[0.2222222222222222,\"#7201a8\"],[0.3333333333333333,\"#9c179e\"],[0.4444444444444444,\"#bd3786\"],[0.5555555555555556,\"#d8576b\"],[0.6666666666666666,\"#ed7953\"],[0.7777777777777778,\"#fb9f3a\"],[0.8888888888888888,\"#fdca26\"],[1.0,\"#f0f921\"]],\"sequentialminus\":[[0.0,\"#0d0887\"],[0.1111111111111111,\"#46039f\"],[0.2222222222222222,\"#7201a8\"],[0.3333333333333333,\"#9c179e\"],[0.4444444444444444,\"#bd3786\"],[0.5555555555555556,\"#d8576b\"],[0.6666666666666666,\"#ed7953\"],[0.7777777777777778,\"#fb9f3a\"],[0.8888888888888888,\"#fdca26\"],[1.0,\"#f0f921\"]]},\"colorway\":[\"#636efa\",\"#EF553B\",\"#00cc96\",\"#ab63fa\",\"#FFA15A\",\"#19d3f3\",\"#FF6692\",\"#B6E880\",\"#FF97FF\",\"#FECB52\"],\"font\":{\"color\":\"#2a3f5f\"},\"geo\":{\"bgcolor\":\"white\",\"lakecolor\":\"white\",\"landcolor\":\"#E5ECF6\",\"showlakes\":true,\"showland\":true,\"subunitcolor\":\"white\"},\"hoverlabel\":{\"align\":\"left\"},\"hovermode\":\"closest\",\"mapbox\":{\"style\":\"light\"},\"paper_bgcolor\":\"white\",\"plot_bgcolor\":\"#E5ECF6\",\"polar\":{\"angularaxis\":{\"gridcolor\":\"white\",\"linecolor\":\"white\",\"ticks\":\"\"},\"bgcolor\":\"#E5ECF6\",\"radialaxis\":{\"gridcolor\":\"white\",\"linecolor\":\"white\",\"ticks\":\"\"}},\"scene\":{\"xaxis\":{\"backgroundcolor\":\"#E5ECF6\",\"gridcolor\":\"white\",\"gridwidth\":2,\"linecolor\":\"white\",\"showbackground\":true,\"ticks\":\"\",\"zerolinecolor\":\"white\"},\"yaxis\":{\"backgroundcolor\":\"#E5ECF6\",\"gridcolor\":\"white\",\"gridwidth\":2,\"linecolor\":\"white\",\"showbackground\":true,\"ticks\":\"\",\"zerolinecolor\":\"white\"},\"zaxis\":{\"backgroundcolor\":\"#E5ECF6\",\"gridcolor\":\"white\",\"gridwidth\":2,\"linecolor\":\"white\",\"showbackground\":true,\"ticks\":\"\",\"zerolinecolor\":\"white\"}},\"shapedefaults\":{\"line\":{\"color\":\"#2a3f5f\"}},\"ternary\":{\"aaxis\":{\"gridcolor\":\"white\",\"linecolor\":\"white\",\"ticks\":\"\"},\"baxis\":{\"gridcolor\":\"white\",\"linecolor\":\"white\",\"ticks\":\"\"},\"bgcolor\":\"#E5ECF6\",\"caxis\":{\"gridcolor\":\"white\",\"linecolor\":\"white\",\"ticks\":\"\"}},\"title\":{\"x\":0.05},\"xaxis\":{\"automargin\":true,\"gridcolor\":\"white\",\"linecolor\":\"white\",\"ticks\":\"\",\"title\":{\"standoff\":15},\"zerolinecolor\":\"white\",\"zerolinewidth\":2},\"yaxis\":{\"automargin\":true,\"gridcolor\":\"white\",\"linecolor\":\"white\",\"ticks\":\"\",\"title\":{\"standoff\":15},\"zerolinecolor\":\"white\",\"zerolinewidth\":2}}},\"title\":{\"font\":{\"color\":\"#4D5663\"}},\"xaxis\":{\"gridcolor\":\"#E1E5ED\",\"showgrid\":true,\"tickfont\":{\"color\":\"#4D5663\"},\"title\":{\"font\":{\"color\":\"#4D5663\"},\"text\":\"\"},\"zerolinecolor\":\"#E1E5ED\"},\"yaxis\":{\"gridcolor\":\"#E1E5ED\",\"showgrid\":true,\"tickfont\":{\"color\":\"#4D5663\"},\"title\":{\"font\":{\"color\":\"#4D5663\"},\"text\":\"\"},\"zerolinecolor\":\"#E1E5ED\"}},                        {\"showLink\": true, \"linkText\": \"Export to plot.ly\", \"plotlyServerURL\": \"https://plot.ly\", \"responsive\": true}                    ).then(function(){\n",
       "                            \n",
       "var gd = document.getElementById('172f0542-cb1a-4dff-a85e-d7425be85273');\n",
       "var x = new MutationObserver(function (mutations, observer) {{\n",
       "        var display = window.getComputedStyle(gd).display;\n",
       "        if (!display || display === 'none') {{\n",
       "            console.log([gd, 'removed!']);\n",
       "            Plotly.purge(gd);\n",
       "            observer.disconnect();\n",
       "        }}\n",
       "}});\n",
       "\n",
       "// Listen for the removal of the full notebook cells\n",
       "var notebookContainer = gd.closest('#notebook-container');\n",
       "if (notebookContainer) {{\n",
       "    x.observe(notebookContainer, {childList: true});\n",
       "}}\n",
       "\n",
       "// Listen for the clearing of the current output cell\n",
       "var outputEl = gd.closest('.output');\n",
       "if (outputEl) {{\n",
       "    x.observe(outputEl, {childList: true});\n",
       "}}\n",
       "\n",
       "                        })                };                });            </script>        </div>"
      ]
     },
     "metadata": {},
     "output_type": "display_data"
    }
   ],
   "source": [
    "df.groupby(\"YEAR\")[[\"WO_A\",\"PW_A\"]].max().iplot(kind = \"bar\")"
   ]
  },
  {
   "cell_type": "code",
   "execution_count": 40,
   "id": "10766c77",
   "metadata": {},
   "outputs": [],
   "source": [
    "yr = df[\"YEAR\"].unique().tolist()\n",
    "yr.sort()"
   ]
  },
  {
   "cell_type": "code",
   "execution_count": 41,
   "id": "3fbfe862",
   "metadata": {},
   "outputs": [
    {
     "data": {
      "text/plain": [
       "LinregressResult(slope=2749.409285714285, intercept=-5472609.02142857, rvalue=0.8410964974262185, pvalue=8.527354634636005e-05, stderr=490.37340149122167, intercept_stderr=987614.303102401)"
      ]
     },
     "execution_count": 41,
     "metadata": {},
     "output_type": "execute_result"
    }
   ],
   "source": [
    "st.linregress(y = df.groupby(\"YEAR\")[\"WO_A\"].quantile(.25), x = yr)"
   ]
  },
  {
   "cell_type": "code",
   "execution_count": 42,
   "id": "c1e86d84",
   "metadata": {},
   "outputs": [
    {
     "data": {
      "text/plain": [
       "LinregressResult(slope=3183.7387321428573, intercept=-6325990.098869048, rvalue=0.9417614165681715, pvalue=1.6076846821393858e-07, stderr=315.3030604243997, intercept_stderr=635021.82487904)"
      ]
     },
     "execution_count": 42,
     "metadata": {},
     "output_type": "execute_result"
    }
   ],
   "source": [
    "st.linregress(y = df.groupby(\"YEAR\")[\"WO_A\"].quantile(.5), x = yr)"
   ]
  },
  {
   "cell_type": "code",
   "execution_count": 43,
   "id": "2a1d7068",
   "metadata": {},
   "outputs": [
    {
     "data": {
      "text/plain": [
       "LinregressResult(slope=3571.8028571428563, intercept=-7086729.24595238, rvalue=0.974987002221489, pvalue=7.167657836059388e-10, stderr=225.83017511329794, intercept_stderr=454823.01922529034)"
      ]
     },
     "execution_count": 43,
     "metadata": {},
     "output_type": "execute_result"
    }
   ],
   "source": [
    "st.linregress(y = df.groupby(\"YEAR\")[\"WO_A\"].quantile(.75), x = yr)"
   ]
  },
  {
   "cell_type": "code",
   "execution_count": 44,
   "id": "95ad5d12",
   "metadata": {},
   "outputs": [
    {
     "data": {
      "text/plain": [
       "LinregressResult(slope=2140.2451785714284, intercept=-4252212.266309523, rvalue=0.7758959117098236, pvalue=0.0006735657796535921, stderr=482.638576166548, intercept_stderr=972036.3290536124)"
      ]
     },
     "execution_count": 44,
     "metadata": {},
     "output_type": "execute_result"
    }
   ],
   "source": [
    "st.linregress(y = df.groupby(\"YEAR\")[\"PW_A\"].quantile(.25), x = yr)"
   ]
  },
  {
   "cell_type": "code",
   "execution_count": 45,
   "id": "86f5cad0",
   "metadata": {},
   "outputs": [
    {
     "data": {
      "text/plain": [
       "LinregressResult(slope=2888.930714285714, intercept=-5738855.150571428, rvalue=0.9209662396714153, pvalue=1.1116962009551907e-06, stderr=338.9908131374142, intercept_stderr=682729.06861735)"
      ]
     },
     "execution_count": 45,
     "metadata": {},
     "output_type": "execute_result"
    }
   ],
   "source": [
    "st.linregress(y = df.groupby(\"YEAR\")[\"PW_A\"].quantile(.5), x = yr)"
   ]
  },
  {
   "cell_type": "code",
   "execution_count": 46,
   "id": "d87bd7b9",
   "metadata": {},
   "outputs": [
    {
     "data": {
      "text/plain": [
       "LinregressResult(slope=3167.4592857142848, intercept=-6281522.134761903, rvalue=0.9517143042475592, pvalue=4.8716408300303556e-08, stderr=283.3675645612642, intercept_stderr=570703.5882145157)"
      ]
     },
     "execution_count": 46,
     "metadata": {},
     "output_type": "execute_result"
    }
   ],
   "source": [
    "st.linregress(y = df.groupby(\"YEAR\")[\"PW_A\"].quantile(.75), x = yr)"
   ]
  },
  {
   "cell_type": "code",
   "execution_count": 97,
   "id": "53309045",
   "metadata": {},
   "outputs": [],
   "source": [
    "acy = df.groupby(\"YEAR\")[\"CASE_STATUS\"].value_counts()\n",
    "acyper = acy.groupby(level=0).transform(lambda x: (x / x.sum()).round(2))"
   ]
  },
  {
   "cell_type": "code",
   "execution_count": 117,
   "id": "eff6d73a",
   "metadata": {},
   "outputs": [
    {
     "data": {
      "text/plain": [
       "<AxesSubplot:xlabel='YEAR,CASE_STATUS'>"
      ]
     },
     "execution_count": 117,
     "metadata": {},
     "output_type": "execute_result"
    },
    {
     "data": {
      "image/png": "[encoded data removed]",
      "text/plain": [
       "<Figure size 432x288 with 1 Axes>"
      ]
     },
     "metadata": {
      "needs_background": "light"
     },
     "output_type": "display_data"
    }
   ],
   "source": [
    "acyper[0:30:2].plot(kind = \"bar\")"
   ]
  },
  {
   "cell_type": "code",
   "execution_count": 124,
   "id": "e1c814bc",
   "metadata": {},
   "outputs": [
    {
     "data": {
      "text/plain": [
       "LinregressResult(slope=0.011285714285714284, intercept=-21.866095238095234, rvalue=0.8968976246411867, pvalue=5.896651017424682e-06, stderr=0.0015433725906039432, intercept_stderr=3.108359549807162)"
      ]
     },
     "execution_count": 124,
     "metadata": {},
     "output_type": "execute_result"
    }
   ],
   "source": [
    "acceptyear = pd.DataFrame([acyper[0:30:2].values,yr]).transpose()\n",
    "st.linregress(y = acceptyear[0],x = acceptyear[1])"
   ]
  },
  {
   "cell_type": "code",
   "execution_count": 129,
   "id": "ee5d444e",
   "metadata": {},
   "outputs": [
    {
     "data": {
      "text/plain": [
       "LinregressResult(slope=1.4198000379899585e-06, intercept=0.771523209145548, rvalue=0.1721233824247633, pvalue=0.0, stderr=8.208338716647574e-09, intercept_stderr=0.0008112991444047638)"
      ]
     },
     "execution_count": 129,
     "metadata": {},
     "output_type": "execute_result"
    }
   ],
   "source": [
    "st.linregress(y = df.dropna()[\"CASE_STATUS\"], x = df.dropna()[\"WO_A\"])"
   ]
  },
  {
   "cell_type": "code",
   "execution_count": 140,
   "id": "227954f1",
   "metadata": {},
   "outputs": [
    {
     "data": {
      "text/plain": [
       "LinregressResult(slope=3.0474088119110497e-06, intercept=0.6010742218394445, rvalue=0.8187306874783338, pvalue=0.00018955768429220577, stderr=5.927401083955511e-07, intercept_stderr=0.051740498168456994)"
      ]
     },
     "execution_count": 140,
     "metadata": {},
     "output_type": "execute_result"
    }
   ],
   "source": [
    "st.linregress(x = df.groupby(\"YEAR\")[\"WO_A\"].quantile(.5), y = acceptyear[0])"
   ]
  },
  {
   "cell_type": "code",
   "execution_count": 47,
   "id": "250902f6",
   "metadata": {},
   "outputs": [],
   "source": [
    "allapp_code = pd.DataFrame(df[\"PW_SOC_CODE\"].value_counts()[:15]).reset_index()\n",
    "allapp_code.columns = [\"AACODE\",\"COUNT AAC\"]"
   ]
  },
  {
   "cell_type": "code",
   "execution_count": 48,
   "id": "8982f4fe",
   "metadata": {},
   "outputs": [],
   "source": [
    "goodcode = pd.DataFrame(df[df[\"CASE_STATUS\"]==1][\"PW_SOC_CODE\"].value_counts()[:15]).reset_index()\n",
    "goodcode.columns = [\"GCODE\",\"COUNT GC\"]"
   ]
  },
  {
   "cell_type": "code",
   "execution_count": 49,
   "id": "714f4c47",
   "metadata": {},
   "outputs": [
    {
     "data": {
      "text/html": [
       "<div>\n",
       "<style scoped>\n",
       "    .dataframe tbody tr th:only-of-type {\n",
       "        vertical-align: middle;\n",
       "    }\n",
       "\n",
       "    .dataframe tbody tr th {\n",
       "        vertical-align: top;\n",
       "    }\n",
       "\n",
       "    .dataframe thead th {\n",
       "        text-align: right;\n",
       "    }\n",
       "</style>\n",
       "<table border=\"1\" class=\"dataframe\">\n",
       "  <thead>\n",
       "    <tr style=\"text-align: right;\">\n",
       "      <th></th>\n",
       "      <th>AACODE</th>\n",
       "      <th>COUNT AAC</th>\n",
       "      <th>GCODE</th>\n",
       "      <th>COUNT GC</th>\n",
       "    </tr>\n",
       "  </thead>\n",
       "  <tbody>\n",
       "    <tr>\n",
       "      <th>0</th>\n",
       "      <td>15-1132</td>\n",
       "      <td>255164</td>\n",
       "      <td>15-1132</td>\n",
       "      <td>240281</td>\n",
       "    </tr>\n",
       "    <tr>\n",
       "      <th>1</th>\n",
       "      <td>15-1121</td>\n",
       "      <td>72520</td>\n",
       "      <td>15-1121</td>\n",
       "      <td>68384</td>\n",
       "    </tr>\n",
       "    <tr>\n",
       "      <th>2</th>\n",
       "      <td>15-1133</td>\n",
       "      <td>70102</td>\n",
       "      <td>15-1133</td>\n",
       "      <td>66971</td>\n",
       "    </tr>\n",
       "    <tr>\n",
       "      <th>3</th>\n",
       "      <td>15-1031</td>\n",
       "      <td>52133</td>\n",
       "      <td>15-1031</td>\n",
       "      <td>45348</td>\n",
       "    </tr>\n",
       "    <tr>\n",
       "      <th>4</th>\n",
       "      <td>17-2072</td>\n",
       "      <td>33156</td>\n",
       "      <td>17-2072</td>\n",
       "      <td>30654</td>\n",
       "    </tr>\n",
       "    <tr>\n",
       "      <th>5</th>\n",
       "      <td>15-1051</td>\n",
       "      <td>26917</td>\n",
       "      <td>15-1199</td>\n",
       "      <td>24710</td>\n",
       "    </tr>\n",
       "    <tr>\n",
       "      <th>6</th>\n",
       "      <td>15-1199</td>\n",
       "      <td>25781</td>\n",
       "      <td>15-1051</td>\n",
       "      <td>22538</td>\n",
       "    </tr>\n",
       "    <tr>\n",
       "      <th>7</th>\n",
       "      <td>11-3021</td>\n",
       "      <td>22819</td>\n",
       "      <td>11-3021</td>\n",
       "      <td>20585</td>\n",
       "    </tr>\n",
       "    <tr>\n",
       "      <th>8</th>\n",
       "      <td>15-1032</td>\n",
       "      <td>20396</td>\n",
       "      <td>15-1032</td>\n",
       "      <td>17001</td>\n",
       "    </tr>\n",
       "    <tr>\n",
       "      <th>9</th>\n",
       "      <td>17-2141</td>\n",
       "      <td>16915</td>\n",
       "      <td>17-2141</td>\n",
       "      <td>15527</td>\n",
       "    </tr>\n",
       "    <tr>\n",
       "      <th>10</th>\n",
       "      <td>13-2011</td>\n",
       "      <td>16906</td>\n",
       "      <td>13-2011</td>\n",
       "      <td>15168</td>\n",
       "    </tr>\n",
       "    <tr>\n",
       "      <th>11</th>\n",
       "      <td>15-2041</td>\n",
       "      <td>15503</td>\n",
       "      <td>15-2041</td>\n",
       "      <td>14725</td>\n",
       "    </tr>\n",
       "    <tr>\n",
       "      <th>12</th>\n",
       "      <td>13-2051</td>\n",
       "      <td>13556</td>\n",
       "      <td>13-2051</td>\n",
       "      <td>12207</td>\n",
       "    </tr>\n",
       "    <tr>\n",
       "      <th>13</th>\n",
       "      <td>51-3022</td>\n",
       "      <td>13117</td>\n",
       "      <td>15-1142</td>\n",
       "      <td>11728</td>\n",
       "    </tr>\n",
       "    <tr>\n",
       "      <th>14</th>\n",
       "      <td>15-1142</td>\n",
       "      <td>12674</td>\n",
       "      <td>13-1111</td>\n",
       "      <td>11332</td>\n",
       "    </tr>\n",
       "  </tbody>\n",
       "</table>\n",
       "</div>"
      ],
      "text/plain": [
       "     AACODE  COUNT AAC    GCODE  COUNT GC\n",
       "0   15-1132     255164  15-1132    240281\n",
       "1   15-1121      72520  15-1121     68384\n",
       "2   15-1133      70102  15-1133     66971\n",
       "3   15-1031      52133  15-1031     45348\n",
       "4   17-2072      33156  17-2072     30654\n",
       "5   15-1051      26917  15-1199     24710\n",
       "6   15-1199      25781  15-1051     22538\n",
       "7   11-3021      22819  11-3021     20585\n",
       "8   15-1032      20396  15-1032     17001\n",
       "9   17-2141      16915  17-2141     15527\n",
       "10  13-2011      16906  13-2011     15168\n",
       "11  15-2041      15503  15-2041     14725\n",
       "12  13-2051      13556  13-2051     12207\n",
       "13  51-3022      13117  15-1142     11728\n",
       "14  15-1142      12674  13-1111     11332"
      ]
     },
     "execution_count": 49,
     "metadata": {},
     "output_type": "execute_result"
    }
   ],
   "source": [
    "pd.concat([allapp_code,goodcode], axis = 1)"
   ]
  },
  {
   "cell_type": "code",
   "execution_count": 50,
   "id": "e1e04edf",
   "metadata": {},
   "outputs": [
    {
     "data": {
      "text/plain": [
       "array([nan, 'HR', 'YR', 'WK', 'BI', 'MTH'], dtype=object)"
      ]
     },
     "execution_count": 50,
     "metadata": {},
     "output_type": "execute_result"
    }
   ],
   "source": [
    "df[\"PW_UNIT_OF_PAY_9089\"].unique()"
   ]
  },
  {
   "cell_type": "code",
   "execution_count": 51,
   "id": "840de5d2",
   "metadata": {},
   "outputs": [
    {
     "data": {
      "text/plain": [
       "<AxesSubplot:title={'center':'0: rejection, 1: acceptance frequency over the years'}, xlabel='PW_UNIT_OF_PAY_9089', ylabel='count'>"
      ]
     },
     "execution_count": 51,
     "metadata": {},
     "output_type": "execute_result"
    },
    {
     "data": {
      "image/png": "[encoded data removed]",
      "text/plain": [
       "<Figure size 864x288 with 1 Axes>"
      ]
     },
     "metadata": {
      "needs_background": "light"
     },
     "output_type": "display_data"
    }
   ],
   "source": [
    "plt.figure(figsize = (12,4))\n",
    "plt.title(\"0: rejection, 1: acceptance frequency over the years\")\n",
    "sns.countplot(x = \"PW_UNIT_OF_PAY_9089\",hue = \"CASE_STATUS\",data = df)"
   ]
  },
  {
   "cell_type": "code",
   "execution_count": 52,
   "id": "9a7393b8",
   "metadata": {},
   "outputs": [],
   "source": [
    "yrw = len(df[(df[\"WAGE_OFFER_UNIT_OF_PAY_9089\"]==\"YR\")&(df[\"CASE_STATUS\"]==1)])/len(df[df[\"WAGE_OFFER_UNIT_OF_PAY_9089\"]==\"YR\"])\n",
    "mthw = len(df[(df[\"WAGE_OFFER_UNIT_OF_PAY_9089\"]==\"MTH\")&(df[\"CASE_STATUS\"]==1)])/len(df[df[\"WAGE_OFFER_UNIT_OF_PAY_9089\"]==\"MTH\"])\n",
    "biw = len(df[(df[\"WAGE_OFFER_UNIT_OF_PAY_9089\"]==\"BI\")&(df[\"CASE_STATUS\"]==1)])/len(df[df[\"WAGE_OFFER_UNIT_OF_PAY_9089\"]==\"BI\"])\n",
    "wkw = len(df[(df[\"WAGE_OFFER_UNIT_OF_PAY_9089\"]==\"WK\")&(df[\"CASE_STATUS\"]==1)])/len(df[df[\"WAGE_OFFER_UNIT_OF_PAY_9089\"]==\"WK\"])\n",
    "hrw = len(df[(df[\"WAGE_OFFER_UNIT_OF_PAY_9089\"]==\"HR\")&(df[\"CASE_STATUS\"]==1)])/len(df[df[\"WAGE_OFFER_UNIT_OF_PAY_9089\"]==\"HR\"])"
   ]
  },
  {
   "cell_type": "code",
   "execution_count": 53,
   "id": "138e5adf",
   "metadata": {},
   "outputs": [],
   "source": [
    "saw = (yrw+mthw+biw+wkw+hrw)/5"
   ]
  },
  {
   "cell_type": "code",
   "execution_count": 54,
   "id": "39b440f7",
   "metadata": {},
   "outputs": [],
   "source": [
    "waw = ((len(df[df[\"WAGE_OFFER_UNIT_OF_PAY_9089\"]==\"YR\"])*yrw)+\n",
    "(len(df[df[\"WAGE_OFFER_UNIT_OF_PAY_9089\"]==\"MTH\"])*mthw)+\n",
    "(len(df[df[\"WAGE_OFFER_UNIT_OF_PAY_9089\"]==\"BI\"])*biw)+\n",
    "(len(df[df[\"WAGE_OFFER_UNIT_OF_PAY_9089\"]==\"WK\"])*wkw)+\n",
    "(len(df[df[\"WAGE_OFFER_UNIT_OF_PAY_9089\"]==\"HR\"])*hrw))/len(df[df[\"WAGE_OFFER_UNIT_OF_PAY_9089\"].notna()])"
   ]
  },
  {
   "cell_type": "code",
   "execution_count": 55,
   "id": "193e4f5a",
   "metadata": {},
   "outputs": [
    {
     "data": {
      "text/html": [
       "<div>\n",
       "<style scoped>\n",
       "    .dataframe tbody tr th:only-of-type {\n",
       "        vertical-align: middle;\n",
       "    }\n",
       "\n",
       "    .dataframe tbody tr th {\n",
       "        vertical-align: top;\n",
       "    }\n",
       "\n",
       "    .dataframe thead th {\n",
       "        text-align: right;\n",
       "    }\n",
       "</style>\n",
       "<table border=\"1\" class=\"dataframe\">\n",
       "  <thead>\n",
       "    <tr style=\"text-align: right;\">\n",
       "      <th></th>\n",
       "      <th>YR S%</th>\n",
       "      <th>MTH S%</th>\n",
       "      <th>BI S%</th>\n",
       "      <th>WK S%</th>\n",
       "      <th>HR S%</th>\n",
       "      <th>AVG S%</th>\n",
       "      <th>WAVG S%</th>\n",
       "    </tr>\n",
       "  </thead>\n",
       "  <tbody>\n",
       "    <tr>\n",
       "      <th>0</th>\n",
       "      <td>0.907553</td>\n",
       "      <td>0.675972</td>\n",
       "      <td>0.578947</td>\n",
       "      <td>0.515957</td>\n",
       "      <td>0.687499</td>\n",
       "      <td>0.673186</td>\n",
       "      <td>0.888708</td>\n",
       "    </tr>\n",
       "  </tbody>\n",
       "</table>\n",
       "</div>"
      ],
      "text/plain": [
       "      YR S%    MTH S%     BI S%     WK S%     HR S%    AVG S%   WAVG S%\n",
       "0  0.907553  0.675972  0.578947  0.515957  0.687499  0.673186  0.888708"
      ]
     },
     "execution_count": 55,
     "metadata": {},
     "output_type": "execute_result"
    }
   ],
   "source": [
    "overallw = pd.DataFrame([yrw,mthw,biw,wkw,hrw,saw,waw]).transpose()\n",
    "overallw.columns = [\"YR S%\", \"MTH S%\", \"BI S%\",\"WK S%\", \"HR S%\",\"AVG S%\", \"WAVG S%\"]\n",
    "overallw"
   ]
  },
  {
   "cell_type": "code",
   "execution_count": 144,
   "id": "f5a37715",
   "metadata": {},
   "outputs": [
    {
     "data": {
      "text/plain": [
       "<AxesSubplot:xlabel='YEAR', ylabel='count'>"
      ]
     },
     "execution_count": 144,
     "metadata": {},
     "output_type": "execute_result"
    },
    {
     "data": {
      "image/png": "[encoded data removed]",
      "text/plain": [
       "<Figure size 864x720 with 1 Axes>"
      ]
     },
     "metadata": {
      "needs_background": "light"
     },
     "output_type": "display_data"
    }
   ],
   "source": [
    "plt.figure(figsize=(12,10))\n",
    "sns.countplot(x = \"YEAR\", hue = \"WAGE_OFFER_UNIT_OF_PAY_9089\",data=df,hue_order=[\"YR\",\"MTH\",\"BI\",\"WK\",\"HR\"])"
   ]
  },
  {
   "cell_type": "code",
   "execution_count": 148,
   "id": "dd8dddf3",
   "metadata": {},
   "outputs": [
    {
     "data": {
      "text/plain": [
       "YEAR  WAGE_OFFER_UNIT_OF_PAY_9089\n",
       "2007  YR                             0.62\n",
       "      HR                             0.37\n",
       "      WK                             0.01\n",
       "      MTH                            0.01\n",
       "      BI                             0.00\n",
       "2008  YR                             0.59\n",
       "      HR                             0.39\n",
       "      WK                             0.01\n",
       "      MTH                            0.00\n",
       "      BI                             0.00\n",
       "2009  YR                             0.68\n",
       "      HR                             0.31\n",
       "      WK                             0.00\n",
       "      MTH                            0.00\n",
       "      BI                             0.00\n",
       "Name: WAGE_OFFER_UNIT_OF_PAY_9089, dtype: float64"
      ]
     },
     "execution_count": 148,
     "metadata": {},
     "output_type": "execute_result"
    }
   ],
   "source": [
    "df.groupby(\"YEAR\")[\"WAGE_OFFER_UNIT_OF_PAY_9089\"].value_counts().groupby(level=0).transform(lambda x: (x / x.sum()).round(2))[:15]"
   ]
  },
  {
   "cell_type": "code",
   "execution_count": 150,
   "id": "1e442a8d",
   "metadata": {},
   "outputs": [
    {
     "data": {
      "text/plain": [
       "YEAR  WAGE_OFFER_UNIT_OF_PAY_9089\n",
       "2017  YR                             0.96\n",
       "      HR                             0.04\n",
       "      WK                             0.00\n",
       "      MTH                            0.00\n",
       "      BI                             0.00\n",
       "2018  YR                             0.96\n",
       "      HR                             0.04\n",
       "      MTH                            0.00\n",
       "      WK                             0.00\n",
       "      BI                             0.00\n",
       "2019  YR                             0.96\n",
       "      HR                             0.04\n",
       "      MTH                            0.00\n",
       "      WK                             0.00\n",
       "      BI                             0.00\n",
       "2020  YR                             0.96\n",
       "      HR                             0.04\n",
       "      MTH                            0.00\n",
       "      WK                             0.00\n",
       "      BI                             0.00\n",
       "2021  YR                             0.97\n",
       "      HR                             0.03\n",
       "      MTH                            0.00\n",
       "      WK                             0.00\n",
       "      BI                             0.00\n",
       "Name: WAGE_OFFER_UNIT_OF_PAY_9089, dtype: float64"
      ]
     },
     "execution_count": 150,
     "metadata": {},
     "output_type": "execute_result"
    }
   ],
   "source": [
    "df.groupby(\"YEAR\")[\"WAGE_OFFER_UNIT_OF_PAY_9089\"].value_counts().groupby(level=0).transform(lambda x: (x / x.sum()).round(2))[49:]"
   ]
  },
  {
   "cell_type": "code",
   "execution_count": 155,
   "id": "1379499f",
   "metadata": {},
   "outputs": [],
   "source": [
    "unitaccept = pd.concat([pd.get_dummies(df.dropna()[\"WAGE_OFFER_UNIT_OF_PAY_9089\"]),df.dropna()[\"CASE_STATUS\"]],axis = 1)"
   ]
  },
  {
   "cell_type": "code",
   "execution_count": 158,
   "id": "f139efa7",
   "metadata": {},
   "outputs": [
    {
     "data": {
      "text/plain": [
       "BI            -0.012456\n",
       "HR            -0.137998\n",
       "MTH           -0.013811\n",
       "WK            -0.022096\n",
       "YR             0.141120\n",
       "CASE_STATUS    1.000000\n",
       "Name: CASE_STATUS, dtype: float64"
      ]
     },
     "execution_count": 158,
     "metadata": {},
     "output_type": "execute_result"
    }
   ],
   "source": [
    "unitaccept.corr()[\"CASE_STATUS\"]"
   ]
  },
  {
   "cell_type": "code",
   "execution_count": 167,
   "id": "e4dcfb48",
   "metadata": {},
   "outputs": [],
   "source": [
    "yr07 = df[(df[\"YEAR\"]==2007)&(df[\"WAGE_OFFER_UNIT_OF_PAY_9089\"]==\"YR\")][\"CASE_STATUS\"].sum()/len(df[(df[\"YEAR\"]==2007)&(df[\"WAGE_OFFER_UNIT_OF_PAY_9089\"]==\"YR\")])\n",
    "yr08 = df[(df[\"YEAR\"]==2008)&(df[\"WAGE_OFFER_UNIT_OF_PAY_9089\"]==\"YR\")][\"CASE_STATUS\"].sum()/len(df[(df[\"YEAR\"]==2008)&(df[\"WAGE_OFFER_UNIT_OF_PAY_9089\"]==\"YR\")])\n",
    "yr09 = df[(df[\"YEAR\"]==2009)&(df[\"WAGE_OFFER_UNIT_OF_PAY_9089\"]==\"YR\")][\"CASE_STATUS\"].sum()/len(df[(df[\"YEAR\"]==2009)&(df[\"WAGE_OFFER_UNIT_OF_PAY_9089\"]==\"YR\")])\n",
    "yr10 = df[(df[\"YEAR\"]==2010)&(df[\"WAGE_OFFER_UNIT_OF_PAY_9089\"]==\"YR\")][\"CASE_STATUS\"].sum()/len(df[(df[\"YEAR\"]==2010)&(df[\"WAGE_OFFER_UNIT_OF_PAY_9089\"]==\"YR\")])\n",
    "yr11 = df[(df[\"YEAR\"]==2011)&(df[\"WAGE_OFFER_UNIT_OF_PAY_9089\"]==\"YR\")][\"CASE_STATUS\"].sum()/len(df[(df[\"YEAR\"]==2011)&(df[\"WAGE_OFFER_UNIT_OF_PAY_9089\"]==\"YR\")])\n",
    "yr12 = df[(df[\"YEAR\"]==2012)&(df[\"WAGE_OFFER_UNIT_OF_PAY_9089\"]==\"YR\")][\"CASE_STATUS\"].sum()/len(df[(df[\"YEAR\"]==2012)&(df[\"WAGE_OFFER_UNIT_OF_PAY_9089\"]==\"YR\")])\n",
    "yr13 = df[(df[\"YEAR\"]==2013)&(df[\"WAGE_OFFER_UNIT_OF_PAY_9089\"]==\"YR\")][\"CASE_STATUS\"].sum()/len(df[(df[\"YEAR\"]==2013)&(df[\"WAGE_OFFER_UNIT_OF_PAY_9089\"]==\"YR\")])\n",
    "yr14 = df[(df[\"YEAR\"]==2014)&(df[\"WAGE_OFFER_UNIT_OF_PAY_9089\"]==\"YR\")][\"CASE_STATUS\"].sum()/len(df[(df[\"YEAR\"]==2014)&(df[\"WAGE_OFFER_UNIT_OF_PAY_9089\"]==\"YR\")])\n",
    "yr15 = df[(df[\"YEAR\"]==2015)&(df[\"WAGE_OFFER_UNIT_OF_PAY_9089\"]==\"YR\")][\"CASE_STATUS\"].sum()/len(df[(df[\"YEAR\"]==2015)&(df[\"WAGE_OFFER_UNIT_OF_PAY_9089\"]==\"YR\")])\n",
    "yr16 = df[(df[\"YEAR\"]==2016)&(df[\"WAGE_OFFER_UNIT_OF_PAY_9089\"]==\"YR\")][\"CASE_STATUS\"].sum()/len(df[(df[\"YEAR\"]==2016)&(df[\"WAGE_OFFER_UNIT_OF_PAY_9089\"]==\"YR\")])\n",
    "yr17 = df[(df[\"YEAR\"]==2017)&(df[\"WAGE_OFFER_UNIT_OF_PAY_9089\"]==\"YR\")][\"CASE_STATUS\"].sum()/len(df[(df[\"YEAR\"]==2017)&(df[\"WAGE_OFFER_UNIT_OF_PAY_9089\"]==\"YR\")])\n",
    "yr18 = df[(df[\"YEAR\"]==2018)&(df[\"WAGE_OFFER_UNIT_OF_PAY_9089\"]==\"YR\")][\"CASE_STATUS\"].sum()/len(df[(df[\"YEAR\"]==2018)&(df[\"WAGE_OFFER_UNIT_OF_PAY_9089\"]==\"YR\")])\n",
    "yr19 = df[(df[\"YEAR\"]==2019)&(df[\"WAGE_OFFER_UNIT_OF_PAY_9089\"]==\"YR\")][\"CASE_STATUS\"].sum()/len(df[(df[\"YEAR\"]==2019)&(df[\"WAGE_OFFER_UNIT_OF_PAY_9089\"]==\"YR\")])\n",
    "yr20 = df[(df[\"YEAR\"]==2020)&(df[\"WAGE_OFFER_UNIT_OF_PAY_9089\"]==\"YR\")][\"CASE_STATUS\"].sum()/len(df[(df[\"YEAR\"]==2020)&(df[\"WAGE_OFFER_UNIT_OF_PAY_9089\"]==\"YR\")])\n",
    "yr21 = df[(df[\"YEAR\"]==2021)&(df[\"WAGE_OFFER_UNIT_OF_PAY_9089\"]==\"YR\")][\"CASE_STATUS\"].sum()/len(df[(df[\"YEAR\"]==2021)&(df[\"WAGE_OFFER_UNIT_OF_PAY_9089\"]==\"YR\")])\n",
    "yrdf = pd.DataFrame([yr07,yr08,yr09,yr10,yr11,yr12,yr13,yr14,yr15,yr16,yr17,yr18,yr19,yr20,yr21])\n",
    "yrdf.columns = [\"YR S%\"]"
   ]
  },
  {
   "cell_type": "code",
   "execution_count": 171,
   "id": "d094548a",
   "metadata": {},
   "outputs": [],
   "source": [
    "mth07 = df[(df[\"YEAR\"]==2007)&(df[\"WAGE_OFFER_UNIT_OF_PAY_9089\"]==\"MTH\")][\"CASE_STATUS\"].sum()/len(df[(df[\"YEAR\"]==2007)&(df[\"WAGE_OFFER_UNIT_OF_PAY_9089\"]==\"MTH\")])\n",
    "mth08 = df[(df[\"YEAR\"]==2008)&(df[\"WAGE_OFFER_UNIT_OF_PAY_9089\"]==\"MTH\")][\"CASE_STATUS\"].sum()/len(df[(df[\"YEAR\"]==2008)&(df[\"WAGE_OFFER_UNIT_OF_PAY_9089\"]==\"MTH\")])\n",
    "mth09 = df[(df[\"YEAR\"]==2009)&(df[\"WAGE_OFFER_UNIT_OF_PAY_9089\"]==\"MTH\")][\"CASE_STATUS\"].sum()/len(df[(df[\"YEAR\"]==2009)&(df[\"WAGE_OFFER_UNIT_OF_PAY_9089\"]==\"MTH\")])\n",
    "mth10 = df[(df[\"YEAR\"]==2010)&(df[\"WAGE_OFFER_UNIT_OF_PAY_9089\"]==\"MTH\")][\"CASE_STATUS\"].sum()/len(df[(df[\"YEAR\"]==2010)&(df[\"WAGE_OFFER_UNIT_OF_PAY_9089\"]==\"MTH\")])\n",
    "mth11 = df[(df[\"YEAR\"]==2011)&(df[\"WAGE_OFFER_UNIT_OF_PAY_9089\"]==\"MTH\")][\"CASE_STATUS\"].sum()/len(df[(df[\"YEAR\"]==2011)&(df[\"WAGE_OFFER_UNIT_OF_PAY_9089\"]==\"MTH\")])\n",
    "mth12 = df[(df[\"YEAR\"]==2012)&(df[\"WAGE_OFFER_UNIT_OF_PAY_9089\"]==\"MTH\")][\"CASE_STATUS\"].sum()/len(df[(df[\"YEAR\"]==2012)&(df[\"WAGE_OFFER_UNIT_OF_PAY_9089\"]==\"MTH\")])\n",
    "mth13 = df[(df[\"YEAR\"]==2013)&(df[\"WAGE_OFFER_UNIT_OF_PAY_9089\"]==\"MTH\")][\"CASE_STATUS\"].sum()/len(df[(df[\"YEAR\"]==2013)&(df[\"WAGE_OFFER_UNIT_OF_PAY_9089\"]==\"MTH\")])\n",
    "mth14 = df[(df[\"YEAR\"]==2014)&(df[\"WAGE_OFFER_UNIT_OF_PAY_9089\"]==\"MTH\")][\"CASE_STATUS\"].sum()/len(df[(df[\"YEAR\"]==2014)&(df[\"WAGE_OFFER_UNIT_OF_PAY_9089\"]==\"MTH\")])\n",
    "mth15 = df[(df[\"YEAR\"]==2015)&(df[\"WAGE_OFFER_UNIT_OF_PAY_9089\"]==\"MTH\")][\"CASE_STATUS\"].sum()/len(df[(df[\"YEAR\"]==2015)&(df[\"WAGE_OFFER_UNIT_OF_PAY_9089\"]==\"MTH\")])\n",
    "mth16 = df[(df[\"YEAR\"]==2016)&(df[\"WAGE_OFFER_UNIT_OF_PAY_9089\"]==\"MTH\")][\"CASE_STATUS\"].sum()/len(df[(df[\"YEAR\"]==2016)&(df[\"WAGE_OFFER_UNIT_OF_PAY_9089\"]==\"MTH\")])\n",
    "mth17 = df[(df[\"YEAR\"]==2017)&(df[\"WAGE_OFFER_UNIT_OF_PAY_9089\"]==\"MTH\")][\"CASE_STATUS\"].sum()/len(df[(df[\"YEAR\"]==2017)&(df[\"WAGE_OFFER_UNIT_OF_PAY_9089\"]==\"MTH\")])\n",
    "mth18 = df[(df[\"YEAR\"]==2018)&(df[\"WAGE_OFFER_UNIT_OF_PAY_9089\"]==\"MTH\")][\"CASE_STATUS\"].sum()/len(df[(df[\"YEAR\"]==2018)&(df[\"WAGE_OFFER_UNIT_OF_PAY_9089\"]==\"MTH\")])\n",
    "mth19 = df[(df[\"YEAR\"]==2019)&(df[\"WAGE_OFFER_UNIT_OF_PAY_9089\"]==\"MTH\")][\"CASE_STATUS\"].sum()/len(df[(df[\"YEAR\"]==2019)&(df[\"WAGE_OFFER_UNIT_OF_PAY_9089\"]==\"MTH\")])\n",
    "mth20 = df[(df[\"YEAR\"]==2020)&(df[\"WAGE_OFFER_UNIT_OF_PAY_9089\"]==\"MTH\")][\"CASE_STATUS\"].sum()/len(df[(df[\"YEAR\"]==2020)&(df[\"WAGE_OFFER_UNIT_OF_PAY_9089\"]==\"MTH\")])\n",
    "mth21 = df[(df[\"YEAR\"]==2021)&(df[\"WAGE_OFFER_UNIT_OF_PAY_9089\"]==\"MTH\")][\"CASE_STATUS\"].sum()/len(df[(df[\"YEAR\"]==2021)&(df[\"WAGE_OFFER_UNIT_OF_PAY_9089\"]==\"MTH\")])\n",
    "mthdf = pd.DataFrame([mth07,mth08,mth09,mth10,mth11,mth12,mth13,mth14,mth15,mth16,mth17,mth18,mth19,mth20,mth21])\n",
    "mthdf.columns = [\"MTH S%\"]"
   ]
  },
  {
   "cell_type": "code",
   "execution_count": 175,
   "id": "fcd26b2c",
   "metadata": {},
   "outputs": [
    {
     "name": "stderr",
     "output_type": "stream",
     "text": [
      "/var/folders/k2/43l3cwhj6w3_z0hm652mcjq40000gn/T/ipykernel_1258/2884934719.py:8: RuntimeWarning:\n",
      "\n",
      "invalid value encountered in long_scalars\n",
      "\n"
     ]
    }
   ],
   "source": [
    "bi07 = df[(df[\"YEAR\"]==2007)&(df[\"WAGE_OFFER_UNIT_OF_PAY_9089\"]==\"BI\")][\"CASE_STATUS\"].sum()/len(df[(df[\"YEAR\"]==2007)&(df[\"WAGE_OFFER_UNIT_OF_PAY_9089\"]==\"BI\")])\n",
    "bi08 = df[(df[\"YEAR\"]==2008)&(df[\"WAGE_OFFER_UNIT_OF_PAY_9089\"]==\"BI\")][\"CASE_STATUS\"].sum()/len(df[(df[\"YEAR\"]==2008)&(df[\"WAGE_OFFER_UNIT_OF_PAY_9089\"]==\"BI\")])\n",
    "bi09 = df[(df[\"YEAR\"]==2009)&(df[\"WAGE_OFFER_UNIT_OF_PAY_9089\"]==\"BI\")][\"CASE_STATUS\"].sum()/len(df[(df[\"YEAR\"]==2009)&(df[\"WAGE_OFFER_UNIT_OF_PAY_9089\"]==\"BI\")])\n",
    "bi10 = df[(df[\"YEAR\"]==2010)&(df[\"WAGE_OFFER_UNIT_OF_PAY_9089\"]==\"BI\")][\"CASE_STATUS\"].sum()/len(df[(df[\"YEAR\"]==2010)&(df[\"WAGE_OFFER_UNIT_OF_PAY_9089\"]==\"BI\")])\n",
    "bi11 = df[(df[\"YEAR\"]==2011)&(df[\"WAGE_OFFER_UNIT_OF_PAY_9089\"]==\"BI\")][\"CASE_STATUS\"].sum()/len(df[(df[\"YEAR\"]==2011)&(df[\"WAGE_OFFER_UNIT_OF_PAY_9089\"]==\"BI\")])\n",
    "bi12 = df[(df[\"YEAR\"]==2012)&(df[\"WAGE_OFFER_UNIT_OF_PAY_9089\"]==\"BI\")][\"CASE_STATUS\"].sum()/len(df[(df[\"YEAR\"]==2012)&(df[\"WAGE_OFFER_UNIT_OF_PAY_9089\"]==\"BI\")])\n",
    "bi13 = df[(df[\"YEAR\"]==2013)&(df[\"WAGE_OFFER_UNIT_OF_PAY_9089\"]==\"BI\")][\"CASE_STATUS\"].sum()/len(df[(df[\"YEAR\"]==2013)&(df[\"WAGE_OFFER_UNIT_OF_PAY_9089\"]==\"BI\")])\n",
    "bi14 = df[(df[\"YEAR\"]==2014)&(df[\"WAGE_OFFER_UNIT_OF_PAY_9089\"]==\"BI\")][\"CASE_STATUS\"].sum()/len(df[(df[\"YEAR\"]==2014)&(df[\"WAGE_OFFER_UNIT_OF_PAY_9089\"]==\"BI\")])\n",
    "bi15 = df[(df[\"YEAR\"]==2015)&(df[\"WAGE_OFFER_UNIT_OF_PAY_9089\"]==\"BI\")][\"CASE_STATUS\"].sum()/len(df[(df[\"YEAR\"]==2015)&(df[\"WAGE_OFFER_UNIT_OF_PAY_9089\"]==\"BI\")])\n",
    "bi16 = df[(df[\"YEAR\"]==2016)&(df[\"WAGE_OFFER_UNIT_OF_PAY_9089\"]==\"BI\")][\"CASE_STATUS\"].sum()/len(df[(df[\"YEAR\"]==2016)&(df[\"WAGE_OFFER_UNIT_OF_PAY_9089\"]==\"BI\")])\n",
    "bi17 = df[(df[\"YEAR\"]==2017)&(df[\"WAGE_OFFER_UNIT_OF_PAY_9089\"]==\"BI\")][\"CASE_STATUS\"].sum()/len(df[(df[\"YEAR\"]==2017)&(df[\"WAGE_OFFER_UNIT_OF_PAY_9089\"]==\"BI\")])\n",
    "bi18 = df[(df[\"YEAR\"]==2018)&(df[\"WAGE_OFFER_UNIT_OF_PAY_9089\"]==\"BI\")][\"CASE_STATUS\"].sum()/len(df[(df[\"YEAR\"]==2018)&(df[\"WAGE_OFFER_UNIT_OF_PAY_9089\"]==\"BI\")])\n",
    "bi19 = df[(df[\"YEAR\"]==2019)&(df[\"WAGE_OFFER_UNIT_OF_PAY_9089\"]==\"BI\")][\"CASE_STATUS\"].sum()/len(df[(df[\"YEAR\"]==2019)&(df[\"WAGE_OFFER_UNIT_OF_PAY_9089\"]==\"BI\")])\n",
    "bi20 = df[(df[\"YEAR\"]==2020)&(df[\"WAGE_OFFER_UNIT_OF_PAY_9089\"]==\"BI\")][\"CASE_STATUS\"].sum()/len(df[(df[\"YEAR\"]==2020)&(df[\"WAGE_OFFER_UNIT_OF_PAY_9089\"]==\"BI\")])\n",
    "bi21 = df[(df[\"YEAR\"]==2021)&(df[\"WAGE_OFFER_UNIT_OF_PAY_9089\"]==\"BI\")][\"CASE_STATUS\"].sum()/len(df[(df[\"YEAR\"]==2021)&(df[\"WAGE_OFFER_UNIT_OF_PAY_9089\"]==\"BI\")])\n",
    "bidf = pd.DataFrame([bi07,bi08,bi09,bi10,bi11,bi12,bi13,bi14,bi15,bi16,bi17,bi18,bi19,bi20,bi21])\n",
    "bidf.columns = [\"BI S%\"]"
   ]
  },
  {
   "cell_type": "code",
   "execution_count": 178,
   "id": "b025800c",
   "metadata": {},
   "outputs": [],
   "source": [
    "wk07 = df[(df[\"YEAR\"]==2007)&(df[\"WAGE_OFFER_UNIT_OF_PAY_9089\"]==\"WK\")][\"CASE_STATUS\"].sum()/len(df[(df[\"YEAR\"]==2007)&(df[\"WAGE_OFFER_UNIT_OF_PAY_9089\"]==\"WK\")])\n",
    "wk08 = df[(df[\"YEAR\"]==2008)&(df[\"WAGE_OFFER_UNIT_OF_PAY_9089\"]==\"WK\")][\"CASE_STATUS\"].sum()/len(df[(df[\"YEAR\"]==2008)&(df[\"WAGE_OFFER_UNIT_OF_PAY_9089\"]==\"WK\")])\n",
    "wk09 = df[(df[\"YEAR\"]==2009)&(df[\"WAGE_OFFER_UNIT_OF_PAY_9089\"]==\"WK\")][\"CASE_STATUS\"].sum()/len(df[(df[\"YEAR\"]==2009)&(df[\"WAGE_OFFER_UNIT_OF_PAY_9089\"]==\"WK\")])\n",
    "wk10 = df[(df[\"YEAR\"]==2010)&(df[\"WAGE_OFFER_UNIT_OF_PAY_9089\"]==\"WK\")][\"CASE_STATUS\"].sum()/len(df[(df[\"YEAR\"]==2010)&(df[\"WAGE_OFFER_UNIT_OF_PAY_9089\"]==\"WK\")])\n",
    "wk11 = df[(df[\"YEAR\"]==2011)&(df[\"WAGE_OFFER_UNIT_OF_PAY_9089\"]==\"WK\")][\"CASE_STATUS\"].sum()/len(df[(df[\"YEAR\"]==2011)&(df[\"WAGE_OFFER_UNIT_OF_PAY_9089\"]==\"WK\")])\n",
    "wk12 = df[(df[\"YEAR\"]==2012)&(df[\"WAGE_OFFER_UNIT_OF_PAY_9089\"]==\"WK\")][\"CASE_STATUS\"].sum()/len(df[(df[\"YEAR\"]==2012)&(df[\"WAGE_OFFER_UNIT_OF_PAY_9089\"]==\"WK\")])\n",
    "wk13 = df[(df[\"YEAR\"]==2013)&(df[\"WAGE_OFFER_UNIT_OF_PAY_9089\"]==\"WK\")][\"CASE_STATUS\"].sum()/len(df[(df[\"YEAR\"]==2013)&(df[\"WAGE_OFFER_UNIT_OF_PAY_9089\"]==\"WK\")])\n",
    "wk14 = df[(df[\"YEAR\"]==2014)&(df[\"WAGE_OFFER_UNIT_OF_PAY_9089\"]==\"WK\")][\"CASE_STATUS\"].sum()/len(df[(df[\"YEAR\"]==2014)&(df[\"WAGE_OFFER_UNIT_OF_PAY_9089\"]==\"WK\")])\n",
    "wk15 = df[(df[\"YEAR\"]==2015)&(df[\"WAGE_OFFER_UNIT_OF_PAY_9089\"]==\"WK\")][\"CASE_STATUS\"].sum()/len(df[(df[\"YEAR\"]==2015)&(df[\"WAGE_OFFER_UNIT_OF_PAY_9089\"]==\"WK\")])\n",
    "wk16 = df[(df[\"YEAR\"]==2016)&(df[\"WAGE_OFFER_UNIT_OF_PAY_9089\"]==\"WK\")][\"CASE_STATUS\"].sum()/len(df[(df[\"YEAR\"]==2016)&(df[\"WAGE_OFFER_UNIT_OF_PAY_9089\"]==\"WK\")])\n",
    "wk17 = df[(df[\"YEAR\"]==2017)&(df[\"WAGE_OFFER_UNIT_OF_PAY_9089\"]==\"WK\")][\"CASE_STATUS\"].sum()/len(df[(df[\"YEAR\"]==2017)&(df[\"WAGE_OFFER_UNIT_OF_PAY_9089\"]==\"WK\")])\n",
    "wk18 = df[(df[\"YEAR\"]==2018)&(df[\"WAGE_OFFER_UNIT_OF_PAY_9089\"]==\"WK\")][\"CASE_STATUS\"].sum()/len(df[(df[\"YEAR\"]==2018)&(df[\"WAGE_OFFER_UNIT_OF_PAY_9089\"]==\"WK\")])\n",
    "wk19 = df[(df[\"YEAR\"]==2019)&(df[\"WAGE_OFFER_UNIT_OF_PAY_9089\"]==\"WK\")][\"CASE_STATUS\"].sum()/len(df[(df[\"YEAR\"]==2019)&(df[\"WAGE_OFFER_UNIT_OF_PAY_9089\"]==\"WK\")])\n",
    "wk20 = df[(df[\"YEAR\"]==2020)&(df[\"WAGE_OFFER_UNIT_OF_PAY_9089\"]==\"WK\")][\"CASE_STATUS\"].sum()/len(df[(df[\"YEAR\"]==2020)&(df[\"WAGE_OFFER_UNIT_OF_PAY_9089\"]==\"WK\")])\n",
    "wk21 = df[(df[\"YEAR\"]==2021)&(df[\"WAGE_OFFER_UNIT_OF_PAY_9089\"]==\"WK\")][\"CASE_STATUS\"].sum()/len(df[(df[\"YEAR\"]==2021)&(df[\"WAGE_OFFER_UNIT_OF_PAY_9089\"]==\"WK\")])\n",
    "wkdf = pd.DataFrame([wk07,wk08,wk09,wk10,wk11,wk12,wk13,wk14,wk15,wk16,wk17,wk18,wk19,wk20,wk21])\n",
    "wkdf.columns = [\"WK S%\"]"
   ]
  },
  {
   "cell_type": "code",
   "execution_count": 180,
   "id": "d9d787fa",
   "metadata": {},
   "outputs": [],
   "source": [
    "hr07 = df[(df[\"YEAR\"]==2007)&(df[\"WAGE_OFFER_UNIT_OF_PAY_9089\"]==\"HR\")][\"CASE_STATUS\"].sum()/len(df[(df[\"YEAR\"]==2007)&(df[\"WAGE_OFFER_UNIT_OF_PAY_9089\"]==\"HR\")])\n",
    "hr08 = df[(df[\"YEAR\"]==2008)&(df[\"WAGE_OFFER_UNIT_OF_PAY_9089\"]==\"HR\")][\"CASE_STATUS\"].sum()/len(df[(df[\"YEAR\"]==2008)&(df[\"WAGE_OFFER_UNIT_OF_PAY_9089\"]==\"HR\")])\n",
    "hr09 = df[(df[\"YEAR\"]==2009)&(df[\"WAGE_OFFER_UNIT_OF_PAY_9089\"]==\"HR\")][\"CASE_STATUS\"].sum()/len(df[(df[\"YEAR\"]==2009)&(df[\"WAGE_OFFER_UNIT_OF_PAY_9089\"]==\"HR\")])\n",
    "hr10 = df[(df[\"YEAR\"]==2010)&(df[\"WAGE_OFFER_UNIT_OF_PAY_9089\"]==\"HR\")][\"CASE_STATUS\"].sum()/len(df[(df[\"YEAR\"]==2010)&(df[\"WAGE_OFFER_UNIT_OF_PAY_9089\"]==\"HR\")])\n",
    "hr11 = df[(df[\"YEAR\"]==2011)&(df[\"WAGE_OFFER_UNIT_OF_PAY_9089\"]==\"HR\")][\"CASE_STATUS\"].sum()/len(df[(df[\"YEAR\"]==2011)&(df[\"WAGE_OFFER_UNIT_OF_PAY_9089\"]==\"HR\")])\n",
    "hr12 = df[(df[\"YEAR\"]==2012)&(df[\"WAGE_OFFER_UNIT_OF_PAY_9089\"]==\"HR\")][\"CASE_STATUS\"].sum()/len(df[(df[\"YEAR\"]==2012)&(df[\"WAGE_OFFER_UNIT_OF_PAY_9089\"]==\"HR\")])\n",
    "hr13 = df[(df[\"YEAR\"]==2013)&(df[\"WAGE_OFFER_UNIT_OF_PAY_9089\"]==\"HR\")][\"CASE_STATUS\"].sum()/len(df[(df[\"YEAR\"]==2013)&(df[\"WAGE_OFFER_UNIT_OF_PAY_9089\"]==\"HR\")])\n",
    "hr14 = df[(df[\"YEAR\"]==2014)&(df[\"WAGE_OFFER_UNIT_OF_PAY_9089\"]==\"HR\")][\"CASE_STATUS\"].sum()/len(df[(df[\"YEAR\"]==2014)&(df[\"WAGE_OFFER_UNIT_OF_PAY_9089\"]==\"HR\")])\n",
    "hr15 = df[(df[\"YEAR\"]==2015)&(df[\"WAGE_OFFER_UNIT_OF_PAY_9089\"]==\"HR\")][\"CASE_STATUS\"].sum()/len(df[(df[\"YEAR\"]==2015)&(df[\"WAGE_OFFER_UNIT_OF_PAY_9089\"]==\"HR\")])\n",
    "hr16 = df[(df[\"YEAR\"]==2016)&(df[\"WAGE_OFFER_UNIT_OF_PAY_9089\"]==\"HR\")][\"CASE_STATUS\"].sum()/len(df[(df[\"YEAR\"]==2016)&(df[\"WAGE_OFFER_UNIT_OF_PAY_9089\"]==\"HR\")])\n",
    "hr17 = df[(df[\"YEAR\"]==2017)&(df[\"WAGE_OFFER_UNIT_OF_PAY_9089\"]==\"HR\")][\"CASE_STATUS\"].sum()/len(df[(df[\"YEAR\"]==2017)&(df[\"WAGE_OFFER_UNIT_OF_PAY_9089\"]==\"HR\")])\n",
    "hr18 = df[(df[\"YEAR\"]==2018)&(df[\"WAGE_OFFER_UNIT_OF_PAY_9089\"]==\"HR\")][\"CASE_STATUS\"].sum()/len(df[(df[\"YEAR\"]==2018)&(df[\"WAGE_OFFER_UNIT_OF_PAY_9089\"]==\"HR\")])\n",
    "hr19 = df[(df[\"YEAR\"]==2019)&(df[\"WAGE_OFFER_UNIT_OF_PAY_9089\"]==\"HR\")][\"CASE_STATUS\"].sum()/len(df[(df[\"YEAR\"]==2019)&(df[\"WAGE_OFFER_UNIT_OF_PAY_9089\"]==\"HR\")])\n",
    "hr20 = df[(df[\"YEAR\"]==2020)&(df[\"WAGE_OFFER_UNIT_OF_PAY_9089\"]==\"HR\")][\"CASE_STATUS\"].sum()/len(df[(df[\"YEAR\"]==2020)&(df[\"WAGE_OFFER_UNIT_OF_PAY_9089\"]==\"HR\")])\n",
    "hr21 = df[(df[\"YEAR\"]==2021)&(df[\"WAGE_OFFER_UNIT_OF_PAY_9089\"]==\"HR\")][\"CASE_STATUS\"].sum()/len(df[(df[\"YEAR\"]==2021)&(df[\"WAGE_OFFER_UNIT_OF_PAY_9089\"]==\"HR\")])\n",
    "hrdf = pd.DataFrame([hr07,hr08,hr09,hr10,hr11,hr12,hr13,hr14,hr15,hr16,hr17,hr18,hr19,hr20,hr21])\n",
    "hrdf.columns = [\"HR S%\"]"
   ]
  },
  {
   "cell_type": "code",
   "execution_count": 204,
   "id": "47cfffb6",
   "metadata": {},
   "outputs": [],
   "source": [
    "yrunit = pd.concat([yrdf,mthdf,bidf,wkdf,hrdf],axis = 1)\n",
    "yrunit.index = [2007,2008,2009,2010,2011,2012,2013,2014,2015,2016,2017,2018,2019,2020,2021]\n",
    "yrunit = yrunit.fillna(0)"
   ]
  },
  {
   "cell_type": "code",
   "execution_count": 205,
   "id": "9e6faa05",
   "metadata": {},
   "outputs": [
    {
     "data": {
      "text/plain": [
       "<AxesSubplot:ylabel='Count'>"
      ]
     },
     "execution_count": 205,
     "metadata": {},
     "output_type": "execute_result"
    },
    {
     "data": {
      "image/png": "[encoded data removed]",
      "text/plain": [
       "<Figure size 864x720 with 1 Axes>"
      ]
     },
     "metadata": {
      "needs_background": "light"
     },
     "output_type": "display_data"
    }
   ],
   "source": [
    "plt.figure(figsize=(12,10))\n",
    "sns.histplot(data = yrunit)"
   ]
  },
  {
   "cell_type": "code",
   "execution_count": 206,
   "id": "4633bde7",
   "metadata": {},
   "outputs": [
    {
     "data": {
      "text/plain": [
       "<AxesSubplot:>"
      ]
     },
     "execution_count": 206,
     "metadata": {},
     "output_type": "execute_result"
    },
    {
     "data": {
      "image/png": "[encoded data removed]",
      "text/plain": [
       "<Figure size 864x720 with 1 Axes>"
      ]
     },
     "metadata": {
      "needs_background": "light"
     },
     "output_type": "display_data"
    }
   ],
   "source": [
    "plt.figure(figsize=(12,10))\n",
    "sns.lineplot(data = yrunit)"
   ]
  },
  {
   "cell_type": "code",
   "execution_count": 218,
   "id": "3ff2bea8",
   "metadata": {},
   "outputs": [
    {
     "name": "stdout",
     "output_type": "stream",
     "text": [
      "YR TREND OVER TIME: LinregressResult(slope=0.00535766180267656, intercept=-9.890748674463227, rvalue=0.8288179905658875, pvalue=0.00013406985317196058, stderr=0.0010031335433419218, intercept_stderr=2.0203156050339106)\n",
      "\n",
      "MTH TREND OVER TIME: LinregressResult(slope=-0.013421806237568744, intercept=27.63637772827003, rvalue=-0.4119585764335135, pvalue=0.12706178876084606, stderr=0.008233806906346812, intercept_stderr=16.58292526666949)\n",
      "\n",
      "BI TREND OVER TIME: LinregressResult(slope=-0.024646216867215742, intercept=49.986318875194435, rvalue=-0.5133518048526853, pvalue=0.050327514474668704, stderr=0.011427230935568564, intercept_stderr=23.01449606055718)\n",
      "\n",
      "WK TREND OVER TIME: LinregressResult(slope=-0.026620632140871615, intercept=54.04748158159838, rvalue=-0.7851139684552886, pvalue=0.0005251108417282723, stderr=0.005824398088700662, intercept_stderr=11.730364742195409)\n",
      "\n",
      "HR TREND OVER TIME: LinregressResult(slope=0.0073143763901101005, intercept=-14.047043223385286, rvalue=0.3517940652646688, pvalue=0.19848751050717472, stderr=0.005397950395498277, intercept_stderr=10.871497111832634)\n"
     ]
    }
   ],
   "source": [
    "print(\"YR TREND OVER TIME:\",st.linregress(yrunit.reset_index()[\"index\"],yrunit.reset_index()[\"YR S%\"]))\n",
    "print(\"\\nMTH TREND OVER TIME:\",st.linregress(yrunit.reset_index()[\"index\"],yrunit.reset_index()[\"MTH S%\"]))\n",
    "print(\"\\nBI TREND OVER TIME:\",st.linregress(yrunit.reset_index()[\"index\"],yrunit.reset_index()[\"BI S%\"]))\n",
    "print(\"\\nWK TREND OVER TIME:\",st.linregress(yrunit.reset_index()[\"index\"],yrunit.reset_index()[\"WK S%\"]))\n",
    "print(\"\\nHR TREND OVER TIME:\",st.linregress(yrunit.reset_index()[\"index\"],yrunit.reset_index()[\"HR S%\"]))"
   ]
  },
  {
   "cell_type": "code",
   "execution_count": 56,
   "id": "64d0ed95",
   "metadata": {},
   "outputs": [
    {
     "data": {
      "text/plain": [
       "<AxesSubplot:xlabel='YEAR', ylabel='count'>"
      ]
     },
     "execution_count": 56,
     "metadata": {},
     "output_type": "execute_result"
    },
    {
     "data": {
      "image/png": "[encoded data removed]",
      "text/plain": [
       "<Figure size 864x720 with 1 Axes>"
      ]
     },
     "metadata": {
      "needs_background": "light"
     },
     "output_type": "display_data"
    }
   ],
   "source": [
    "plt.figure(figsize=(12,10))\n",
    "sns.countplot(x = \"YEAR\", hue = \"PW_LEVEL_9089\",data=df,hue_order=[\"LEVEL I\",\"LEVEL II\",\"LEVEL III\",\"LEVEL IV\"])"
   ]
  },
  {
   "cell_type": "code",
   "execution_count": 57,
   "id": "3652ed54",
   "metadata": {},
   "outputs": [],
   "source": [
    "lo = df[df[\"PW_LEVEL_9089\"] == \"LEVEL I\"][\"CASE_STATUS\"].sum()/len(df[df[\"PW_LEVEL_9089\"] == \"LEVEL I\"])\n",
    "lt = df[df[\"PW_LEVEL_9089\"] == \"LEVEL II\"][\"CASE_STATUS\"].sum()/len(df[df[\"PW_LEVEL_9089\"] == \"LEVEL II\"])\n",
    "lth = df[df[\"PW_LEVEL_9089\"] == \"LEVEL III\"][\"CASE_STATUS\"].sum()/len(df[df[\"PW_LEVEL_9089\"] == \"LEVEL III\"])\n",
    "lf = df[df[\"PW_LEVEL_9089\"] == \"LEVEL IV\"][\"CASE_STATUS\"].sum()/len(df[df[\"PW_LEVEL_9089\"] == \"LEVEL IV\"])"
   ]
  },
  {
   "cell_type": "code",
   "execution_count": 58,
   "id": "9c70f505",
   "metadata": {},
   "outputs": [],
   "source": [
    "salw =(lo+lt+lth+lf)/4"
   ]
  },
  {
   "cell_type": "code",
   "execution_count": 59,
   "id": "685b5deb",
   "metadata": {},
   "outputs": [],
   "source": [
    "walw = (len(df[df[\"PW_LEVEL_9089\"] == \"LEVEL I\"])*lo+\n",
    "len(df[df[\"PW_LEVEL_9089\"] == \"LEVEL II\"])*lt+\n",
    "len(df[df[\"PW_LEVEL_9089\"] == \"LEVEL III\"])*lth+\n",
    "len(df[df[\"PW_LEVEL_9089\"] == \"LEVEL IV\"])*lf)/len(df[df[\"PW_LEVEL_9089\"].notna()])"
   ]
  },
  {
   "cell_type": "code",
   "execution_count": 60,
   "id": "dd0341b7",
   "metadata": {},
   "outputs": [
    {
     "data": {
      "text/html": [
       "<div>\n",
       "<style scoped>\n",
       "    .dataframe tbody tr th:only-of-type {\n",
       "        vertical-align: middle;\n",
       "    }\n",
       "\n",
       "    .dataframe tbody tr th {\n",
       "        vertical-align: top;\n",
       "    }\n",
       "\n",
       "    .dataframe thead th {\n",
       "        text-align: right;\n",
       "    }\n",
       "</style>\n",
       "<table border=\"1\" class=\"dataframe\">\n",
       "  <thead>\n",
       "    <tr style=\"text-align: right;\">\n",
       "      <th></th>\n",
       "      <th>LEVEL I</th>\n",
       "      <th>LEVEL II</th>\n",
       "      <th>LEVEL III</th>\n",
       "      <th>LEVEL IV</th>\n",
       "      <th>AVG</th>\n",
       "      <th>WAVG</th>\n",
       "    </tr>\n",
       "  </thead>\n",
       "  <tbody>\n",
       "    <tr>\n",
       "      <th>0</th>\n",
       "      <td>0.843937</td>\n",
       "      <td>0.89763</td>\n",
       "      <td>0.891358</td>\n",
       "      <td>0.901412</td>\n",
       "      <td>0.883584</td>\n",
       "      <td>0.884466</td>\n",
       "    </tr>\n",
       "  </tbody>\n",
       "</table>\n",
       "</div>"
      ],
      "text/plain": [
       "    LEVEL I  LEVEL II  LEVEL III  LEVEL IV       AVG      WAVG\n",
       "0  0.843937   0.89763   0.891358  0.901412  0.883584  0.884466"
      ]
     },
     "execution_count": 60,
     "metadata": {},
     "output_type": "execute_result"
    }
   ],
   "source": [
    "la = pd.DataFrame([lo,lt,lth,lf,salw,walw]).transpose()\n",
    "la.columns=[\"LEVEL I\",\"LEVEL II\",\"LEVEL III\",\"LEVEL IV\",\"AVG\",\"WAVG\"]\n",
    "la"
   ]
  },
  {
   "cell_type": "code",
   "execution_count": 194,
   "id": "8fbbc3b1",
   "metadata": {},
   "outputs": [],
   "source": [
    "lv107 = df[(df[\"YEAR\"]==2007)&(df[\"PW_LEVEL_9089\"]==\"LEVEL I\")][\"CASE_STATUS\"].sum()/len(df[(df[\"YEAR\"]==2007)&(df[\"PW_LEVEL_9089\"]==\"LEVEL I\")])\n",
    "lv108 = df[(df[\"YEAR\"]==2008)&(df[\"PW_LEVEL_9089\"]==\"LEVEL I\")][\"CASE_STATUS\"].sum()/len(df[(df[\"YEAR\"]==2008)&(df[\"PW_LEVEL_9089\"]==\"LEVEL I\")])\n",
    "lv109 = df[(df[\"YEAR\"]==2009)&(df[\"PW_LEVEL_9089\"]==\"LEVEL I\")][\"CASE_STATUS\"].sum()/len(df[(df[\"YEAR\"]==2009)&(df[\"PW_LEVEL_9089\"]==\"LEVEL I\")])\n",
    "lv110 = df[(df[\"YEAR\"]==2010)&(df[\"PW_LEVEL_9089\"]==\"LEVEL I\")][\"CASE_STATUS\"].sum()/len(df[(df[\"YEAR\"]==2010)&(df[\"PW_LEVEL_9089\"]==\"LEVEL I\")])\n",
    "lv111 = df[(df[\"YEAR\"]==2011)&(df[\"PW_LEVEL_9089\"]==\"LEVEL I\")][\"CASE_STATUS\"].sum()/len(df[(df[\"YEAR\"]==2011)&(df[\"PW_LEVEL_9089\"]==\"LEVEL I\")])\n",
    "lv112 = df[(df[\"YEAR\"]==2012)&(df[\"PW_LEVEL_9089\"]==\"LEVEL I\")][\"CASE_STATUS\"].sum()/len(df[(df[\"YEAR\"]==2012)&(df[\"PW_LEVEL_9089\"]==\"LEVEL I\")])\n",
    "lv113 = df[(df[\"YEAR\"]==2013)&(df[\"PW_LEVEL_9089\"]==\"LEVEL I\")][\"CASE_STATUS\"].sum()/len(df[(df[\"YEAR\"]==2013)&(df[\"PW_LEVEL_9089\"]==\"LEVEL I\")])\n",
    "lv114 = df[(df[\"YEAR\"]==2014)&(df[\"PW_LEVEL_9089\"]==\"LEVEL I\")][\"CASE_STATUS\"].sum()/len(df[(df[\"YEAR\"]==2014)&(df[\"PW_LEVEL_9089\"]==\"LEVEL I\")])\n",
    "lv115 = df[(df[\"YEAR\"]==2015)&(df[\"PW_LEVEL_9089\"]==\"LEVEL I\")][\"CASE_STATUS\"].sum()/len(df[(df[\"YEAR\"]==2015)&(df[\"PW_LEVEL_9089\"]==\"LEVEL I\")])\n",
    "lv116 = df[(df[\"YEAR\"]==2016)&(df[\"PW_LEVEL_9089\"]==\"LEVEL I\")][\"CASE_STATUS\"].sum()/len(df[(df[\"YEAR\"]==2016)&(df[\"PW_LEVEL_9089\"]==\"LEVEL I\")])\n",
    "lv117 = df[(df[\"YEAR\"]==2017)&(df[\"PW_LEVEL_9089\"]==\"LEVEL I\")][\"CASE_STATUS\"].sum()/len(df[(df[\"YEAR\"]==2017)&(df[\"PW_LEVEL_9089\"]==\"LEVEL I\")])\n",
    "lv118 = df[(df[\"YEAR\"]==2018)&(df[\"PW_LEVEL_9089\"]==\"LEVEL I\")][\"CASE_STATUS\"].sum()/len(df[(df[\"YEAR\"]==2018)&(df[\"PW_LEVEL_9089\"]==\"LEVEL I\")])\n",
    "lv119 = df[(df[\"YEAR\"]==2019)&(df[\"PW_LEVEL_9089\"]==\"LEVEL I\")][\"CASE_STATUS\"].sum()/len(df[(df[\"YEAR\"]==2019)&(df[\"PW_LEVEL_9089\"]==\"LEVEL I\")])\n",
    "lv120 = df[(df[\"YEAR\"]==2020)&(df[\"PW_LEVEL_9089\"]==\"LEVEL I\")][\"CASE_STATUS\"].sum()/len(df[(df[\"YEAR\"]==2020)&(df[\"PW_LEVEL_9089\"]==\"LEVEL I\")])\n",
    "lv121 = df[(df[\"YEAR\"]==2021)&(df[\"PW_LEVEL_9089\"]==\"LEVEL I\")][\"CASE_STATUS\"].sum()/len(df[(df[\"YEAR\"]==2021)&(df[\"PW_LEVEL_9089\"]==\"LEVEL I\")])\n",
    "lv1df = pd.DataFrame([lv107,lv108,lv109,lv110,lv111,lv112,lv113,lv114,lv115,lv116,lv117,lv118,lv119,lv120,lv121])\n",
    "lv1df.columns = [\"LEVEL I S%\"]"
   ]
  },
  {
   "cell_type": "code",
   "execution_count": 195,
   "id": "92518a5f",
   "metadata": {},
   "outputs": [],
   "source": [
    "lv207 = df[(df[\"YEAR\"]==2007)&(df[\"PW_LEVEL_9089\"]==\"LEVEL II\")][\"CASE_STATUS\"].sum()/len(df[(df[\"YEAR\"]==2007)&(df[\"PW_LEVEL_9089\"]==\"LEVEL II\")])\n",
    "lv208 = df[(df[\"YEAR\"]==2008)&(df[\"PW_LEVEL_9089\"]==\"LEVEL II\")][\"CASE_STATUS\"].sum()/len(df[(df[\"YEAR\"]==2008)&(df[\"PW_LEVEL_9089\"]==\"LEVEL II\")])\n",
    "lv209 = df[(df[\"YEAR\"]==2009)&(df[\"PW_LEVEL_9089\"]==\"LEVEL II\")][\"CASE_STATUS\"].sum()/len(df[(df[\"YEAR\"]==2009)&(df[\"PW_LEVEL_9089\"]==\"LEVEL II\")])\n",
    "lv210 = df[(df[\"YEAR\"]==2010)&(df[\"PW_LEVEL_9089\"]==\"LEVEL II\")][\"CASE_STATUS\"].sum()/len(df[(df[\"YEAR\"]==2010)&(df[\"PW_LEVEL_9089\"]==\"LEVEL II\")])\n",
    "lv211 = df[(df[\"YEAR\"]==2011)&(df[\"PW_LEVEL_9089\"]==\"LEVEL II\")][\"CASE_STATUS\"].sum()/len(df[(df[\"YEAR\"]==2011)&(df[\"PW_LEVEL_9089\"]==\"LEVEL II\")])\n",
    "lv212 = df[(df[\"YEAR\"]==2012)&(df[\"PW_LEVEL_9089\"]==\"LEVEL II\")][\"CASE_STATUS\"].sum()/len(df[(df[\"YEAR\"]==2012)&(df[\"PW_LEVEL_9089\"]==\"LEVEL II\")])\n",
    "lv213 = df[(df[\"YEAR\"]==2013)&(df[\"PW_LEVEL_9089\"]==\"LEVEL II\")][\"CASE_STATUS\"].sum()/len(df[(df[\"YEAR\"]==2013)&(df[\"PW_LEVEL_9089\"]==\"LEVEL II\")])\n",
    "lv214 = df[(df[\"YEAR\"]==2014)&(df[\"PW_LEVEL_9089\"]==\"LEVEL II\")][\"CASE_STATUS\"].sum()/len(df[(df[\"YEAR\"]==2014)&(df[\"PW_LEVEL_9089\"]==\"LEVEL II\")])\n",
    "lv215 = df[(df[\"YEAR\"]==2015)&(df[\"PW_LEVEL_9089\"]==\"LEVEL II\")][\"CASE_STATUS\"].sum()/len(df[(df[\"YEAR\"]==2015)&(df[\"PW_LEVEL_9089\"]==\"LEVEL II\")])\n",
    "lv216 = df[(df[\"YEAR\"]==2016)&(df[\"PW_LEVEL_9089\"]==\"LEVEL II\")][\"CASE_STATUS\"].sum()/len(df[(df[\"YEAR\"]==2016)&(df[\"PW_LEVEL_9089\"]==\"LEVEL II\")])\n",
    "lv217 = df[(df[\"YEAR\"]==2017)&(df[\"PW_LEVEL_9089\"]==\"LEVEL II\")][\"CASE_STATUS\"].sum()/len(df[(df[\"YEAR\"]==2017)&(df[\"PW_LEVEL_9089\"]==\"LEVEL II\")])\n",
    "lv218 = df[(df[\"YEAR\"]==2018)&(df[\"PW_LEVEL_9089\"]==\"LEVEL II\")][\"CASE_STATUS\"].sum()/len(df[(df[\"YEAR\"]==2018)&(df[\"PW_LEVEL_9089\"]==\"LEVEL II\")])\n",
    "lv219 = df[(df[\"YEAR\"]==2019)&(df[\"PW_LEVEL_9089\"]==\"LEVEL II\")][\"CASE_STATUS\"].sum()/len(df[(df[\"YEAR\"]==2019)&(df[\"PW_LEVEL_9089\"]==\"LEVEL II\")])\n",
    "lv220 = df[(df[\"YEAR\"]==2020)&(df[\"PW_LEVEL_9089\"]==\"LEVEL II\")][\"CASE_STATUS\"].sum()/len(df[(df[\"YEAR\"]==2020)&(df[\"PW_LEVEL_9089\"]==\"LEVEL II\")])\n",
    "lv221 = df[(df[\"YEAR\"]==2021)&(df[\"PW_LEVEL_9089\"]==\"LEVEL II\")][\"CASE_STATUS\"].sum()/len(df[(df[\"YEAR\"]==2021)&(df[\"PW_LEVEL_9089\"]==\"LEVEL II\")])\n",
    "lv2df = pd.DataFrame([lv207,lv208,lv209,lv210,lv211,lv212,lv213,lv214,lv215,lv216,lv217,lv218,lv219,lv220,lv221])\n",
    "lv2df.columns = [\"LEVEL II S%\"]"
   ]
  },
  {
   "cell_type": "code",
   "execution_count": 196,
   "id": "52ac3628",
   "metadata": {},
   "outputs": [],
   "source": [
    "lv307 = df[(df[\"YEAR\"]==2007)&(df[\"PW_LEVEL_9089\"]==\"LEVEL III\")][\"CASE_STATUS\"].sum()/len(df[(df[\"YEAR\"]==2007)&(df[\"PW_LEVEL_9089\"]==\"LEVEL III\")])\n",
    "lv308 = df[(df[\"YEAR\"]==2008)&(df[\"PW_LEVEL_9089\"]==\"LEVEL III\")][\"CASE_STATUS\"].sum()/len(df[(df[\"YEAR\"]==2008)&(df[\"PW_LEVEL_9089\"]==\"LEVEL III\")])\n",
    "lv309 = df[(df[\"YEAR\"]==2009)&(df[\"PW_LEVEL_9089\"]==\"LEVEL III\")][\"CASE_STATUS\"].sum()/len(df[(df[\"YEAR\"]==2009)&(df[\"PW_LEVEL_9089\"]==\"LEVEL III\")])\n",
    "lv310 = df[(df[\"YEAR\"]==2010)&(df[\"PW_LEVEL_9089\"]==\"LEVEL III\")][\"CASE_STATUS\"].sum()/len(df[(df[\"YEAR\"]==2010)&(df[\"PW_LEVEL_9089\"]==\"LEVEL III\")])\n",
    "lv311 = df[(df[\"YEAR\"]==2011)&(df[\"PW_LEVEL_9089\"]==\"LEVEL III\")][\"CASE_STATUS\"].sum()/len(df[(df[\"YEAR\"]==2011)&(df[\"PW_LEVEL_9089\"]==\"LEVEL III\")])\n",
    "lv312 = df[(df[\"YEAR\"]==2012)&(df[\"PW_LEVEL_9089\"]==\"LEVEL III\")][\"CASE_STATUS\"].sum()/len(df[(df[\"YEAR\"]==2012)&(df[\"PW_LEVEL_9089\"]==\"LEVEL III\")])\n",
    "lv313 = df[(df[\"YEAR\"]==2013)&(df[\"PW_LEVEL_9089\"]==\"LEVEL III\")][\"CASE_STATUS\"].sum()/len(df[(df[\"YEAR\"]==2013)&(df[\"PW_LEVEL_9089\"]==\"LEVEL III\")])\n",
    "lv314 = df[(df[\"YEAR\"]==2014)&(df[\"PW_LEVEL_9089\"]==\"LEVEL III\")][\"CASE_STATUS\"].sum()/len(df[(df[\"YEAR\"]==2014)&(df[\"PW_LEVEL_9089\"]==\"LEVEL III\")])\n",
    "lv315 = df[(df[\"YEAR\"]==2015)&(df[\"PW_LEVEL_9089\"]==\"LEVEL III\")][\"CASE_STATUS\"].sum()/len(df[(df[\"YEAR\"]==2015)&(df[\"PW_LEVEL_9089\"]==\"LEVEL III\")])\n",
    "lv316 = df[(df[\"YEAR\"]==2016)&(df[\"PW_LEVEL_9089\"]==\"LEVEL III\")][\"CASE_STATUS\"].sum()/len(df[(df[\"YEAR\"]==2016)&(df[\"PW_LEVEL_9089\"]==\"LEVEL III\")])\n",
    "lv317 = df[(df[\"YEAR\"]==2017)&(df[\"PW_LEVEL_9089\"]==\"LEVEL III\")][\"CASE_STATUS\"].sum()/len(df[(df[\"YEAR\"]==2017)&(df[\"PW_LEVEL_9089\"]==\"LEVEL III\")])\n",
    "lv318 = df[(df[\"YEAR\"]==2018)&(df[\"PW_LEVEL_9089\"]==\"LEVEL III\")][\"CASE_STATUS\"].sum()/len(df[(df[\"YEAR\"]==2018)&(df[\"PW_LEVEL_9089\"]==\"LEVEL III\")])\n",
    "lv319 = df[(df[\"YEAR\"]==2019)&(df[\"PW_LEVEL_9089\"]==\"LEVEL III\")][\"CASE_STATUS\"].sum()/len(df[(df[\"YEAR\"]==2019)&(df[\"PW_LEVEL_9089\"]==\"LEVEL III\")])\n",
    "lv320 = df[(df[\"YEAR\"]==2020)&(df[\"PW_LEVEL_9089\"]==\"LEVEL III\")][\"CASE_STATUS\"].sum()/len(df[(df[\"YEAR\"]==2020)&(df[\"PW_LEVEL_9089\"]==\"LEVEL III\")])\n",
    "lv321 = df[(df[\"YEAR\"]==2021)&(df[\"PW_LEVEL_9089\"]==\"LEVEL III\")][\"CASE_STATUS\"].sum()/len(df[(df[\"YEAR\"]==2021)&(df[\"PW_LEVEL_9089\"]==\"LEVEL III\")])\n",
    "lv3df = pd.DataFrame([lv307,lv308,lv309,lv310,lv311,lv312,lv313,lv314,lv315,lv316,lv317,lv318,lv319,lv320,lv321])\n",
    "lv3df.columns = [\"LEVEL III S%\"]"
   ]
  },
  {
   "cell_type": "code",
   "execution_count": 197,
   "id": "92b5ca9b",
   "metadata": {},
   "outputs": [],
   "source": [
    "lv407 = df[(df[\"YEAR\"]==2007)&(df[\"PW_LEVEL_9089\"]==\"LEVEL IV\")][\"CASE_STATUS\"].sum()/len(df[(df[\"YEAR\"]==2007)&(df[\"PW_LEVEL_9089\"]==\"LEVEL IV\")])\n",
    "lv408 = df[(df[\"YEAR\"]==2008)&(df[\"PW_LEVEL_9089\"]==\"LEVEL IV\")][\"CASE_STATUS\"].sum()/len(df[(df[\"YEAR\"]==2008)&(df[\"PW_LEVEL_9089\"]==\"LEVEL IV\")])\n",
    "lv409 = df[(df[\"YEAR\"]==2009)&(df[\"PW_LEVEL_9089\"]==\"LEVEL IV\")][\"CASE_STATUS\"].sum()/len(df[(df[\"YEAR\"]==2009)&(df[\"PW_LEVEL_9089\"]==\"LEVEL IV\")])\n",
    "lv410 = df[(df[\"YEAR\"]==2010)&(df[\"PW_LEVEL_9089\"]==\"LEVEL IV\")][\"CASE_STATUS\"].sum()/len(df[(df[\"YEAR\"]==2010)&(df[\"PW_LEVEL_9089\"]==\"LEVEL IV\")])\n",
    "lv411 = df[(df[\"YEAR\"]==2011)&(df[\"PW_LEVEL_9089\"]==\"LEVEL IV\")][\"CASE_STATUS\"].sum()/len(df[(df[\"YEAR\"]==2011)&(df[\"PW_LEVEL_9089\"]==\"LEVEL IV\")])\n",
    "lv412 = df[(df[\"YEAR\"]==2012)&(df[\"PW_LEVEL_9089\"]==\"LEVEL IV\")][\"CASE_STATUS\"].sum()/len(df[(df[\"YEAR\"]==2012)&(df[\"PW_LEVEL_9089\"]==\"LEVEL IV\")])\n",
    "lv413 = df[(df[\"YEAR\"]==2013)&(df[\"PW_LEVEL_9089\"]==\"LEVEL IV\")][\"CASE_STATUS\"].sum()/len(df[(df[\"YEAR\"]==2013)&(df[\"PW_LEVEL_9089\"]==\"LEVEL IV\")])\n",
    "lv414 = df[(df[\"YEAR\"]==2014)&(df[\"PW_LEVEL_9089\"]==\"LEVEL IV\")][\"CASE_STATUS\"].sum()/len(df[(df[\"YEAR\"]==2014)&(df[\"PW_LEVEL_9089\"]==\"LEVEL IV\")])\n",
    "lv415 = df[(df[\"YEAR\"]==2015)&(df[\"PW_LEVEL_9089\"]==\"LEVEL IV\")][\"CASE_STATUS\"].sum()/len(df[(df[\"YEAR\"]==2015)&(df[\"PW_LEVEL_9089\"]==\"LEVEL IV\")])\n",
    "lv416 = df[(df[\"YEAR\"]==2016)&(df[\"PW_LEVEL_9089\"]==\"LEVEL IV\")][\"CASE_STATUS\"].sum()/len(df[(df[\"YEAR\"]==2016)&(df[\"PW_LEVEL_9089\"]==\"LEVEL IV\")])\n",
    "lv417 = df[(df[\"YEAR\"]==2017)&(df[\"PW_LEVEL_9089\"]==\"LEVEL IV\")][\"CASE_STATUS\"].sum()/len(df[(df[\"YEAR\"]==2017)&(df[\"PW_LEVEL_9089\"]==\"LEVEL IV\")])\n",
    "lv418 = df[(df[\"YEAR\"]==2018)&(df[\"PW_LEVEL_9089\"]==\"LEVEL IV\")][\"CASE_STATUS\"].sum()/len(df[(df[\"YEAR\"]==2018)&(df[\"PW_LEVEL_9089\"]==\"LEVEL IV\")])\n",
    "lv419 = df[(df[\"YEAR\"]==2019)&(df[\"PW_LEVEL_9089\"]==\"LEVEL IV\")][\"CASE_STATUS\"].sum()/len(df[(df[\"YEAR\"]==2019)&(df[\"PW_LEVEL_9089\"]==\"LEVEL IV\")])\n",
    "lv420 = df[(df[\"YEAR\"]==2020)&(df[\"PW_LEVEL_9089\"]==\"LEVEL IV\")][\"CASE_STATUS\"].sum()/len(df[(df[\"YEAR\"]==2020)&(df[\"PW_LEVEL_9089\"]==\"LEVEL IV\")])\n",
    "lv421 = df[(df[\"YEAR\"]==2021)&(df[\"PW_LEVEL_9089\"]==\"LEVEL IV\")][\"CASE_STATUS\"].sum()/len(df[(df[\"YEAR\"]==2021)&(df[\"PW_LEVEL_9089\"]==\"LEVEL IV\")])\n",
    "lv4df = pd.DataFrame([lv407,lv408,lv409,lv410,lv411,lv412,lv413,lv414,lv415,lv416,lv417,lv418,lv419,lv420,lv421])\n",
    "lv4df.columns = [\"LEVEL IV S%\"]"
   ]
  },
  {
   "cell_type": "code",
   "execution_count": 198,
   "id": "5eb5097d",
   "metadata": {},
   "outputs": [],
   "source": [
    "yrlevel = pd.concat([lv1df,lv2df,lv3df,lv4df],axis = 1)\n",
    "yrlevel.index = [2007,2008,2009,2010,2011,2012,2013,2014,2015,2016,2017,2018,2019,2020,2021]"
   ]
  },
  {
   "cell_type": "code",
   "execution_count": 199,
   "id": "36524376",
   "metadata": {},
   "outputs": [
    {
     "data": {
      "text/plain": [
       "<AxesSubplot:ylabel='Count'>"
      ]
     },
     "execution_count": 199,
     "metadata": {},
     "output_type": "execute_result"
    },
    {
     "data": {
      "image/png": "[encoded data removed]",
      "text/plain": [
       "<Figure size 864x720 with 1 Axes>"
      ]
     },
     "metadata": {
      "needs_background": "light"
     },
     "output_type": "display_data"
    }
   ],
   "source": [
    "plt.figure(figsize=(12,10))\n",
    "sns.histplot(data = yrlevel)"
   ]
  },
  {
   "cell_type": "code",
   "execution_count": 200,
   "id": "f9e56b81",
   "metadata": {},
   "outputs": [
    {
     "data": {
      "text/plain": [
       "<AxesSubplot:>"
      ]
     },
     "execution_count": 200,
     "metadata": {},
     "output_type": "execute_result"
    },
    {
     "data": {
      "image/png": "[encoded data removed]",
      "text/plain": [
       "<Figure size 864x720 with 1 Axes>"
      ]
     },
     "metadata": {
      "needs_background": "light"
     },
     "output_type": "display_data"
    }
   ],
   "source": [
    "plt.figure(figsize=(12,10))\n",
    "sns.lineplot(data = yrlevel)"
   ]
  },
  {
   "cell_type": "code",
   "execution_count": 219,
   "id": "beee41d9",
   "metadata": {},
   "outputs": [
    {
     "name": "stdout",
     "output_type": "stream",
     "text": [
      "LEVEL I TREND OVER TIME: LinregressResult(slope=0.0064448444208092875, intercept=-12.144792701872914, rvalue=0.7918009242726579, pvalue=0.00043506974561367313, stderr=0.0013788246347204074, intercept_stderr=2.7769592041060056)\n",
      "\n",
      "LEVEL II TREND OVER TIME: LinregressResult(slope=0.00906031650629961, intercept=-17.362346561922102, rvalue=0.868081745624932, pvalue=2.7230835483054605e-05, stderr=0.0014370155098641366, intercept_stderr=2.8941558963148952)\n",
      "\n",
      "LEVEL III TREND OVER TIME: LinregressResult(slope=0.012371972747032282, intercept=-24.046847377447076, rvalue=0.942368300436613, pvalue=1.5040867215799158e-07, stderr=0.0012182687779236643, intercept_stderr=2.453598964465922)\n",
      "\n",
      "LEVEL IV TREND OVER TIME: LinregressResult(slope=0.017985639822000788, intercept=-35.362460973587886, rvalue=0.8598130444927724, pvalue=3.959441687691571e-05, stderr=0.002962365444044293, intercept_stderr=5.966217732563565)\n"
     ]
    }
   ],
   "source": [
    "print(\"LEVEL I TREND OVER TIME:\",st.linregress(yrlevel.reset_index()[\"index\"],yrlevel.reset_index()[\"LEVEL I S%\"]))\n",
    "print(\"\\nLEVEL II TREND OVER TIME:\",st.linregress(yrlevel.reset_index()[\"index\"],yrlevel.reset_index()[\"LEVEL II S%\"]))\n",
    "print(\"\\nLEVEL III TREND OVER TIME:\",st.linregress(yrlevel.reset_index()[\"index\"],yrlevel.reset_index()[\"LEVEL III S%\"]))\n",
    "print(\"\\nLEVEL IV TREND OVER TIME:\",st.linregress(yrlevel.reset_index()[\"index\"],yrlevel.reset_index()[\"LEVEL IV S%\"]))"
   ]
  },
  {
   "cell_type": "code",
   "execution_count": 201,
   "id": "2c9ac886",
   "metadata": {},
   "outputs": [],
   "source": [
    "levelaccept = pd.concat([pd.get_dummies(df.dropna()[\"PW_LEVEL_9089\"]),df.dropna()[\"CASE_STATUS\"]],axis = 1)"
   ]
  },
  {
   "cell_type": "code",
   "execution_count": 202,
   "id": "af750d25",
   "metadata": {},
   "outputs": [
    {
     "data": {
      "text/plain": [
       "LEVEL I       -0.062216\n",
       "LEVEL II       0.024300\n",
       "LEVEL III      0.007250\n",
       "LEVEL IV       0.027179\n",
       "CASE_STATUS    1.000000\n",
       "Name: CASE_STATUS, dtype: float64"
      ]
     },
     "execution_count": 202,
     "metadata": {},
     "output_type": "execute_result"
    }
   ],
   "source": [
    "levelaccept.corr()[\"CASE_STATUS\"]"
   ]
  },
  {
   "cell_type": "code",
   "execution_count": 61,
   "id": "dbebb2cf",
   "metadata": {},
   "outputs": [
    {
     "data": {
      "text/plain": [
       "<AxesSubplot:xlabel='DISC_UNIT', ylabel='count'>"
      ]
     },
     "execution_count": 61,
     "metadata": {},
     "output_type": "execute_result"
    },
    {
     "data": {
      "image/png": "[encoded data removed]",
      "text/plain": [
       "<Figure size 432x288 with 1 Axes>"
      ]
     },
     "metadata": {
      "needs_background": "light"
     },
     "output_type": "display_data"
    }
   ],
   "source": [
    "plt.figure(figsize=(12,10))\n",
    "sns.countplot(x = \"DISC_UNIT\",data = df, hue = \"CASE_STATUS\")"
   ]
  },
  {
   "cell_type": "code",
   "execution_count": 62,
   "id": "98db62ab",
   "metadata": {},
   "outputs": [
    {
     "data": {
      "text/plain": [
       "<AxesSubplot:xlabel='YEAR'>"
      ]
     },
     "execution_count": 62,
     "metadata": {},
     "output_type": "execute_result"
    },
    {
     "data": {
      "image/png": "[encoded data removed]",
      "text/plain": [
       "<Figure size 864x720 with 2 Axes>"
      ]
     },
     "metadata": {
      "needs_background": "light"
     },
     "output_type": "display_data"
    }
   ],
   "source": [
    "fig,axes = plt.subplots(ncols = 2, figsize = (12,10))\n",
    "df.groupby(\"YEAR\")[\"OW-PW\"].mean().plot(ax = axes[0],kind = \"bar\")\n",
    "df.groupby(\"YEAR\")[\"OW-PW\"].quantile(.5).plot(ax = axes[1],kind = \"bar\")"
   ]
  },
  {
   "cell_type": "code",
   "execution_count": 63,
   "id": "e5af263e",
   "metadata": {},
   "outputs": [
    {
     "data": {
      "text/plain": [
       "<AxesSubplot:>"
      ]
     },
     "execution_count": 63,
     "metadata": {},
     "output_type": "execute_result"
    },
    {
     "data": {
      "image/png": "[encoded data removed]",
      "text/plain": [
       "<Figure size 864x720 with 1 Axes>"
      ]
     },
     "metadata": {
      "needs_background": "light"
     },
     "output_type": "display_data"
    }
   ],
   "source": [
    "plt.figure(figsize = (12,10))\n",
    "df[\"COUNTRY_OF_CITZENSHIP\"].value_counts().nlargest(15).plot(kind = \"bar\")"
   ]
  },
  {
   "cell_type": "code",
   "execution_count": 67,
   "id": "8197b899",
   "metadata": {},
   "outputs": [
    {
     "data": {
      "text/plain": [
       "<AxesSubplot:>"
      ]
     },
     "execution_count": 67,
     "metadata": {},
     "output_type": "execute_result"
    },
    {
     "data": {
      "image/png": "[encoded data removed]",
      "text/plain": [
       "<Figure size 864x720 with 1 Axes>"
      ]
     },
     "metadata": {
      "needs_background": "light"
     },
     "output_type": "display_data"
    }
   ],
   "source": [
    "plt.figure(figsize = (12,10))\n",
    "df[\"CLASS_OF_ADMISSION\"].value_counts().nlargest(5).plot(kind = \"bar\")"
   ]
  },
  {
   "cell_type": "code",
   "execution_count": 68,
   "id": "00b8896d",
   "metadata": {},
   "outputs": [
    {
     "data": {
      "text/plain": [
       "<AxesSubplot:>"
      ]
     },
     "execution_count": 68,
     "metadata": {},
     "output_type": "execute_result"
    },
    {
     "data": {
      "image/png": "[encoded data removed]",
      "text/plain": [
       "<Figure size 864x720 with 2 Axes>"
      ]
     },
     "metadata": {
      "needs_background": "light"
     },
     "output_type": "display_data"
    }
   ],
   "source": [
    "fig,axes = plt.subplots(ncols = 2, figsize = (12,10))\n",
    "df[\"EMPLOYER_CITY\"].value_counts().nlargest(15).plot(ax = axes[0],kind = \"bar\")\n",
    "df[\"JOB_INFO_WORK_CITY\"].value_counts().nlargest(15).plot(ax = axes[1],kind = \"bar\")"
   ]
  },
  {
   "cell_type": "code",
   "execution_count": 69,
   "id": "604b4404",
   "metadata": {},
   "outputs": [
    {
     "data": {
      "text/plain": [
       "<AxesSubplot:>"
      ]
     },
     "execution_count": 69,
     "metadata": {},
     "output_type": "execute_result"
    },
    {
     "data": {
      "image/png": "[encoded data removed]",
      "text/plain": [
       "<Figure size 864x720 with 2 Axes>"
      ]
     },
     "metadata": {
      "needs_background": "light"
     },
     "output_type": "display_data"
    }
   ],
   "source": [
    "fig,axes = plt.subplots(ncols = 2, figsize = (12,10))\n",
    "df[\"EMPLOYER_STATE\"].value_counts().nlargest(15).plot(ax = axes[0], kind = \"bar\")\n",
    "df[\"JOB_INFO_WORK_STATE\"].value_counts().nlargest(15).plot(ax = axes[1], kind = \"bar\")"
   ]
  },
  {
   "cell_type": "code",
   "execution_count": 72,
   "id": "217c9429",
   "metadata": {},
   "outputs": [
    {
     "data": {
      "text/plain": [
       "<AxesSubplot:xlabel='DISC_ST', ylabel='count'>"
      ]
     },
     "execution_count": 72,
     "metadata": {},
     "output_type": "execute_result"
    },
    {
     "data": {
      "image/png": "[encoded data removed]",
      "text/plain": [
       "<Figure size 432x288 with 1 Axes>"
      ]
     },
     "metadata": {
      "needs_background": "light"
     },
     "output_type": "display_data"
    }
   ],
   "source": [
    "sns.countplot( x = \"DISC_ST\", hue = \"CASE_STATUS\", data = df)"
   ]
  },
  {
   "cell_type": "code",
   "execution_count": 73,
   "id": "3cb25cdc",
   "metadata": {},
   "outputs": [
    {
     "data": {
      "text/plain": [
       "<AxesSubplot:xlabel='DISC_CTY', ylabel='count'>"
      ]
     },
     "execution_count": 73,
     "metadata": {},
     "output_type": "execute_result"
    },
    {
     "data": {
      "image/png": "[encoded data removed]",
      "text/plain": [
       "<Figure size 432x288 with 1 Axes>"
      ]
     },
     "metadata": {
      "needs_background": "light"
     },
     "output_type": "display_data"
    }
   ],
   "source": [
    "sns.countplot( x = \"DISC_CTY\", hue = \"CASE_STATUS\", data = df)"
   ]
  },
  {
   "cell_type": "code",
   "execution_count": 74,
   "id": "7d0d66a5",
   "metadata": {},
   "outputs": [
    {
     "data": {
      "text/plain": [
       "Index(['CASE_STATUS', 'EMPLOYER_NAME', 'EMPLOYER_CITY', 'EMPLOYER_STATE',\n",
       "       'PW_LEVEL_9089', 'PW_AMOUNT_9089', 'PW_UNIT_OF_PAY_9089',\n",
       "       'WAGE_OFFER_FROM_9089', 'WAGE_OFFER_UNIT_OF_PAY_9089',\n",
       "       'JOB_INFO_WORK_CITY', 'JOB_INFO_WORK_STATE', 'COUNTRY_OF_CITZENSHIP',\n",
       "       'CLASS_OF_ADMISSION', 'PW_SOC_CODE', 'MONTH', 'YEAR', 'WO_A', 'PW_A',\n",
       "       'OW-PW', 'DISC_ST', 'DISC_CTY', 'DISC_UNIT'],\n",
       "      dtype='object')"
      ]
     },
     "execution_count": 74,
     "metadata": {},
     "output_type": "execute_result"
    }
   ],
   "source": [
    "df.columns"
   ]
  },
  {
   "cell_type": "code",
   "execution_count": null,
   "id": "f687e451",
   "metadata": {},
   "outputs": [],
   "source": []
  }
 ],
 "metadata": {
  "kernelspec": {
   "display_name": "Python 3 (ipykernel)",
   "language": "python",
   "name": "python3"
  },
  "language_info": {
   "codemirror_mode": {
    "name": "ipython",
    "version": 3
   },
   "file_extension": ".py",
   "mimetype": "text/x-python",
   "name": "python",
   "nbconvert_exporter": "python",
   "pygments_lexer": "ipython3",
   "version": "3.9.7"
  }
 },
 "nbformat": 4,
 "nbformat_minor": 5
}
